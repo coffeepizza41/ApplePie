{
 "cells": [
  {
   "cell_type": "markdown",
   "metadata": {},
   "source": [
    "# Q1"
   ]
  },
  {
   "cell_type": "code",
   "execution_count": 3,
   "metadata": {},
   "outputs": [
    {
     "name": "stdout",
     "output_type": "stream",
     "text": [
      "3\n"
     ]
    }
   ],
   "source": [
    "# Q1. 다음 클래스를 상속하는 UpgradeCalculator를 만들고 minus 메서드 추가\n",
    "\n",
    "class Calculator:\n",
    "    def __init__(self):\n",
    "        self.value = 0\n",
    "\n",
    "    def add(self, val):\n",
    "        self.value += val\n",
    "        \n",
    "class UpgradeCalculator(Calculator):\n",
    "    def minus(self, val):\n",
    "        self.value -= val\n",
    "        \n",
    "cal = UpgradeCalculator()\n",
    "cal.add(10)\n",
    "cal.minus(7)\n",
    "\n",
    "print(cal.value)"
   ]
  },
  {
   "cell_type": "markdown",
   "metadata": {},
   "source": [
    "# Q2"
   ]
  },
  {
   "cell_type": "code",
   "execution_count": 15,
   "metadata": {},
   "outputs": [
    {
     "name": "stdout",
     "output_type": "stream",
     "text": [
      "100\n"
     ]
    }
   ],
   "source": [
    "# Q2. MaxLimitCalculator 클래스 만들기\n",
    "\n",
    "class Calculator:\n",
    "    def __init__(self):\n",
    "        self.value = 0\n",
    "\n",
    "    def add(self, val):\n",
    "        self.value += val\n",
    "        \n",
    "class MaxLimitCalculator(Calculator):\n",
    "    def add(self, val):\n",
    "        self.value += val\n",
    "        if self.value >= 100:\n",
    "            self.value = 100\n",
    "\n",
    "cal = MaxLimitCalculator()\n",
    "cal.add(50) # 50 더하기\n",
    "cal.add(60) # 60 더하기 \n",
    "\n",
    "print(cal.value) # 100 출력 "
   ]
  },
  {
   "cell_type": "markdown",
   "metadata": {},
   "source": [
    "# Q3"
   ]
  },
  {
   "cell_type": "code",
   "execution_count": 16,
   "metadata": {},
   "outputs": [
    {
     "data": {
      "text/plain": [
       "True"
      ]
     },
     "execution_count": 16,
     "metadata": {},
     "output_type": "execute_result"
    }
   ],
   "source": [
    "# Q3. 다음 결과 예측\n",
    "\n",
    "# 1\n",
    "all([1,2,abs(-3)-3]) # False\n",
    "\n",
    "#2\n",
    "chr(ord('a')) == 'a' # True"
   ]
  },
  {
   "cell_type": "markdown",
   "metadata": {},
   "source": [
    "# Q4"
   ]
  },
  {
   "cell_type": "code",
   "execution_count": 17,
   "metadata": {},
   "outputs": [
    {
     "data": {
      "text/plain": [
       "[1, 3, 8]"
      ]
     },
     "execution_count": 17,
     "metadata": {},
     "output_type": "execute_result"
    }
   ],
   "source": [
    "# Q4. filter와 lambda를 사용해서 음수 제거하기\n",
    "\n",
    "list(filter(lambda x: x>=0,[1, -2, 3, -5, 8, -3]))"
   ]
  },
  {
   "cell_type": "markdown",
   "metadata": {},
   "source": [
    "# Q5"
   ]
  },
  {
   "cell_type": "code",
   "execution_count": 21,
   "metadata": {},
   "outputs": [
    {
     "data": {
      "text/plain": [
       "234"
      ]
     },
     "execution_count": 21,
     "metadata": {},
     "output_type": "execute_result"
    }
   ],
   "source": [
    "# Q5. 16진수 문자열 0xea를 10진수로\n",
    "\n",
    "hex(234) # 10진수 -> 16진수\n",
    "int(\"0xea\", 16) # int(a,b); b진수 숫자 a를 10진수로 바꿔줌  "
   ]
  },
  {
   "cell_type": "markdown",
   "metadata": {},
   "source": [
    "# Q6"
   ]
  },
  {
   "cell_type": "code",
   "execution_count": 22,
   "metadata": {},
   "outputs": [
    {
     "data": {
      "text/plain": [
       "[3, 6, 9, 12]"
      ]
     },
     "execution_count": 22,
     "metadata": {},
     "output_type": "execute_result"
    }
   ],
   "source": [
    "# Q6. map과 lambda를 사용하여 3배가 된 리스트 만들기\n",
    "\n",
    "list(map(lambda x: x*3,[1,2,3,4]))"
   ]
  },
  {
   "cell_type": "markdown",
   "metadata": {},
   "source": [
    "# Q7"
   ]
  },
  {
   "cell_type": "code",
   "execution_count": 24,
   "metadata": {},
   "outputs": [
    {
     "data": {
      "text/plain": [
       "-1"
      ]
     },
     "execution_count": 24,
     "metadata": {},
     "output_type": "execute_result"
    }
   ],
   "source": [
    "# Q7. 다음 리스트의 최대값, 최소값읭 합을 구하기\n",
    "\n",
    "x = [-8, 2, 7, 5, -3, 5, 0, 1]\n",
    "\n",
    "max(x) + min(x) # -1"
   ]
  },
  {
   "cell_type": "markdown",
   "metadata": {},
   "source": [
    "# Q8"
   ]
  },
  {
   "cell_type": "code",
   "execution_count": 25,
   "metadata": {},
   "outputs": [
    {
     "data": {
      "text/plain": [
       "5.6667"
      ]
     },
     "execution_count": 25,
     "metadata": {},
     "output_type": "execute_result"
    }
   ],
   "source": [
    "# Q8. 17/3을 소수점 4자리까지 반올림해서 나타내기\n",
    "\n",
    "round(17/3, 4)"
   ]
  },
  {
   "cell_type": "markdown",
   "metadata": {},
   "source": [
    "# Q9(*)"
   ]
  },
  {
   "cell_type": "code",
   "execution_count": 26,
   "metadata": {},
   "outputs": [],
   "source": [
    "# Q9. 다음 입력값을 모두 더하여 출력하는 스크립트를 작성해보자\n",
    "# by sys.argv"
   ]
  },
  {
   "cell_type": "markdown",
   "metadata": {},
   "source": [
    "# Q10(*)"
   ]
  },
  {
   "cell_type": "code",
   "execution_count": 27,
   "metadata": {},
   "outputs": [],
   "source": [
    "# Q10. os 모듈을 사용해 다음 코드를 작성해보자\n",
    "# 1. C:\\doit 디렉터리로 이동\n",
    "# 2. dir 명령 실행 후 그 결과를 변수에 담기\n",
    "# 3. dir 명령의 결과 출력 "
   ]
  },
  {
   "cell_type": "markdown",
   "metadata": {},
   "source": [
    "# Q11(*)"
   ]
  },
  {
   "cell_type": "code",
   "execution_count": 28,
   "metadata": {},
   "outputs": [],
   "source": [
    "# Q11. glob 모듈을 사용하여 C:\\doit 디렉터리 파일 중 .py인 파일만 출력하기"
   ]
  },
  {
   "cell_type": "markdown",
   "metadata": {},
   "source": [
    "# Q12"
   ]
  },
  {
   "cell_type": "code",
   "execution_count": 32,
   "metadata": {},
   "outputs": [
    {
     "data": {
      "text/plain": [
       "'2020/07/29 04:59:46'"
      ]
     },
     "execution_count": 32,
     "metadata": {},
     "output_type": "execute_result"
    }
   ],
   "source": [
    "# Q12. time 모듈을 사용하여 현재 날짜와 시간을 다음과 같은 형식으로 출력하기\n",
    "\n",
    "import time\n",
    "time.strftime(\"%Y/%m/%d %H:%M:%S\") # %Y:년, %m:월, %d:일, %H:시, %M:분, %S:초"
   ]
  },
  {
   "cell_type": "markdown",
   "metadata": {},
   "source": [
    "# Q13"
   ]
  },
  {
   "cell_type": "code",
   "execution_count": 41,
   "metadata": {},
   "outputs": [
    {
     "data": {
      "text/plain": [
       "[34, 20, 11, 42, 3, 17]"
      ]
     },
     "execution_count": 41,
     "metadata": {},
     "output_type": "execute_result"
    }
   ],
   "source": [
    "# Q13. random 모듈을 사용하여 로또번호 6개 생성(단, 중복 X)\n",
    "\n",
    "import random\n",
    "random.randint(1,45)\n",
    "\n",
    "res = []\n",
    "while len(res) < 6: # res가 6개가 되면 stop \n",
    "    num = random.randint(1,45) # 1-45 사이 정수 난수 발생 \n",
    "    if num not in res: # num이 res에 없으면 \n",
    "        res.append(num) # res에 추가; 중복 거르기\n",
    "        \n",
    "res"
   ]
  }
 ],
 "metadata": {
  "kernelspec": {
   "display_name": "Python 3",
   "language": "python",
   "name": "python3"
  },
  "language_info": {
   "codemirror_mode": {
    "name": "ipython",
    "version": 3
   },
   "file_extension": ".py",
   "mimetype": "text/x-python",
   "name": "python",
   "nbconvert_exporter": "python",
   "pygments_lexer": "ipython3",
   "version": "3.7.3"
  }
 },
 "nbformat": 4,
 "nbformat_minor": 2
}
