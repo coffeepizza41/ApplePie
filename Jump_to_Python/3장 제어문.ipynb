{
 "cells": [
  {
   "cell_type": "markdown",
   "metadata": {},
   "source": [
    "# 1. if문"
   ]
  },
  {
   "cell_type": "markdown",
   "metadata": {},
   "source": [
    "### ### if문 기본 구조 ### ###\n",
    "\n",
    "if 조건문:\n",
    "\n",
    "    수행할 문장 \n",
    "\n",
    "  else:\n",
    "   \n",
    "    수행할 문장      \n",
    "- 들여쓰기(Tab) 중요\n",
    "- 조건문 다음에 콜론(:) 중요"
   ]
  },
  {
   "cell_type": "code",
   "execution_count": 1,
   "metadata": {},
   "outputs": [
    {
     "name": "stdout",
     "output_type": "stream",
     "text": [
      "MONEY\n",
      "걸어가라\n"
     ]
    }
   ],
   "source": [
    "### 조건문이란 ###\n",
    "\n",
    "# 조건문; 참과 거짓을 판단하는 문장\n",
    "\n",
    "money = True\n",
    "if money: # 조건문이 참이므로 if문 다음 문장 수행\n",
    "    print(\"MONEY\")\n",
    "    \n",
    "# 비교연산자\n",
    "\n",
    "x = 3\n",
    "y = 2\n",
    "\n",
    "x > y # x가 y보다 크다\n",
    "x < y # x가 y보다 작다\n",
    "x == y # x가 y와 같다; '==' vs 'is'(*)\n",
    "x != y # x가 y와 다르다\n",
    "x >= y # x가 y보다 크거나 같다\n",
    "x <= y # x가 y보다 작거나 같다\n",
    "\n",
    "# \"돈이 3000원 이상 있으면 택시를 타고 그렇지 않으면 걸어가라\"\n",
    "\n",
    "money = 2000\n",
    "\n",
    "if money>=3000:\n",
    "    print(\"택시를 타고 가라\")\n",
    "else:\n",
    "    print(\"걸어가라\")"
   ]
  },
  {
   "cell_type": "code",
   "execution_count": 2,
   "metadata": {},
   "outputs": [
    {
     "name": "stdout",
     "output_type": "stream",
     "text": [
      "택시를 타고 가라\n"
     ]
    }
   ],
   "source": [
    "### and, or, not ###\n",
    "\n",
    "# x or y; x와 y 둘 중 하나만 참이어도 참\n",
    "# x and y; x와 y 모두 참이어야 참\n",
    "# not x; x가 거짓이면 참\n",
    "\n",
    "# \"돈이 3000원 이상 있거나 카드가 있으면 택시를 타고 그렇지 않으면 걸어가라\"\n",
    "\n",
    "money = 2000\n",
    "card = True\n",
    "\n",
    "if money>=3000 or card:\n",
    "    print(\"택시를 타고 가라\")\n",
    "else:\n",
    "    print(\"걸어가라\")"
   ]
  },
  {
   "cell_type": "code",
   "execution_count": 3,
   "metadata": {},
   "outputs": [
    {
     "name": "stdout",
     "output_type": "stream",
     "text": [
      "택시를 타고 가라\n"
     ]
    }
   ],
   "source": [
    "### x in s, x not is s ###\n",
    "\n",
    "# x in(or not in) list/tuple/str; x가 그 안에 속하는지 안 하는지\n",
    "\n",
    "1 in [1,2,3] # True; 리스트\n",
    "1 not in [1,2,3] # False; 리스트\n",
    "\n",
    "'a' in ('a','b','c') # True; 튜플\n",
    "\n",
    "'j' not in 'python' # True; 문자열\n",
    "\n",
    "# \"만약 주머니에 돈이 있으면 택시를 타고, 없으면 걸어가라\"\n",
    "\n",
    "pocket = ['paper','cellphone','money']\n",
    "\n",
    "if 'money' in pocket:\n",
    "    print(\"택시를 타고 가라\")\n",
    "else: \n",
    "    print(\"걸어가라\")"
   ]
  },
  {
   "cell_type": "code",
   "execution_count": 4,
   "metadata": {},
   "outputs": [],
   "source": [
    "### 조건문에서 아무 일도 하지 않게 설정하기; pass ###\n",
    "\n",
    "# pass; 조건문의 참, 거짓과 상관없이 아무런 일도 하지 않음\n",
    "\n",
    "# \"주머니에 돈이 있으면 가만히 있고 돈이 없으면 카드를 꺼내라\"\n",
    "\n",
    "pocket = ['paper','cellphone','money']\n",
    "\n",
    "if 'money' in pocket:\n",
    "    pass\n",
    "else:\n",
    "    print(\"카드를 꺼내라\")"
   ]
  },
  {
   "cell_type": "markdown",
   "metadata": {},
   "source": [
    "### ### elif문 구조 ### ###\n",
    "\n",
    "if 조건문:\n",
    "    \n",
    "    수행할 문장\n",
    "    \n",
    "elif 조건문:\n",
    "\n",
    "    수행할 문장\n",
    "    \n",
    "else:\n",
    "\n",
    "    수행할 문장\n",
    "    \n",
    "* 시작은 if문, 중간은 elif문, 끝은 else문    \n",
    "* elif문은 개수에 제한없이 사용할 수 있음"
   ]
  },
  {
   "cell_type": "code",
   "execution_count": 5,
   "metadata": {},
   "outputs": [
    {
     "name": "stdout",
     "output_type": "stream",
     "text": [
      "택시를 타고 가라\n"
     ]
    }
   ],
   "source": [
    "### 다양한 조건 판단하기; elif ###\n",
    "\n",
    "# \"주머니에 돈이 있으면 택시를 타고, \n",
    "# 주머니에 돈은 없지만 카드가 있으면 택시를 타고\n",
    "# 돈도 없고 카드도 없으면 걸어가라\"\n",
    "\n",
    "pocket = ['paper','handphone']\n",
    "card = True\n",
    "\n",
    "if 'money' in pocket:\n",
    "    print(\"택시를 타고 가라\")\n",
    "elif card: # 이전 조건문(if의 조건문)이 거짓이면 실행\n",
    "    print(\"택시를 타고 가라\")\n",
    "else: \n",
    "    print(\"걸어가라\")"
   ]
  },
  {
   "cell_type": "code",
   "execution_count": 6,
   "metadata": {},
   "outputs": [
    {
     "name": "stdout",
     "output_type": "stream",
     "text": [
      "카드를 꺼내라\n"
     ]
    }
   ],
   "source": [
    "### if문 한 줄로 작성하기 ###\n",
    "\n",
    "if 'money' in pocket: pass\n",
    "else: print(\"카드를 꺼내라\")\n",
    "    \n",
    "# 수행할 문장이 한 줄이므로 콜론(:) 뒤에 바로 적어서 더 간단하게 코드 작성 가능"
   ]
  },
  {
   "cell_type": "code",
   "execution_count": 7,
   "metadata": {},
   "outputs": [
    {
     "ename": "NameError",
     "evalue": "name 'score' is not defined",
     "output_type": "error",
     "traceback": [
      "\u001b[1;31m---------------------------------------------------------------------------\u001b[0m",
      "\u001b[1;31mNameError\u001b[0m                                 Traceback (most recent call last)",
      "\u001b[1;32m<ipython-input-7-4b8f4c134871>\u001b[0m in \u001b[0;36m<module>\u001b[1;34m\u001b[0m\n\u001b[0;32m      3\u001b[0m \u001b[1;31m# 조건부 표현식; (조건문이 참인 경우) if (조건문) else (조건문이 거짓인 경우)\u001b[0m\u001b[1;33m\u001b[0m\u001b[1;33m\u001b[0m\u001b[1;33m\u001b[0m\u001b[0m\n\u001b[0;32m      4\u001b[0m \u001b[1;33m\u001b[0m\u001b[0m\n\u001b[1;32m----> 5\u001b[1;33m \u001b[1;32mif\u001b[0m \u001b[0mscore\u001b[0m \u001b[1;33m>=\u001b[0m \u001b[1;36m60\u001b[0m\u001b[1;33m:\u001b[0m\u001b[1;33m\u001b[0m\u001b[1;33m\u001b[0m\u001b[0m\n\u001b[0m\u001b[0;32m      6\u001b[0m     \u001b[0mmessage\u001b[0m \u001b[1;33m=\u001b[0m \u001b[1;34m\"success\"\u001b[0m\u001b[1;33m\u001b[0m\u001b[1;33m\u001b[0m\u001b[0m\n\u001b[0;32m      7\u001b[0m \u001b[1;32melse\u001b[0m\u001b[1;33m:\u001b[0m\u001b[1;33m\u001b[0m\u001b[1;33m\u001b[0m\u001b[0m\n",
      "\u001b[1;31mNameError\u001b[0m: name 'score' is not defined"
     ]
    }
   ],
   "source": [
    "### 조건부 표현식 ###\n",
    "\n",
    "# 조건부 표현식; (조건문이 참인 경우) if (조건문) else (조건문이 거짓인 경우) \n",
    "\n",
    "if score >= 60:\n",
    "    message = \"success\"\n",
    "else:\n",
    "    message = \"failure\"\n",
    "    \n",
    "# 위 코드를 조건부 표현식으로 나타내면 다음과 같다\n",
    "\n",
    "message = \"success\" if score >= 60 else \"failure\""
   ]
  },
  {
   "cell_type": "markdown",
   "metadata": {},
   "source": [
    "# 2. while 문"
   ]
  },
  {
   "cell_type": "markdown",
   "metadata": {},
   "source": [
    "### ### while문 기본 구조 ### ###\n",
    "\n",
    "while 조건문:\n",
    "    \n",
    "    수행할 문장\n",
    "    \n",
    "* 조건문이 참인 동안에 수행할 문장이 반복해서 수행됨\n",
    "* 조건문이 거짓이 되면 루프 탈출"
   ]
  },
  {
   "cell_type": "code",
   "execution_count": null,
   "metadata": {},
   "outputs": [],
   "source": [
    "### while문 만들기 ###\n",
    "\n",
    "# \"열 번 찍어 안 넘어가는 나무 없다.\"\n",
    "\n",
    "treeHit = 0\n",
    "\n",
    "while treeHit < 10:\n",
    "    treeHit += 1 \n",
    "    print(\"나무를 %d번 찍었습니다.\"%treeHit)\n",
    "    if treeHit == 10:\n",
    "        print(\"나무 넘어갑니다.\")\n",
    "        \n",
    "# 여러가지 선택지 중 하나를 선택해서 입력받는 예제\n",
    "\n",
    "promt = \"\"\"\n",
    "    1. Add\n",
    "    2. Del\n",
    "    3. List\n",
    "    4. Quit\n",
    "    \n",
    "    Enter number: \"\"\"\n",
    "\n",
    "num = 0\n",
    "\n",
    "while num != 4:\n",
    "    print(promt)\n",
    "    num = int(input()) # input(); 사용자에게 값을 입력받는 함수(str 형태)"
   ]
  },
  {
   "cell_type": "code",
   "execution_count": null,
   "metadata": {},
   "outputs": [],
   "source": [
    "### while문 강제로 빠져나가기; break ###\n",
    "\n",
    "coffee = 10\n",
    "money = 300\n",
    "\n",
    "while money:\n",
    "    print(\"돈을 받았으니 커피를 줍니다.\")\n",
    "    coffee -= 1\n",
    "    print(\"남은 커피의 양은 %d입니다.\"%coffee)\n",
    "    if coffee == 0:\n",
    "        print(\"커피가 다 떨어졌습니다. 판매를 중지합니다.\")\n",
    "        break # break문을 통해 money가 참임에도 while문 탈출\n",
    "        \n",
    "# coffee.py; 실제 자판기 작동 과정과 비슷하게 만들기\n",
    "\n",
    "coffee = 10\n",
    "while True:\n",
    "    money = int(input(\"돈을 넣어주세요: \"))\n",
    "    if money == 300:\n",
    "        print(\"커피를 줍니다.\")\n",
    "        coffee -= 1\n",
    "    elif money > 300:\n",
    "        print(\"거스름돈 %d를 주고 커피를 줍니다.\"%(money-300))\n",
    "    else:\n",
    "        print(\"돈을 다시 돌려주고 커피를 주지 않습니다.\")\n",
    "        print(\"남은 커피의 양은 %d개 입니다.\"%coffee)\n",
    "    if coffee == 0:\n",
    "        print(\"커피가 다 떨어졌습니다. 판매를 중지합니다.\")\n",
    "        break"
   ]
  },
  {
   "cell_type": "code",
   "execution_count": null,
   "metadata": {},
   "outputs": [],
   "source": [
    "### while문의 맨 처음으로 돌아가기; continue ###\n",
    "\n",
    "# continue; while문을 빠져나가지 않고 while문의 맨 처음 조건문으로 돌아감 \n",
    "\n",
    "a = 0\n",
    "\n",
    "while a < 10:\n",
    "    a = a + 1\n",
    "    if a % 2 == 0: continue\n",
    "    print(a)"
   ]
  },
  {
   "cell_type": "code",
   "execution_count": null,
   "metadata": {},
   "outputs": [],
   "source": [
    "### 무한 루프 ###\n",
    "\n",
    "# Ctrl + C; 무한루프 탈출 단축키\n",
    "\n",
    "while True:\n",
    "    print(\"Ctrl+C를 눌러야 while문을 빠져나갈 수 있습니다.\")"
   ]
  },
  {
   "cell_type": "markdown",
   "metadata": {},
   "source": [
    "# 3. for문"
   ]
  },
  {
   "cell_type": "markdown",
   "metadata": {},
   "source": [
    "### ### for문 기본 구조 ### ###\n",
    "\n",
    "for 변수 in 리스트(또는 튜플, 문자열):\n",
    "    \n",
    "    수행할 문장\n",
    "    \n",
    "* 리스트, 튜플, 문자열의 첫 번째 요소부터 마지막 요소까지 차례로 변수에 대입하여 문장 수행"
   ]
  },
  {
   "cell_type": "code",
   "execution_count": 4,
   "metadata": {},
   "outputs": [
    {
     "name": "stdout",
     "output_type": "stream",
     "text": [
      "one\n",
      "two\n",
      "three\n",
      "3\n",
      "7\n",
      "11\n",
      "1번 학생은 합격입니다.\n",
      "2번 학생은 불합격입니다.\n",
      "3번 학생은 합격입니다.\n",
      "4번 학생은 불합격입니다.\n",
      "5번 학생은 합격입니다.\n"
     ]
    }
   ],
   "source": [
    "### for문 예제 ###\n",
    "\n",
    "# 1. 전형적인 for문\n",
    "\n",
    "test_list = ['one','two','three']\n",
    "\n",
    "for i in test_list:\n",
    "    print(i)\n",
    "    \n",
    "# 2. 다양한 for문의 사용\n",
    "\n",
    "a = [(1,2),(3,4),(5,6)]\n",
    "\n",
    "for (first,last) in a:\n",
    "    print(first+last)\n",
    "    \n",
    "# 3. for문의 응용\n",
    "\n",
    "marks = [90,25,67,45,80]\n",
    "number = 0\n",
    "\n",
    "for mark in marks:\n",
    "    number += 1\n",
    "    if mark >= 60:\n",
    "        print(\"%d번 학생은 합격입니다.\"%number)\n",
    "    else: \n",
    "        print(\"%d번 학생은 불합격입니다.\"%number)\n",
    "\n"
   ]
  },
  {
   "cell_type": "code",
   "execution_count": 6,
   "metadata": {},
   "outputs": [
    {
     "name": "stdout",
     "output_type": "stream",
     "text": [
      "1번 학생은 합격입니다. 축하합니다.\n",
      "3번 학생은 합격입니다. 축하합니다.\n",
      "5번 학생은 합격입니다. 축하합니다.\n"
     ]
    }
   ],
   "source": [
    "### for문과 continue ###\n",
    "\n",
    "# continue in while문; while문의 맨 처음 조건식으로 돌아간다\n",
    "# continue in for문; for문의 맨 처음으로 돌아간다\n",
    "\n",
    "marks = [90,25,67,45,80]\n",
    "number = 0\n",
    "\n",
    "for mark in marks:\n",
    "    number += 1\n",
    "    if mark >= 60:\n",
    "        print(\"%d번 학생은 합격입니다. 축하합니다.\"%number)\n",
    "    else:\n",
    "        continue"
   ]
  },
  {
   "cell_type": "code",
   "execution_count": 17,
   "metadata": {},
   "outputs": [
    {
     "name": "stdout",
     "output_type": "stream",
     "text": [
      "55\n",
      "1번 학생 축하합니다. 합격입니다.\n",
      "3번 학생 축하합니다. 합격입니다.\n",
      "5번 학생 축하합니다. 합격입니다.\n",
      "2 4 6 8 10 12 14 16 18  \n",
      "3 6 9 12 15 18 21 24 27  \n",
      "4 8 12 16 20 24 28 32 36  \n",
      "5 10 15 20 25 30 35 40 45  \n",
      "6 12 18 24 30 36 42 48 54  \n",
      "7 14 21 28 35 42 49 56 63  \n",
      "8 16 24 32 40 48 56 64 72  \n",
      "9 18 27 36 45 54 63 72 81  \n"
     ]
    }
   ],
   "source": [
    "### for문과 range ###\n",
    "\n",
    "# range(a,b); 숫자 리스트를 자동 생성. 처음 숫자는 포함, 뒷 숫자는 미포함\n",
    "# 파이썬을 숫자를 0부터 셈(*)\n",
    "\n",
    "a = range(10)\n",
    "a # 0~9\n",
    "\n",
    "a = range(1,11)\n",
    "a # 1~10\n",
    "\n",
    "# range 함수 예시\n",
    "\n",
    "add = 0\n",
    "\n",
    "for i in range(1,11): # 1~10\n",
    "    add = add + i \n",
    "    \n",
    "print(add)    \n",
    "\n",
    "# \"60점 이상이면 합격\"\n",
    "\n",
    "marks = [90,25,67,45,80]\n",
    "\n",
    "for number in range(len(marks)): # len(marks) = 5 -> 0,1,2,3,4\n",
    "    if marks[number] < 60:\n",
    "        continue\n",
    "    print(\"%d번 학생 축하합니다. 합격입니다.\"%(number+1))    \n",
    "    \n",
    "# 구구단\n",
    "\n",
    "for i in range(2,10): # 2~9\n",
    "    for j in range(1,10): # 1~9\n",
    "        print(i*j, end = \" \") # end; 출력값을 다음 줄로 넘기지 않기 위해서 \n",
    "    print(' ') # 출력값을 다음 줄로 넘기기 위해서      "
   ]
  },
  {
   "cell_type": "code",
   "execution_count": 23,
   "metadata": {},
   "outputs": [
    {
     "name": "stdout",
     "output_type": "stream",
     "text": [
      "[3, 6, 9, 12]\n",
      "[3, 6, 9, 12]\n",
      "[6, 12]\n",
      "[2, 4, 6, 8, 10, 12, 14, 16, 18, 3, 6, 9, 12, 15, 18, 21, 24, 27, 4, 8, 12, 16, 20, 24, 28, 32, 36, 5, 10, 15, 20, 25, 30, 35, 40, 45, 6, 12, 18, 24, 30, 36, 42, 48, 54, 7, 14, 21, 28, 35, 42, 49, 56, 63, 8, 16, 24, 32, 40, 48, 56, 64, 72, 9, 18, 27, 36, 45, 54, 63, 72, 81]\n"
     ]
    }
   ],
   "source": [
    "### 리스트 내포 사용하기 ###\n",
    "\n",
    "# 리스트 내포; 리스트 안에 for문을 포함\n",
    "# [표현식 for 항목 in 반복가능객체 if 조건문]\n",
    "\n",
    "# 기본 코드\n",
    "\n",
    "a = [1,2,3,4]\n",
    "result = [] # 빈 리스트 생성\n",
    "\n",
    "for num in a:\n",
    "    result.append(num*3) # 리스트에 원소 추가\n",
    "    \n",
    "print(result)    \n",
    "\n",
    "# 리스트 내포\n",
    "\n",
    "a = [1,2,3,4]\n",
    "result = [num*3 for num in a]\n",
    "print(result)\n",
    "\n",
    "# 짝수만 골라서 리스트 내포\n",
    "\n",
    "a = [1,2,3,4]\n",
    "result = [num*3 for num in a if num%2 == 0]\n",
    "print(result)\n",
    "\n",
    "# 구구단 by 리스트 내포\n",
    "\n",
    "result = [x*y for x in range(2,10)\n",
    "              for y in range(1,10)]\n",
    "print(result)"
   ]
  }
 ],
 "metadata": {
  "kernelspec": {
   "display_name": "Python 3",
   "language": "python",
   "name": "python3"
  },
  "language_info": {
   "codemirror_mode": {
    "name": "ipython",
    "version": 3
   },
   "file_extension": ".py",
   "mimetype": "text/x-python",
   "name": "python",
   "nbconvert_exporter": "python",
   "pygments_lexer": "ipython3",
   "version": "3.7.3"
  }
 },
 "nbformat": 4,
 "nbformat_minor": 2
}
