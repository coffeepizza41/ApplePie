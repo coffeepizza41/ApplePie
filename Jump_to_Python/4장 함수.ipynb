{
 "cells": [
  {
   "cell_type": "markdown",
   "metadata": {},
   "source": [
    "# 1. 함수"
   ]
  },
  {
   "cell_type": "markdown",
   "metadata": {},
   "source": [
    "### ### 함수의 기본 구조 ### ###\n",
    "\n",
    "def 함수명(매개변수):\n",
    "    \n",
    "    수행할 문장\n",
    "  \n",
    "    return 결과값      \n",
    "\n",
    "- 매개변수; 함수의 입력으로 전달된 값을 받는 변수\n",
    "- return; 함수의 결과값을 돌려주는 명령어\n",
    "\n",
    "def add(a,b):\n",
    "\n",
    "    return a+b\n",
    "\n",
    "- 함수의 이름; add\n",
    "- 매개변수(=입력값); a,b\n",
    "- 결과값; a+b"
   ]
  },
  {
   "cell_type": "code",
   "execution_count": 2,
   "metadata": {},
   "outputs": [
    {
     "name": "stdout",
     "output_type": "stream",
     "text": [
      "7\n"
     ]
    }
   ],
   "source": [
    "### 매개변수와 인수 ###\n",
    "\n",
    "# 매개변수(parameter); 함수에 입력으로 전달된 값을 받는 변수\n",
    "# 인수(arguments); 함수를 호출할 때 전달하는 입력값\n",
    "\n",
    "a = 3\n",
    "b = 4\n",
    "\n",
    "# 매개변수(값을 받을 문자)\n",
    "def add(a,b):\n",
    "    return a+b\n",
    "# a,b; 함수에 입력으로 전달된 값을 받는 변수이므로 매개변수\n",
    "\n",
    "# 인수(실제 값을 넣음)\n",
    "print(add(3,4))\n",
    "# 3,4; 함수를 호출할 때 전달하는 입력값이므로 인수"
   ]
  },
  {
   "cell_type": "code",
   "execution_count": 13,
   "metadata": {},
   "outputs": [
    {
     "name": "stdout",
     "output_type": "stream",
     "text": [
      "7\n",
      "Hi\n",
      "3, 4의 합은 7입니다.\n",
      "None\n",
      "Hi\n"
     ]
    }
   ],
   "source": [
    "### 입력값과 결과값에 따른 함수의 형태 ###\n",
    "\n",
    "# 결과값이 있는 함수; 변수에 저장해서 사용\n",
    "# 결과값이 없는 함수; 변수에 저장하지 않고 바로 사용\n",
    "\n",
    "# 1. 일반적인 함수; 입력값을 넣으면 결과값을 돌려줌\n",
    "\n",
    "def add(a,b):\n",
    "    result = a+b\n",
    "    return result\n",
    "\n",
    "a = add(3,4) # 괄호 안에 인수 넣기\n",
    "print(a)\n",
    "\n",
    "# 2. 입력값이 없는 함수(즉, 매개변수가 없다.)\n",
    "\n",
    "def say():\n",
    "    return 'Hi'\n",
    "\n",
    "a = say() # 괄호 안에 아무 값도 넣지 않기\n",
    "print(a)\n",
    "\n",
    "# 3. 결과값이 없는 함수(즉, return문이 없다.)\n",
    "\n",
    "def add(a,b):\n",
    "    print(\"%d, %d의 합은 %d입니다.\"%(a,b,a+b))\n",
    "\n",
    "add(3,4) # 함수를 호출해도 반환값이 없으므로 바로 사용    \n",
    "a = add(3,4)\n",
    "a # 결과값처럼 보이지만 수행할 문장의 수행일 뿐\n",
    "print(a) # None; 결과값은 없음\n",
    "\n",
    "# 4. 입력값도 결과값도 없는 함수\n",
    "\n",
    "def say():\n",
    "    print(\"Hi\")\n",
    "\n",
    "say() # 역시 반환값이 없으므로 변수에 저장하지 않고 바로 사용 "
   ]
  },
  {
   "cell_type": "code",
   "execution_count": 15,
   "metadata": {},
   "outputs": [
    {
     "name": "stdout",
     "output_type": "stream",
     "text": [
      "10\n",
      "8\n"
     ]
    }
   ],
   "source": [
    "### 매개변수를 지정하여 호출하기 ###\n",
    "\n",
    "def add(a,b):\n",
    "    return a+b\n",
    "\n",
    "result = add(a=3,b=7) # a에 3을 전달, b에 7을 전달; a,b는 매개변수\n",
    "print(result)\n",
    "\n",
    "result = add(b=5,a=3) # b에 5를 전달, a에 3을 전달; 순서 상관없음\n",
    "print(result)"
   ]
  },
  {
   "cell_type": "markdown",
   "metadata": {},
   "source": [
    "### ### 입력값이 몇 개인지 모를 때 ### ###\n",
    "\n",
    "def 함수이름(*매개변수):\n",
    "\n",
    "    수행할 문장\n",
    "    \n",
    "- *매개변수: 입력값을 모두 모아서 튜플로 만들어 줌 \n",
    "- 입력값의 개수를 모를 때 유용"
   ]
  },
  {
   "cell_type": "code",
   "execution_count": 24,
   "metadata": {},
   "outputs": [
    {
     "name": "stdout",
     "output_type": "stream",
     "text": [
      "6\n",
      "55\n",
      "15\n",
      "120\n"
     ]
    }
   ],
   "source": [
    "### 여러개의 입력값을 받는 함수; *매개변수 ###\n",
    "\n",
    "# *매개변수; 입력값을 받으면 튜플로 묶어줌\n",
    "\n",
    "#1\n",
    "\n",
    "def add_many(*args):\n",
    "    result = 0\n",
    "    for i in args:\n",
    "        result += i\n",
    "    return result\n",
    "\n",
    "# args; 임의로 지정한 매개변수 이름\n",
    "# *args; 몇 개가 들어올지 모르지만, 입력값들을 모두 모아서 튜플로 만들어 줌\n",
    "\n",
    "res = add_many(1,2,3)\n",
    "print(res) # 입력값 1,2,3을 튜플로 묶어서 함수 실행 후 결과값 반환\n",
    "\n",
    "res = add_many(1,2,3,4,5,6,7,8,9,10)\n",
    "print(res) # 입력값 1-10을 튜플로 묶어서 함수 실행 후 결과값 반환\n",
    "\n",
    "#2\n",
    "\n",
    "def add_mul(choice, *args):\n",
    "    if choice == \"add\":\n",
    "        res = 0\n",
    "        for i in args:\n",
    "            res += i\n",
    "    elif choice == \"mul\":\n",
    "        res = 1\n",
    "        for i in args:\n",
    "            res *= i\n",
    "    return res\n",
    "\n",
    "res = add_mul('add',1,2,3,4,5)\n",
    "print(res)\n",
    "\n",
    "res = add_mul('mul',1,2,3,4,5)\n",
    "print(res)\n",
    "\n",
    "# 매개변수에 바로 값을 대입할 때는 순서가 상관 없지만, \n",
    "# 위 상황처럼 일반적인 경우에는 순서에 맞게 값을 대입해야한다."
   ]
  },
  {
   "cell_type": "code",
   "execution_count": 27,
   "metadata": {},
   "outputs": [
    {
     "name": "stdout",
     "output_type": "stream",
     "text": [
      "{'a': 1}\n",
      "{'name': 'dahee', 'age': 22}\n"
     ]
    }
   ],
   "source": [
    "### 키워드 파라미터; **kwargs ###\n",
    "\n",
    "# **매개변수; 입력값을 받으면 딕셔너리로 묶어줌(key=value)\n",
    "\n",
    "def print_kwargs(**kwargs):\n",
    "    print(kwargs) \n",
    "# 매개변수 kwargs를 출력하는 함수(결과값 없음)\n",
    "\n",
    "print_kwargs(a=1)\n",
    "print_kwargs(name='dahee',age=22)\n",
    "# 모두 딕셔너리 형태로 출력됨"
   ]
  },
  {
   "cell_type": "code",
   "execution_count": 37,
   "metadata": {},
   "outputs": [
    {
     "name": "stdout",
     "output_type": "stream",
     "text": [
      "(7, 12)\n",
      "5\n",
      "나의 별명은 천재 입니다.\n"
     ]
    }
   ],
   "source": [
    "### 함수의 결과값은 언제나 하나 ###\n",
    "\n",
    "#1\n",
    "\n",
    "def add_and_mul(a,b):\n",
    "    return a+b, a*b # 결과값 2개; 함수 실행 결과로는 하나로 묶어서 나옴\n",
    "\n",
    "result = add_and_mul(3,4)\n",
    "print(result) # 결과값이 자동으로 튜플 형태로 나옴\n",
    "\n",
    "res1, res2 = add_and_mul(3,4) # 결과값을 따로따로 저장하고 싶을 때\n",
    "\n",
    "#2\n",
    "\n",
    "def add_and_mul(a,b):\n",
    "    return a+b # 처음 만난 return문만 실행. 실행 후 함수 빠져나감\n",
    "    return a*b # 이미 반환했으므로 함수 끝. 실행 안 됨\n",
    "\n",
    "result = add_and_mul(2,3)\n",
    "print(result) # 5; 즉, 첫번째 return문만 실행되고 그 뒤는 무시\n",
    "\n",
    "# 3; return의 또 다른 쓰임새 - 함수 빠져나가기\n",
    "\n",
    "def say_nick(nick):\n",
    "    if nick == '바보':\n",
    "        return # 이때의 return은 결과값이 없음. 즉, 함수를 빠져나가는 역할\n",
    "    print(\"나의 별명은 %s 입니다.\"%nick) # print문은 결과값이 아님. 수행할 문장\n",
    "    \n",
    "say_nick(\"천재\") # print문 실행\n",
    "say_nick(\"바보\") # return; 함수를 즉시 빠져나감"
   ]
  },
  {
   "cell_type": "code",
   "execution_count": 42,
   "metadata": {},
   "outputs": [
    {
     "ename": "SyntaxError",
     "evalue": "non-default argument follows default argument (<ipython-input-42-3bbaa0cca42f>, line 21)",
     "output_type": "error",
     "traceback": [
      "\u001b[1;36m  File \u001b[1;32m\"<ipython-input-42-3bbaa0cca42f>\"\u001b[1;36m, line \u001b[1;32m21\u001b[0m\n\u001b[1;33m    def say_myself(name, man=True, old):\u001b[0m\n\u001b[1;37m                  ^\u001b[0m\n\u001b[1;31mSyntaxError\u001b[0m\u001b[1;31m:\u001b[0m non-default argument follows default argument\n"
     ]
    }
   ],
   "source": [
    "### 매개변수 초기값 설정 ###\n",
    "\n",
    "#1\n",
    "\n",
    "def say_myself(name, old, man=True):\n",
    "    print(\"나의 이름은 %s 입니다.\"%name)\n",
    "    print(\"나의 나이는 %d살 입니다.\"%old)\n",
    "    if man:\n",
    "        print(\"그리고 저는 남자입니다.\")\n",
    "    else:\n",
    "        print(\"그리고 저는 여자입니다.\")\n",
    "        \n",
    "say_myself(\"김다희\",22) # 입력값을 주지 않는 경우 초기값인 True를 갖게 됨\n",
    "say_myself(\"김다희\",22,True) # True를 대입해도 마찬가지\n",
    "say_myself(\"김다희\",22,False) # 초기값이 설정된 부분을 False로 바꿈\n",
    "\n",
    "# 이런 초기값 설정은 함수의 매개변수에 들어갈 값이 대부분 일정할 때 유용\n",
    "\n",
    "#2; 초기값 설정 시 주의할 점 - 초기값은 항상 뒤 쪽에\n",
    "\n",
    "def say_myself(name, man=True, old): # 초기값을 중간에 설정\n",
    "    print(\"나의 이름은 %s 입니다.\" % name) \n",
    "    print(\"나이는 %d살입니다.\" % old) \n",
    "    if man: \n",
    "        print(\"남자입니다.\") \n",
    "    else: \n",
    "        print(\"여자입니다.\")\n",
    "\n",
    "say_myself(\"김다희\",22) # 오류; 22가 man으로 갈지 old로 갈 지 모름 \n",
    "\n",
    "# 즉, (name,old,man=True)는 가능하지만 (name,man=True,old)는 틀림\n",
    "# 초기값 설정할 변수는 항상 뒤쪽에 둬야 함."
   ]
  },
  {
   "cell_type": "code",
   "execution_count": 49,
   "metadata": {},
   "outputs": [
    {
     "name": "stdout",
     "output_type": "stream",
     "text": [
      "1\n",
      "1\n"
     ]
    }
   ],
   "source": [
    "### 함수 안에서 선언한 변수의 효력 범위 ###\n",
    "\n",
    "# Q. 함수 안에서 사용한 변수를 함수 밖에서 사용한다면?\n",
    "# A. 함수 안의 매개변수와 함수 밖 변수는 전혀 상관 없음\n",
    "\n",
    "a = 1 # 함수 밖 a\n",
    "\n",
    "def vartest(a): # 함수 안 a\n",
    "    a = a+1 # 수행할 문장(결과값 반환 X)\n",
    "    \n",
    "vartest(a) # vartest(1)과 동일; a=2 in 함수\n",
    "print(a) # print(1)과 동일; 함수에서 a가 2가 됐어도 함수 밖 a에는 영향 없음\n",
    "\n",
    "def vartest(hello):\n",
    "    hello = hello + 1\n",
    "    \n",
    "def vartest(a):\n",
    "    a = a + 1\n",
    "\n",
    "vartest(3) # 함수 실행 결과 4가 되겠지만 결과값 반환은 없음\n",
    "print(a) # 역시 함수 밖 a의 값에는 변화 없음\n",
    "\n",
    "# 정리; 함수 안에서 선언한 매개변수는 함수 안에서만 사용. 함수 밖이랑은 상관 X\n",
    "# 즉, 함수의 매개변수는 지역변수이다."
   ]
  },
  {
   "cell_type": "code",
   "execution_count": 56,
   "metadata": {},
   "outputs": [
    {
     "name": "stdout",
     "output_type": "stream",
     "text": [
      "2\n",
      "2\n"
     ]
    }
   ],
   "source": [
    "### 함수 안에서 함수 밖의 변수를 변경하는 방법 ###\n",
    "\n",
    "# 1. return 사용\n",
    "\n",
    "a = 1\n",
    "\n",
    "def vartest(a):\n",
    "    a = a + 1\n",
    "    return a\n",
    "\n",
    "a = vartest(a) # a = vartest(1)이고 즉, a = 2가 된다.\n",
    "print(a)\n",
    "\n",
    "# 2. global 선언\n",
    "\n",
    "# global; 전역변수로 만들어 줌\n",
    "# 함수 안에서 global 선언을 하면 함수 안과 밖의 변수가 서로 영향을 미침(종속)\n",
    "\n",
    "a = 1\n",
    "\n",
    "def vartest():\n",
    "    global a\n",
    "    a = a + 1\n",
    "\n",
    "vartest() # 변수 a가 전역변수이므로, 함수 밖 a=1를 가지고 함수를 실행 \n",
    "print(a)"
   ]
  },
  {
   "cell_type": "markdown",
   "metadata": {},
   "source": [
    "### ### lambda 기본 구조 ### ###\n",
    "\n",
    "함수이름 = lambda 매개변수1, 매개변수2, ... : 매개변수를 이용한 표현식"
   ]
  },
  {
   "cell_type": "code",
   "execution_count": 60,
   "metadata": {},
   "outputs": [
    {
     "name": "stdout",
     "output_type": "stream",
     "text": [
      "7\n",
      "15\n"
     ]
    }
   ],
   "source": [
    "### lambda ###\n",
    "\n",
    "# lambda; 간단한 함수 작성\n",
    "\n",
    "def add(a,b):\n",
    "    return a+b\n",
    "res = add(3,4)\n",
    "print(res)\n",
    "\n",
    "# 위 함수를 lambda를 이용해 작성하면 다음과 같다.\n",
    "\n",
    "add = lambda a, b: a+b\n",
    "res = add(5,10)\n",
    "print(res)"
   ]
  },
  {
   "cell_type": "markdown",
   "metadata": {},
   "source": [
    "# 2. 사용자 입력과 출력"
   ]
  },
  {
   "cell_type": "code",
   "execution_count": 3,
   "metadata": {},
   "outputs": [
    {
     "name": "stdout",
     "output_type": "stream",
     "text": [
      "5\n",
      "숫자를 입력하세요: 5\n",
      "5\n"
     ]
    }
   ],
   "source": [
    "### 사용자 입력; input ###\n",
    "\n",
    "# input은 입력되는 모든 것을 '문자열'로 취급\n",
    "\n",
    "a = input()\n",
    "a\n",
    "\n",
    "# 프롬프트를 띄워서 사용자 입력받기\n",
    "\n",
    "number = input(\"숫자를 입력하세요: \")\n",
    "print(number)"
   ]
  },
  {
   "cell_type": "code",
   "execution_count": 9,
   "metadata": {},
   "outputs": [
    {
     "name": "stdout",
     "output_type": "stream",
     "text": [
      "123\n",
      "[1, 2, 3]\n",
      "Lifeistooshort\n",
      "Lifeistooshort\n",
      "Life is too short\n",
      "Lifeistooshort\n",
      "0123456789"
     ]
    }
   ],
   "source": [
    "### print 자세히 알기 ###\n",
    "\n",
    "# 기본 사용\n",
    "\n",
    "a = 123\n",
    "print(a)\n",
    "\n",
    "a = \"Python\"\n",
    "a\n",
    "\n",
    "a = [1,2,3]\n",
    "print(a)\n",
    "\n",
    "# 큰따옴표(\"\")로 둘러싸인 문자열은 + 연산과 동일\n",
    "\n",
    "print(\"Life\"\"is\"\"too\"\"short\") # 큰따옴표로 둘러싸임\n",
    "print(\"Life\"+\"is\"+\"too\"+\"short\") # + 연산\n",
    "\n",
    "# 문자열 띄여쓰기는 콤마(,) 이용\n",
    "\n",
    "print(\"Life\",\"is\",\"too short\") # ,; 문자열 사이 띄어쓰기\n",
    "print(\"Life\"\"is\"\"too\"\"short\") # \"\"; 띄어쓰기 없이 이어붙임(+ 연산)\n",
    "\n",
    "# 한 줄에 결과값 출력; end를 이용해 끝 문자 지정 \n",
    "\n",
    "for i in range(10): # range(10); 0-9까지 \n",
    "    print(i, end=' ') # end=' '; 공백(띄어쓰기) 간격으로 print"
   ]
  },
  {
   "cell_type": "markdown",
   "metadata": {},
   "source": [
    "# 3. 파일 읽고 쓰기(*)"
   ]
  },
  {
   "cell_type": "code",
   "execution_count": 19,
   "metadata": {},
   "outputs": [],
   "source": [
    "### 파일 생성하기; 'w' ###\n",
    "\n",
    "# 파일 객체 = open(파일 이름, 파일 열기 모드)\n",
    "# 파일 열기 모드; r(읽기), w(쓰기), a(추가)\n",
    "\n",
    "f = open(\"새파일.txt\",'w') # 파일 열기 by 쓰기모드; 없으면 새로운 파일 생성 \n",
    "f.close() # 열려 있는 파일 객체 닫기"
   ]
  },
  {
   "cell_type": "code",
   "execution_count": 17,
   "metadata": {},
   "outputs": [
    {
     "name": "stdout",
     "output_type": "stream",
     "text": [
      "1번째 출력입니다.\n",
      "2번째 출력입니다.\n",
      "3번째 출력입니다.\n",
      "4번째 출력입니다.\n",
      "5번째 출력입니다.\n",
      "6번째 출력입니다.\n",
      "7번째 출력입니다.\n",
      "8번째 출력입니다.\n",
      "9번째 출력입니다.\n",
      "10번째 출력입니다.\n"
     ]
    }
   ],
   "source": [
    "### 파일을 쓰기 모드로 열어 출력값 적기; 'w' ###\n",
    "\n",
    "f = open(\"새파일.txt\",'w')\n",
    "for i in range(1,11): # 1-10\n",
    "    data = \"%d번째 출력입니다.\"%i\n",
    "    f.write(data) # 파일에 data라는 변수 내용 쓰기 \n",
    "f.close()\n",
    "\n",
    "# cf\n",
    "\n",
    "for i in range(1,11):\n",
    "    data = \"%d번째 출력입니다.\"%i\n",
    "    print(data)\n",
    "    \n",
    "# 명령 프롬포트에서 실행(*)"
   ]
  },
  {
   "cell_type": "code",
   "execution_count": 24,
   "metadata": {},
   "outputs": [
    {
     "name": "stdout",
     "output_type": "stream",
     "text": [
      "\n",
      "\n"
     ]
    }
   ],
   "source": [
    "### 프로그램 외부 파일 읽기; 'r' ###\n",
    "\n",
    "# 1. readline()\n",
    "\n",
    "f = open(\"새파일.txt\",'r')\n",
    "line = f.readline() # readline(); 파일을 한 줄 씩 읽어나감\n",
    "print(line)\n",
    "f.close()\n",
    "\n",
    "f = open(\"새파일.txt\",'r')\n",
    "while True: # 무한 루프\n",
    "    line = f.readline() # 파일을 계속해서 한 줄씩 읽어나가기\n",
    "    if not line: break # 더 이상 읽을 줄이 없으면 루프 탈출\n",
    "    print(line)\n",
    "f.close()\n",
    "\n",
    "# cf\n",
    "\n",
    "while 1: # 1 == True (0 == False)\n",
    "    data = input()\n",
    "    if not data: break\n",
    "    print(data)\n",
    "    \n",
    "# 2. readlines()\n",
    "\n",
    "f = open(\"새파일.txt\",'r')\n",
    "lines = f.readlines() # readlines(); 파일의 모든 줄을 요소로 갖는 리스트\n",
    "for line in lines:\n",
    "    print(line)\n",
    "f.close()\n",
    "\n",
    "# 3. read()\n",
    "\n",
    "f = open(\"새파일.txt\",'r')\n",
    "data = f.read() #read(); 파일의 내용 전체를 문자열로 돌려줌 \n",
    "print(data)\n",
    "f.close"
   ]
  },
  {
   "cell_type": "code",
   "execution_count": null,
   "metadata": {},
   "outputs": [],
   "source": [
    "### 파일에 새로운 내용 추가하기; 'a' ###\n",
    "\n",
    "# 쓰기모드로 파일을 열 때;\n",
    "# 이미 존재하는 파일 - 파일의 내용 모두 삭제됨\n",
    "# 존재하지 않는 파일 - 새로운 파일로 생성 \n",
    "# 따라서 파일에 내용을 추가하고 싶으면 추가모드 'a' 이용\n",
    "\n",
    "f = open(\"새파일.txt\",'a')\n",
    "for i in range(11,20): # 11-19\n",
    "    data = \"%번째 줄입니다.\\n\"%i\n",
    "    f.write(data) # 쓰기모드에서도 f.write지만 여기서는 기존 파일에 내용을 추가함\n",
    "f.close"
   ]
  },
  {
   "cell_type": "code",
   "execution_count": 25,
   "metadata": {},
   "outputs": [
    {
     "data": {
      "text/plain": [
       "<function TextIOWrapper.close()>"
      ]
     },
     "execution_count": 25,
     "metadata": {},
     "output_type": "execute_result"
    }
   ],
   "source": [
    "### with문과 함꼐 사용하기 ###\n",
    "\n",
    "# with; 파일 열고 닫기를 자동으로 처리\n",
    "\n",
    "f = open(\"foo.txt\",'w') # 존재하지 않는 파일; 새로운 파일 생성\n",
    "f.write(\"Life is too short, you need python\")\n",
    "f.close()\n",
    "\n",
    "with open(\"foo.txt\",'w') as f:\n",
    "    f.write(\"Life is too short, you need python\")\n",
    "# 위와 같은 결과; f.close를 안 써도 자동으로 파일이 닫히므로 좀 더 간단 "
   ]
  },
  {
   "cell_type": "code",
   "execution_count": 29,
   "metadata": {},
   "outputs": [
    {
     "name": "stdout",
     "output_type": "stream",
     "text": [
      "-f\n",
      "C:\\Users\\USER\\AppData\\Roaming\\jupyter\\runtime\\kernel-c272f426-2238-4825-98ba-42ad8561fa38.json\n",
      "-FC:\\USERS\\USER\\APPDATA\\ROAMING\\JUPYTER\\RUNTIME\\KERNEL-C272F426-2238-4825-98BA-42AD8561FA38.JSON"
     ]
    }
   ],
   "source": [
    "### sys 모듈로 매개변수 주기(*) ###\n",
    "\n",
    "# sys 모듈을 이용해 매개변수를 직접 줄 수 있음\n",
    "\n",
    "import sys \n",
    "args = sys.argv[1:]\n",
    "for i in args:\n",
    "    print(i)\n",
    "# 입력받은 인수를 for문을 이용해 하나씩 출력   \n",
    "\n",
    "import sys\n",
    "args = sys.argv[1:]\n",
    "for i in args:\n",
    "    print(i.upper(),end='')"
   ]
  }
 ],
 "metadata": {
  "kernelspec": {
   "display_name": "Python 3",
   "language": "python",
   "name": "python3"
  },
  "language_info": {
   "codemirror_mode": {
    "name": "ipython",
    "version": 3
   },
   "file_extension": ".py",
   "mimetype": "text/x-python",
   "name": "python",
   "nbconvert_exporter": "python",
   "pygments_lexer": "ipython3",
   "version": "3.7.3"
  }
 },
 "nbformat": 4,
 "nbformat_minor": 2
}
