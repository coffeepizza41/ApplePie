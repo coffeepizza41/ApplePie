{
 "cells": [
  {
   "cell_type": "markdown",
   "metadata": {},
   "source": [
    "# Q1 문자열 바꾸기"
   ]
  },
  {
   "cell_type": "code",
   "execution_count": 6,
   "metadata": {},
   "outputs": [
    {
     "data": {
      "text/plain": [
       "'a#b#c#d'"
      ]
     },
     "execution_count": 6,
     "metadata": {},
     "output_type": "execute_result"
    }
   ],
   "source": [
    "# 문자열 쪼개기 by split\n",
    "q1 = \"a:b:c:d\"\n",
    "q1_ = q1.split(\":\")\n",
    "\n",
    "# 문자열 연결 by join\n",
    "res = \"#\".join(q1_)\n",
    "res"
   ]
  },
  {
   "cell_type": "markdown",
   "metadata": {},
   "source": [
    "# Q2 딕셔너리 값 추출하기"
   ]
  },
  {
   "cell_type": "code",
   "execution_count": 10,
   "metadata": {},
   "outputs": [
    {
     "name": "stdout",
     "output_type": "stream",
     "text": [
      "{'A': 90, 'B': 80, 'C': 70}\n"
     ]
    },
    {
     "data": {
      "text/plain": [
       "70"
      ]
     },
     "execution_count": 10,
     "metadata": {},
     "output_type": "execute_result"
    }
   ],
   "source": [
    "a = {'A':90, 'B':80}\n",
    "a['C'] = 70 # 사전에 원소 추가 \n",
    "\n",
    "print(a)\n",
    "a['C']"
   ]
  },
  {
   "cell_type": "markdown",
   "metadata": {},
   "source": [
    "# Q3 리스트의 더하기와 extend 함수"
   ]
  },
  {
   "cell_type": "code",
   "execution_count": 12,
   "metadata": {},
   "outputs": [
    {
     "data": {
      "text/plain": [
       "[1, 2, 3, 4, 5]"
      ]
     },
     "execution_count": 12,
     "metadata": {},
     "output_type": "execute_result"
    }
   ],
   "source": [
    "# 리스트 더하기 by +\n",
    "a = [1,2,3]\n",
    "a = a + [4,5] \n",
    "a\n",
    "\n",
    "# 리스트 더하기 by extend\n",
    "a = [1,2,3]\n",
    "a.extend([4,5])\n",
    "a\n",
    "\n",
    "# '+'; 기존의 리스트에 다른 리스트를 더함 -> 아예 다른 리스트가 됨(주소 바뀜)\n",
    "# 'extend'; 기존의 리스트에 원소를 추가 -> 기존의 리스트와 동일(주소 그대로)"
   ]
  },
  {
   "cell_type": "markdown",
   "metadata": {},
   "source": [
    "# Q4 리스트 총합 구하기"
   ]
  },
  {
   "cell_type": "code",
   "execution_count": 18,
   "metadata": {},
   "outputs": [
    {
     "name": "stdout",
     "output_type": "stream",
     "text": [
      "481\n"
     ]
    }
   ],
   "source": [
    "A = [20, 55, 67, 82, 45, 33, 90, 87, 100, 25]\n",
    "\n",
    "res = 0\n",
    "for i in A:\n",
    "    if i >= 50:\n",
    "        res += i\n",
    "print(res)"
   ]
  },
  {
   "cell_type": "markdown",
   "metadata": {},
   "source": [
    "# Q5 피보나치 함수(*)"
   ]
  },
  {
   "cell_type": "code",
   "execution_count": 44,
   "metadata": {},
   "outputs": [
    {
     "name": "stdout",
     "output_type": "stream",
     "text": [
      "0 1 1 2 3 5 8 13 21 34 "
     ]
    }
   ],
   "source": [
    "def Fibonacci(n): \n",
    "    if n == 0:\n",
    "        return 0\n",
    "    elif n == 1:\n",
    "        return 1\n",
    "    else:\n",
    "        return Fibonacci(n-2) + Fibonacci(n-1)\n",
    "\n",
    "    \n",
    "for i in range(10):\n",
    "    print(Fibonacci(i), end=' ')"
   ]
  },
  {
   "cell_type": "markdown",
   "metadata": {},
   "source": [
    "# Q6 숫자의 총합 구하기"
   ]
  },
  {
   "cell_type": "code",
   "execution_count": 33,
   "metadata": {},
   "outputs": [
    {
     "name": "stdout",
     "output_type": "stream",
     "text": [
      "숫자를 콤마로 구분하여 입력하시오: 65,45,2,3,45,8\n",
      "168\n"
     ]
    }
   ],
   "source": [
    "res = 0\n",
    "number = input(\"숫자를 콤마로 구분하여 입력하시오: \")\n",
    "number =  number.split(',')\n",
    "for n in number:\n",
    "    res += int(n)\n",
    "print(res)"
   ]
  },
  {
   "cell_type": "markdown",
   "metadata": {},
   "source": [
    "# Q7 한 줄 구구단"
   ]
  },
  {
   "cell_type": "code",
   "execution_count": 38,
   "metadata": {},
   "outputs": [
    {
     "name": "stdout",
     "output_type": "stream",
     "text": [
      "구구단을 출력할 숫자를 입력하세요(2~9): 2\n",
      "2 4 6 8 10 12 14 16 18 "
     ]
    }
   ],
   "source": [
    "n = input(\"구구단을 출력할 숫자를 입력하세요(2~9): \")\n",
    "n = int(n)\n",
    "for i in range(1,10):\n",
    "    print(i*n, end=' ')"
   ]
  },
  {
   "cell_type": "markdown",
   "metadata": {},
   "source": [
    "# Q8 역순 저장(*)"
   ]
  },
  {
   "cell_type": "code",
   "execution_count": 5,
   "metadata": {},
   "outputs": [],
   "source": [
    "f = open(\"abc.txt\",'r')\n",
    "lines = f.readlines() # 모든 라인을 읽음\n",
    "f.close() # 파일을 꼭 닫아야 정상적으로 다음 작업 가능\n",
    "\n",
    "lines.reverse() # 읽은 라인 뒤집기\n",
    "\n",
    "f = open('abc.txt','w')\n",
    "for line in lines:\n",
    "    line = line.strip() # strip(); 포함되어 있는 줄 바꿈 문자 제거\n",
    "    f.write(line)\n",
    "    f.write('\\n') # 줄 바꿈 문자 삽입\n",
    "f.close()"
   ]
  },
  {
   "cell_type": "markdown",
   "metadata": {},
   "source": [
    "# Q9 평균값 구하기(*)"
   ]
  },
  {
   "cell_type": "code",
   "execution_count": null,
   "metadata": {},
   "outputs": [],
   "source": [
    "f = open(\"sample.txt\")\n",
    "lines = f.readlines( )  # sample.txt를 줄 단위로 모두 읽는다.\n",
    "f.close( )\n",
    "\n",
    "total = 0\n",
    "for line in lines:\n",
    "    score = int(line)  # 줄에 적힌 점수를 숫자형으로 변환한다.\n",
    "    total += score\n",
    "average = total / len(lines)\n",
    "\n",
    "f = open(\"result.txt\", \"w\")\n",
    "f.write(str(average))\n",
    "f.close()"
   ]
  },
  {
   "cell_type": "markdown",
   "metadata": {},
   "source": [
    "# Q10 사친연산 구하기(*)"
   ]
  },
  {
   "cell_type": "code",
   "execution_count": 54,
   "metadata": {},
   "outputs": [
    {
     "name": "stdout",
     "output_type": "stream",
     "text": [
      "15\n",
      "3.0\n",
      "40\n",
      "8.0\n"
     ]
    }
   ],
   "source": [
    "class Calculator():\n",
    "    def __init__(self, li):\n",
    "        self.li = li\n",
    "    def add(self):\n",
    "        return sum(self.li)\n",
    "    def avg(self):\n",
    "        return sum(self.li)/len(self.li)\n",
    "    \n",
    "cal1 = Calculator([1,2,3,4,5]) \n",
    "print (cal1.add())\n",
    "print (cal1.avg())\n",
    "\n",
    "cal2 = Calculator([6,7,8,9,10]) \n",
    "print (cal2.add())\n",
    "print (cal2.avg())"
   ]
  },
  {
   "cell_type": "markdown",
   "metadata": {},
   "source": [
    "# Q11 모듈 사용 방법(*)"
   ]
  },
  {
   "cell_type": "code",
   "execution_count": null,
   "metadata": {},
   "outputs": [],
   "source": [
    "# 1. sys 모듈 사용하기\n",
    "import sys\n",
    "sys.path.append(\"c:/doit\")\n",
    "import mymod\n",
    "\n",
    "# 2. PYTHONPATH 환경 변수 사용하기\n",
    "C:\\Users\\home>set PYTHONPATH=c:\\doit\n",
    "C:\\Users\\home>python\n",
    "import mymod\n",
    "\n",
    "# 3. 현재 디렉터리 사용하기\n",
    "C:\\Users\\home>cd c:\\doit\n",
    "C:\\doit>python\n",
    "import mymod"
   ]
  },
  {
   "cell_type": "markdown",
   "metadata": {},
   "source": [
    "# Q12 오류와 예외처리"
   ]
  },
  {
   "cell_type": "code",
   "execution_count": null,
   "metadata": {},
   "outputs": [],
   "source": [
    "result = 0\n",
    "\n",
    "try:\n",
    "    [1, 2, 3][3] # IndexError\n",
    "    \"a\"+1 # TypeError\n",
    "    4 / 0 # ZeroDivisionError\n",
    "except TypeError:\n",
    "    result += 1\n",
    "except ZeroDivisionError:\n",
    "    result += 2\n",
    "except IndexError:\n",
    "    result += 3\n",
    "finally:\n",
    "    result += 4\n",
    "\n",
    "print(result) # 3+4=7\n",
    "\n",
    "# try문에 여러 오류가 포함되어 있지만, \n",
    "# 맨 처음 인덱스 오류를 만나고 except문으로 이동한 이후\n",
    "# 바로 finally문으로 이동해 루프를 탈출하므로 최종 result값은 7이다."
   ]
  },
  {
   "cell_type": "markdown",
   "metadata": {},
   "source": [
    "# Q13 DashInsert 함수(*)"
   ]
  },
  {
   "cell_type": "code",
   "execution_count": null,
   "metadata": {},
   "outputs": [],
   "source": [
    "data = \"4546793\"\n",
    "numbers = list(map(int, data))   # 숫자 문자열을 숫자 리스트로 변경\n",
    "result = []\n",
    "\n",
    "for i, num in enumerate(numbers):\n",
    "    result.append(str(num))\n",
    "    if i < len(numbers)-1:                   # 다음 수가 있다면\n",
    "        is_odd = num % 2 == 1                # 현재 수가 홀수\n",
    "        is_next_odd = numbers[i+1] % 2 == 1  # 다음 수가 홀수\n",
    "        if is_odd and is_next_odd:           # 연속 홀수\n",
    "            result.append(\"-\")\n",
    "        elif not is_odd and not is_next_odd: # 연속 짝수\n",
    "            result.append(\"*\")\n",
    "\n",
    "print(\"\".join(result))"
   ]
  },
  {
   "cell_type": "markdown",
   "metadata": {},
   "source": [
    "# Q14 문자열 압축하기(*)"
   ]
  },
  {
   "cell_type": "code",
   "execution_count": null,
   "metadata": {},
   "outputs": [],
   "source": [
    "def compress_string(s):\n",
    "    _c = \"\"\n",
    "    cnt = 0\n",
    "    result = \"\"\n",
    "    for c in s:\n",
    "        if c!=_c:\n",
    "            _c = c\n",
    "            if cnt: result += str(cnt)\n",
    "            result += c\n",
    "            cnt = 1\n",
    "        else:\n",
    "            cnt +=1\n",
    "    if cnt: result += str(cnt)\n",
    "    return result\n",
    "\n",
    "print (compress_string(\"aaabbcccccca\"))  # a3b2c6a1 출력"
   ]
  },
  {
   "cell_type": "markdown",
   "metadata": {},
   "source": [
    "# Q15 Duplicate Numbers(*)"
   ]
  },
  {
   "cell_type": "code",
   "execution_count": null,
   "metadata": {},
   "outputs": [],
   "source": [
    "def chkDupNum(s):\n",
    "    result = []\n",
    "    for num in s:\n",
    "        if num not in result:\n",
    "            result.append(num)\n",
    "        else:\n",
    "            return False\n",
    "    return len(result) == 10\n",
    "\n",
    "print(chkDupNum(\"0123456789\"))      # True 리턴\n",
    "print(chkDupNum(\"01234\"))           # False 리턴\n",
    "print(chkDupNum(\"01234567890\"))     # False 리턴\n",
    "print(chkDupNum(\"6789012345\"))      # True 리턴\n",
    "print(chkDupNum(\"012322456789\"))    # False 리턴"
   ]
  },
  {
   "cell_type": "markdown",
   "metadata": {},
   "source": [
    "# Q16 모스 부호 해독(*)"
   ]
  },
  {
   "cell_type": "code",
   "execution_count": null,
   "metadata": {},
   "outputs": [],
   "source": [
    "dic = {\n",
    "    '.-':'A','-...':'B','-.-.':'C','-..':'D','.':'E','..-.':'F',\n",
    "    '--.':'G','....':'H','..':'I','.---':'J','-.-':'K','.-..':'L',\n",
    "    '--':'M','-.':'N','---':'O','.--.':'P','--.-':'Q','.-.':'R',\n",
    "    '...':'S','-':'T','..-':'U','...-':'V','.--':'W','-..-':'X',\n",
    "    '-.--':'Y','--..':'Z'\n",
    "}\n",
    "\n",
    "def morse(src):\n",
    "    result = []\n",
    "    for word in src.split(\"  \"):\n",
    "        for char in word.split(\" \"):\n",
    "            result.append(dic[char])\n",
    "        result.append(\" \")\n",
    "    return \"\".join(result)\n",
    "\n",
    "\n",
    "print(morse('.... .  ... .-.. . . .--. ...  . .- .-. .-.. -.--'))"
   ]
  },
  {
   "cell_type": "markdown",
   "metadata": {},
   "source": [
    "# Q17 기초 메타 문자"
   ]
  },
  {
   "cell_type": "code",
   "execution_count": 15,
   "metadata": {},
   "outputs": [
    {
     "name": "stdout",
     "output_type": "stream",
     "text": [
      "None\n",
      "<re.Match object; span=(0, 6), match='a....b'>\n",
      "None\n",
      "None\n"
     ]
    }
   ],
   "source": [
    "import re\n",
    "\n",
    "p = re.compile(\"a[.]{3,}b\") # 정규식; a로 시작, b로 끝남, 중간에 '.' 3개 이상\n",
    "\n",
    "print (p.match(\"acccb\"))    # None\n",
    "print (p.match(\"a....b\"))   # 매치 객체 출력\n",
    "print (p.match(\"aaab\"))     # None\n",
    "print (p.match(\"a.cccb\"))   # None"
   ]
  },
  {
   "cell_type": "markdown",
   "metadata": {},
   "source": [
    "# Q18 문자열 검색(*)"
   ]
  },
  {
   "cell_type": "code",
   "execution_count": 14,
   "metadata": {},
   "outputs": [
    {
     "data": {
      "text/plain": [
       "10"
      ]
     },
     "execution_count": 14,
     "metadata": {},
     "output_type": "execute_result"
    }
   ],
   "source": [
    "import re\n",
    "p = re.compile(\"[a-z]+\") # re.compile; 패턴 지정(소문자로 이루어진 단어)\n",
    "m = p.search(\"5 python\") # search; 검색(대소문자 구분X)\n",
    "m.start() + m.end() # 2+8=10; 근데 왜 8이지? 7 아님?"
   ]
  },
  {
   "cell_type": "markdown",
   "metadata": {},
   "source": [
    "# Q19 그루핑(*)"
   ]
  },
  {
   "cell_type": "code",
   "execution_count": 10,
   "metadata": {},
   "outputs": [
    {
     "name": "stdout",
     "output_type": "stream",
     "text": [
      "\n",
      "park 010-9999-####\n",
      "kim 010-9909-####\n",
      "lee 010-8789-####\n",
      "\n"
     ]
    }
   ],
   "source": [
    "# 모듈 불러오기 for 정규식\n",
    "import re\n",
    "\n",
    "# 전화번호 패턴\n",
    "pat = re.compile(\"\\d{3}[-]\\d{4}[-]\\d{4}\")\n",
    "\n",
    "# 전화번호 패턴 그루핑 for 뒷 네자리 #처리\n",
    "pat = re.compile(\"(\\d{3}[-]\\d{4})[-]\\d{4}\")\n",
    "\n",
    "# ans;\n",
    "import re\n",
    "\n",
    "s = \"\"\"\n",
    "park 010-9999-9988\n",
    "kim 010-9909-7789\n",
    "lee 010-8789-7768\n",
    "\"\"\"\n",
    "\n",
    "pat = re.compile(\"(\\d{3}[-]\\d{4})[-]\\d{4}\") # 전화번호 패턴\n",
    "result = pat.sub(\"\\g<1>-####\", s) # 컴파일된 객체 pat에 sub 함수 이용하여 변경\n",
    "\n",
    "print(result)"
   ]
  },
  {
   "cell_type": "markdown",
   "metadata": {},
   "source": [
    "# Q20 전방 탐색(*)"
   ]
  },
  {
   "cell_type": "code",
   "execution_count": 11,
   "metadata": {},
   "outputs": [
    {
     "name": "stdout",
     "output_type": "stream",
     "text": [
      "<re.Match object; span=(0, 16), match='pahkey@gmail.com'>\n",
      "<re.Match object; span=(0, 12), match='kim@daum.net'>\n",
      "None\n"
     ]
    }
   ],
   "source": [
    "# 긍정형 전방탐색 패턴 적용\n",
    "pat = re.compile(\".*[@].*[.](?=com$|net$).*$\")\n",
    "\n",
    "# ans;\n",
    "import re\n",
    "\n",
    "pat = re.compile(\".*[@].*[.](?=com$|net$).*$\")\n",
    "\n",
    "print(pat.match(\"pahkey@gmail.com\"))\n",
    "print(pat.match(\"kim@daum.net\"))\n",
    "print(pat.match(\"lee@myhome.co.kr\"))"
   ]
  }
 ],
 "metadata": {
  "kernelspec": {
   "display_name": "Python 3",
   "language": "python",
   "name": "python3"
  },
  "language_info": {
   "codemirror_mode": {
    "name": "ipython",
    "version": 3
   },
   "file_extension": ".py",
   "mimetype": "text/x-python",
   "name": "python",
   "nbconvert_exporter": "python",
   "pygments_lexer": "ipython3",
   "version": "3.7.3"
  }
 },
 "nbformat": 4,
 "nbformat_minor": 2
}
