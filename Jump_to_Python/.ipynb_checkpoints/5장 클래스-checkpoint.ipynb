{
 "cells": [
  {
   "cell_type": "markdown",
   "metadata": {},
   "source": [
    "# 1. 클래스"
   ]
  },
  {
   "cell_type": "code",
   "execution_count": 3,
   "metadata": {},
   "outputs": [
    {
     "name": "stdout",
     "output_type": "stream",
     "text": [
      "3\n",
      "7\n",
      "3\n",
      "7\n",
      "3\n",
      "10\n"
     ]
    }
   ],
   "source": [
    "### 클래스를 배우는 이유 ###\n",
    "\n",
    "# 프로그램 작성에 필수는 아니지만, 훨씬 편리하게 코드를 짤 수 있음\n",
    "\n",
    "# 예; 계산기\n",
    "# 계산기는 이전에 계산한 결과값을 기억해야 함\n",
    "\n",
    "res = 0\n",
    "\n",
    "def add(num):\n",
    "    global res # res; 전역변수이므로 함수 밖 변수 수정 가능 \n",
    "    res += num\n",
    "    return res\n",
    "\n",
    "print(add(3))\n",
    "print(add(4))\n",
    "\n",
    "# 이런 계산기가 2대 필요할 경우? 새로운 함수를 만들어야 함 \n",
    "\n",
    "result1 = 0\n",
    "result2 = 0\n",
    "\n",
    "def add1(num):\n",
    "    global result1\n",
    "    result1 += num\n",
    "    return result1\n",
    "\n",
    "def add2(num):\n",
    "    global result2\n",
    "    result2 += num\n",
    "    return result2\n",
    "\n",
    "print(add1(3))\n",
    "print(add1(4))\n",
    "print(add2(3))\n",
    "print(add2(7))\n",
    "\n",
    "# 필요한 계산기 개수가 많아질수록, 기능이 많아질수록 어렵 \n",
    "# 이러한 문제의 해결책으로 클래스가 필요\n",
    "\n",
    "class Calculator:\n",
    "    def __init__(self):\n",
    "        self.result = 0\n",
    "\n",
    "    def add(self, num):\n",
    "        self.result += num\n",
    "        return self.result\n",
    "\n",
    "cal1 = Calculator()\n",
    "cal2 = Calculator()\n",
    "\n",
    "print(cal1.add(3))\n",
    "print(cal1.add(4))\n",
    "print(cal2.add(3))\n",
    "print(cal2.add(7))"
   ]
  },
  {
   "cell_type": "code",
   "execution_count": 4,
   "metadata": {},
   "outputs": [],
   "source": [
    "### 클래스와 객체 ###\n",
    "\n",
    "# 과자 틀 -> 클래스(class); 똑같은 무언가를 계속 만들어 낼 수 있는 설계 도면\n",
    "# 과자 틀에 의해서 만들어진 과자 -> 객체(object); 클래스로 만든 피조물 \n",
    "\n",
    "class Cookie: # 아무 기능도 갖고 있지 않는 껍질뿐인 클래스\n",
    "    pass # 하지만 이런 클래스도 객체를 생성함\n",
    "\n",
    "a = Cookie() # 객체 1 by Cookie class\n",
    "b = Cookie() # 객체 2 by Cookie class\n",
    "\n",
    "# 객체와 인스턴스의 차이(*)\n",
    "# 클래스로 만든 객체를 '인스턴스'라고도 함\n",
    "# a = Cookie()에서 'a는 객체', 'a는 Cookie의 인스턴스'\n",
    "# 즉, 인스턴스는 객체가 어떤 클래스의 객체인지를 '관계'위주로 설명할 때 사용\n",
    "# \"a는 인스턴스\"보다는 \"a는 객체\"라는 표현이 어울리며,\n",
    "# \"a는 Cookie의 객체\"보다는 \"a는 Cookie의 인스턴스\"라는 표현이 어울림."
   ]
  },
  {
   "cell_type": "code",
   "execution_count": 19,
   "metadata": {},
   "outputs": [
    {
     "name": "stdout",
     "output_type": "stream",
     "text": [
      "4\n",
      "2\n",
      "4\n",
      "3\n",
      "140733203387296\n",
      "140733203387264\n",
      "6\n"
     ]
    },
    {
     "data": {
      "text/plain": [
       "0.375"
      ]
     },
     "execution_count": 19,
     "metadata": {},
     "output_type": "execute_result"
    }
   ],
   "source": [
    "### 사칙연산 클래스 ###\n",
    "\n",
    "# 클래스를 만들 때, 객체를 중심으로 어떤 동작을 할 지 미리 생각해보고\n",
    "# 하나하나 해결하면서 완성해 나가는 것이 좋음\n",
    "\n",
    "# 클래스 만들기 전, '이런 클래스를 만들고 싶다' 목표 구상\n",
    "# a = FourCal() # 먼저 a라는 객체 생성\n",
    "# a.setdata(4,2) # 숫자 2개 지정 \n",
    "# print(a.add()) # 두 수를 합한 결과 (4+2)\n",
    "# print(a.mul()) # 두 수를 곱한 결과 (4*2)\n",
    "# print(a.sub()) # 두 수를 뺀 결과 (4-2)\n",
    "# print(a.div()) # 두 수를 나눈 결과 (4/2)\n",
    "\n",
    "# 1단계; 객체를 만들 수 있는 아주 기본적인 빈 클래스 생성 \n",
    "\n",
    "class FourCal: \n",
    "    pass # pass; 아무것도 수행하지 않음. 임시 코드 작성 시 주로 사용 \n",
    "\n",
    "a = FourCal() # 객체 a 생성\n",
    "type(a) # a는 FourCal의 인스턴스\n",
    "\n",
    "# 2단계; 숫자 지정 by 메서드(클래스 내부의 함수)\n",
    "\n",
    "class FourCal:\n",
    "    def setdata(self, first, second): # 클래스 안에 구현된 함수 = 메서드(Method)\n",
    "        self.first = first\n",
    "        self.second = second\n",
    "\n",
    "a = FourCal()\n",
    "a.setdata(4,2) # 메서드 호출 by '.'\n",
    "\n",
    "# <setdata 메서드의 매개변수>\n",
    "# Q. 이때, 왜 setdata의 매개변수는 self,first,second 세 갠데 2개만 전달할까?\n",
    "# A. a.setdata(4,2)처럼 호출하면 setdata 메서드의 첫 번째 매개변수 self는 \n",
    "# setdata 메서드를 호출한 객체 a가 자동으로 전달됨 \n",
    "# 즉, a -> self, 4 -> first, 2 -> second\n",
    "# 즉, 메서드의 첫 번째 변수는 객체를 호출할 때 호출한 객체 자신이 전달됨.\n",
    "# 따라서 self가 아니어도 됨(관례적으로 self를 사용)\n",
    "\n",
    "# or 메서드의 또 다른 호출 방법 by 클래스\n",
    "\n",
    "a = FourCal()\n",
    "FourCal.setdata(a,4,2) # 이때는 변수 세개를 쓰며 객체 'a'를 명시해야 함 \n",
    "\n",
    "# <setdata 메서드의 수행문>\n",
    "\n",
    "a.setdata(4,2) # a->self, 4->first, 2->second\n",
    "\n",
    "a.first = 4 # self.first = 4\n",
    "a.second = 2 # self.second = 2\n",
    "\n",
    "print(a.first) # 4 \n",
    "print(a.second) # 2\n",
    "\n",
    "# 다른 객체도 생성해보자\n",
    "\n",
    "a = FourCal()\n",
    "b = FourCal()\n",
    "\n",
    "a.setdata(4,2)\n",
    "print(a.first) # 4\n",
    "\n",
    "b.setdata(3,7) \n",
    "print(b.first) # 3\n",
    "\n",
    "# 즉, 클래스로 만든 객체의 객체변수는 다른 객체의 객체변수에 독립이다. \n",
    "# id 함수를 이용해서도 확인 가능(id; 객체의 주소를 알려주는 함수)\n",
    "\n",
    "print(id(a.first))\n",
    "print(id(b.first))\n",
    "\n",
    "# 즉, 주소값이 서로 다르므로 a, b 객체는 서로 다른 곳에 저장됨\n",
    "# 이는 각 객체변수는 다른 객체에 영향을 받지 않고 독립적으로 그 값을 유지한다는 것\n",
    "\n",
    "# 3단계; 더하기 기능 만들기\n",
    "\n",
    "class FourCal():\n",
    "    def setdata(self, first, second):\n",
    "        self.first = first\n",
    "        self.second = second\n",
    "    def add(self):\n",
    "        res = self.first + self.second\n",
    "        return res\n",
    "\n",
    "a = FourCal()\n",
    "a.setdata(4,2)\n",
    "print(a.add())\n",
    "\n",
    "# add 메서드의 매개변수는 self이다. 즉, 객체 a를 받으면 그 외 입력값은 필요 X\n",
    "# 대신 반환값 res를 위해서 self.first, self.second가 필요함.\n",
    "# 즉, setdata 메서드를 통해서 위의 값이 지정되어야 사용 가능\n",
    "# a.add()를 실행하면 a가 자동으로 self에 입력되고 a.first, a.second로 해석됨\n",
    "\n",
    "# 4단계; 그 외 곱하기, 빼기 나누기 기능 만들기\n",
    "\n",
    "class FourCal():\n",
    "    def setdata(self, first, second):\n",
    "        self.first = first\n",
    "        self.second = second\n",
    "    def add(self):\n",
    "        res = self.first + self.second\n",
    "        return res\n",
    "    def mul(self):\n",
    "        res = self.first * self.second\n",
    "        return res\n",
    "    def sub(self):\n",
    "        res = self.first - self.second\n",
    "        return res\n",
    "    def div(self):\n",
    "        res = self.first / self.second\n",
    "        return res\n",
    "    \n",
    "# 5단계; 제대로 동작하는 지 확인\n",
    "\n",
    "a = FourCal()\n",
    "b = FourCal()\n",
    "\n",
    "a.setdata(4, 2)\n",
    "b.setdata(3, 8)\n",
    "\n",
    "a.add()\n",
    "a.mul()\n",
    "a.sub()\n",
    "a.div()\n",
    "\n",
    "b.add()\n",
    "b.mul()\n",
    "b.sub()\n",
    "b.div()"
   ]
  },
  {
   "cell_type": "code",
   "execution_count": 28,
   "metadata": {},
   "outputs": [
    {
     "name": "stdout",
     "output_type": "stream",
     "text": [
      "4\n",
      "2\n"
     ]
    }
   ],
   "source": [
    "### 생성자(Constructor) ###\n",
    "\n",
    "a = FourCal()\n",
    "a.add()\n",
    "\n",
    "# setdata 메서드를 수행하지 않고 add 메서드를 수행하면 \"AttributeError\" 오류\n",
    "# setdata 메서드를 수행해야 객체 a의 객체변수 first, second가 생성되기 때문\n",
    "\n",
    "# 이렇게 객체에 초기값을 설정해야 할 때 setdata 같은 메서드를 호출하는 것보다\n",
    "# '생성자'를 구현하는 것이 안전한 방법\n",
    "# 생성자(Constructor); 객체가 생성될 때 자동으로 호출되는 메서드\n",
    "# 파이썬 메서드 이름으로 '__init__'을 사용하면 이 메서드는 생성자가 됨\n",
    "\n",
    "class FourCal():\n",
    "    def __init__(self, first, second): # setdata 메서드 대신 init 메서드 사용\n",
    "        self.first = first\n",
    "        self.second = second\n",
    "    def add(self):\n",
    "        res = self.first + self.second\n",
    "        return res\n",
    "    def mul(self):\n",
    "        res = self.first * self.second\n",
    "        return res\n",
    "    def sub(self):\n",
    "        res = self.first - self.second\n",
    "        return res\n",
    "    def div(self):\n",
    "        res = self.first / self.second\n",
    "        return res\n",
    "    \n",
    "# setdata 메서드와 같은 내용이지만 이름만 __init__으로 바뀜\n",
    "# 파이썬에서 __init__은 생성자로 인식되어 객체가 생성되면 자동으로 호출\n",
    "\n",
    "a = FourCal() # 오류; 생성자가 있으므로 객체를 생성할 때 값을 전달해야 함\n",
    "a = FourCal(4,2) # a->self, 4->first, 2->second in __init__ method\n",
    "\n",
    "print(a.first)\n",
    "print(a.second)"
   ]
  },
  {
   "cell_type": "code",
   "execution_count": 31,
   "metadata": {},
   "outputs": [
    {
     "data": {
      "text/plain": [
       "16"
      ]
     },
     "execution_count": 31,
     "metadata": {},
     "output_type": "execute_result"
    }
   ],
   "source": [
    "### 클래스의 상속 ###\n",
    "\n",
    "# 상속; 어떤 클래스를 만들 때 다른 클래스의 기능을 물려받게 만드는 것\n",
    "# 생성하는 클래스 이름 뒤 괄호에 상속할 클래스를 넣어주면 됨 \n",
    "# class 클래스 이름(상속할 클래스 이름):\n",
    "\n",
    "class MoreFourCal(FourCal):\n",
    "    pass \n",
    "\n",
    "# 기존 FourCal 클래스와 똑같은 기능을 하는 클래스 MoreFourCal 생성\n",
    "\n",
    "class MoreFourCal(FourCal):\n",
    "    def pow(self): # a^b 꼴의 연산 기능 추가\n",
    "        res = self.first ** self.second\n",
    "        return res\n",
    "\n",
    "a = MoreFourCal(4,2)\n",
    "a.pow()    \n",
    "\n",
    "# 이런 상속은 기존 클래스는 그대로 놔둔 채 클래스의 기능을 확장시킬 때 주로 사용"
   ]
  },
  {
   "cell_type": "code",
   "execution_count": 33,
   "metadata": {},
   "outputs": [
    {
     "data": {
      "text/plain": [
       "0"
      ]
     },
     "execution_count": 33,
     "metadata": {},
     "output_type": "execute_result"
    }
   ],
   "source": [
    "### 메서드 오버라이딩 ###\n",
    "\n",
    "a = FourCal(4, 0)\n",
    "a.div() # 오류; 0으로 나눌 수 없음\n",
    "\n",
    "# 이때 오류가 아닌 0을 돌려주도록 만들고 싶다면?\n",
    "\n",
    "class SafeFourCal(FourCal):\n",
    "    def div(self):\n",
    "        if self.second == 0:\n",
    "            return 0\n",
    "        else:\n",
    "            return self.first/self.second\n",
    "        \n",
    "# 메서드 오버라이딩; 부모 클래스에 있는 메서드를 동일한 이름으로 다시 만드는 것\n",
    "\n",
    "a = SafeFourCal(4,0)\n",
    "a.div()"
   ]
  },
  {
   "cell_type": "code",
   "execution_count": 37,
   "metadata": {},
   "outputs": [
    {
     "name": "stdout",
     "output_type": "stream",
     "text": [
      "김\n",
      "김\n",
      "김\n",
      "박\n",
      "박\n",
      "2311693426976\n",
      "2311693426976\n",
      "2311693426976\n"
     ]
    }
   ],
   "source": [
    "### 클래스 변수 ###\n",
    "\n",
    "# 객체변수는 다른 객체에 영향받지 않고 독립적으로 그 값을 유지한다\n",
    "# 그렇다면 클래스변수는 어떨까?\n",
    "\n",
    "# 클래스 변수 사용법\n",
    "# (1) 클래스이름.클래스변수\n",
    "# (2) 객체이름.클래스변수\n",
    "\n",
    "class Family:\n",
    "    lastname = \"김\" # lastname; 클래스변수\n",
    "    \n",
    "print(Family.lastname) # 클래스이름.클래스변수\n",
    "\n",
    "a = Family()\n",
    "b = Family()\n",
    "print(a.lastname) # 객체.클래스변수\n",
    "print(b.lastname) # 객체.클래스변수\n",
    "\n",
    "# 클래스변수 변경\n",
    "\n",
    "Family.lastname = '박'\n",
    "print(a.lastname)\n",
    "print(b.lastname)\n",
    "\n",
    "# 클래스변수 값을 변경하면 클래스로 만든 객체에서의 값도 모두 변경됨 \n",
    "# 즉, 클래스변수는 해당 클래스로 만든 모든 객체에 공유됨\n",
    "# 이를 id 함수를 이용해서도 알 수 있음\n",
    "\n",
    "print(id(Family.lastname))\n",
    "print(id(a.lastname))\n",
    "print(id(b.lastname))\n",
    "\n",
    "# 클래스변수보다는 객체변수가 더 중요함 "
   ]
  },
  {
   "cell_type": "markdown",
   "metadata": {},
   "source": [
    "# 2. 모듈(*)"
   ]
  },
  {
   "cell_type": "code",
   "execution_count": null,
   "metadata": {},
   "outputs": [],
   "source": [
    "### 모듈이란 ###\n",
    "\n",
    "# 모듈; 함수나 변수 또는 클래스를 모아놓은 파일\n",
    "# 다른 파이썬 프로그램에서 불러와 사용할 수 있게 만든 파이썬 파일 "
   ]
  },
  {
   "cell_type": "code",
   "execution_count": null,
   "metadata": {},
   "outputs": [],
   "source": [
    "### 모듈 만들기 ###\n",
    "\n",
    "def add(a,b):\n",
    "    return a+b\n",
    "\n",
    "def sub(a,b):\n",
    "    return a-b\n",
    "\n",
    "# 위와 같이 add, sub 함수만 있는 파일 mod1.py를 만들고 저장한 것이 모듈\n",
    "# 즉, 파이썬 확장자 .py로 만든 파이썬 파일은 모두 모듈"
   ]
  },
  {
   "cell_type": "code",
   "execution_count": null,
   "metadata": {},
   "outputs": [],
   "source": [
    "### 모듈 불러오기(*) ###\n",
    "\n",
    "# 명령 프롬포트 창에서 모듈을 저장한 디렉터리로 이동한 다음 대화형 인터프리터 실행\n",
    "\n",
    "import mod1 # 모듈 불러오기; import 모듈이름\n",
    "print(mod1.add(3,4)) # 모듈 사용하기; 모듈이름.모듈함수\n",
    "print(mod1.sub(4,2)) # 모듈 사용하기; 모듈이름.모듈함수\n",
    "\n",
    "# 모듈이름 없이 함수 이름만 쓰고 싶을 때\n",
    "\n",
    "from mod1 import add # from 모듈이름 import 모듈함수\n",
    "add(3,4) # 모듈이름 없이 모듈함수 바로 사용 가능\n",
    "\n",
    "from mod1 import add, sub # 모듈에서 여러개의 함수 한 번에 불러오기\n",
    "from mod1 import * # 모듈의 모든 함수 불러오기; 역시 모듈이름 없이 함수 사용 가능"
   ]
  },
  {
   "cell_type": "code",
   "execution_count": null,
   "metadata": {},
   "outputs": [],
   "source": [
    "### if __name__ == \"__main__\"의 의미\n",
    "\n",
    "# mod1.py 수정; print 문장 추가\n",
    "\n",
    "def add(a,b):\n",
    "    return a+b\n",
    "\n",
    "def sub(a,b):\n",
    "    return a-b\n",
    "\n",
    "print(add(1,4))\n",
    "print(sub(4,2))\n",
    "\n",
    "# 위의 모듈을 import하면 print가 자동으로 실행되는 문제가 생김 \n",
    "# 이런 문제를 방지하려면 다음처럼 변경해야 함\n",
    "\n",
    "def add(a, b): \n",
    "    return a+b\n",
    "\n",
    "def sub(a, b): \n",
    "    return a-b\n",
    "\n",
    "if __name__ == \"__main__\": \n",
    "    print(add(1, 4))\n",
    "    print(sub(4, 2))\n",
    "    \n",
    "# C:\\doit>python mod1.py처럼 직접 이 파일을 실행하면 if문이 참이라 뒷 문장 실행 O\n",
    "# 대화형 인터프리터나 다른 파일에서 모듈을 불러와 사용하면 if문이 거짓이라 실행 X\n",
    "\n",
    "# __name__ 변수란?(*)\n",
    "# 파이썬이 내부적으로 사용하는 특별한 변수\n",
    "# 직접 실행하면 __name__변수에는 __main__값이 저장되고\n",
    "# 다른 파이썬 모듈에서 실행할 경우 __name__변수에는 모듈이름 값이 저장됨"
   ]
  },
  {
   "cell_type": "code",
   "execution_count": null,
   "metadata": {},
   "outputs": [],
   "source": [
    "### 클래스나 변수 등을 포함한 모듈 ###\n",
    "\n",
    "# mod2.py; 변수, 클래스, 함수를 포함한 모듈  \n",
    "\n",
    "PI = 3.141592\n",
    "\n",
    "class Math: \n",
    "    def solv(self, r): \n",
    "        return PI * (r ** 2) \n",
    "\n",
    "def add(a, b): \n",
    "    return a+b \n",
    "\n",
    "import mod2 # 모듈 불러오기\n",
    "\n",
    "print(mod2.PI) # 모듈 속 변수; 3.141592\n",
    "a = mod2.Math() # 모듈 속 클래스를 이용해 객체 생성\n",
    "print(a.solv(2)) # 클래스 속 함수 solv를 이용해 원의 넓이; 4pi\n",
    "print(mod2.add(mod2.PI,4.4)) # 모듈 속 함수; pi+4.4"
   ]
  },
  {
   "cell_type": "code",
   "execution_count": null,
   "metadata": {},
   "outputs": [],
   "source": [
    "### 다른 파일에서 모듈 불러오기 ###\n",
    "\n",
    "# modtest.py\n",
    "\n",
    "import mod2\n",
    "result = mod2.add(3,4) # 다른 모듈을 불러와서 새로운 모듈을 만들 수 있음\n",
    "print(result)\n",
    "\n",
    "# 모듈을 불러오는 또 다른 방법\n",
    "\n",
    "# (1) 명령프롬프트 창을 열고 모듈이 있는 디렉터리로 이동한 다음 모듈 사용\n",
    "# (2) sys.path.append(모듈을 저장한 디렉터리) 사용하기\n",
    "# (3) PYTHONPATH 환경 변수 사용하기"
   ]
  },
  {
   "cell_type": "markdown",
   "metadata": {},
   "source": [
    "# 3. 패키지(*)"
   ]
  },
  {
   "cell_type": "code",
   "execution_count": null,
   "metadata": {},
   "outputs": [],
   "source": [
    "### 패키지란? ###\n",
    "\n",
    "# 패키지; 도트(.)를 사용하여 파이썬 모듈을 계층적으로 관리할 수 있게 함 \n",
    "# 모듈 이름이 A.B라면 A는 패키지이름, B는 A 패키지의 B 모듈라는 뜻\n",
    "\n",
    "# 가상의 game 패키지 예\n",
    "\n",
    "game/ # (루트) 디렉터리 이름\n",
    "    __init__.py # 파이썬 모듈\n",
    "    sound/ # (서브) 디렉터리 이름\n",
    "        __init__.py # 파이썬 모듈\n",
    "        echo.py # 파이썬 모듈\n",
    "        wav.py # 파이썬 모듈\n",
    "    graphic/ # (서브) 디렉터리 이름\n",
    "        __init__.py # 파이썬 모듈\n",
    "        screen.py # 파이썬 모듈\n",
    "        render.py # 파이썬 모듈\n",
    "    play/ # (서브) 디렉터리 이름 \n",
    "        __init__.py # 파이썬 모듈\n",
    "        run.py # 파이썬 모듈\n",
    "        test.py # 파이썬 모듈\n",
    "        \n",
    "# 패키지를 이용하면 공동 작업이나 유지보수 등 여러 면에서 유리\n",
    "# 패키지를 이용하면 다른 모듈과 이름이 겹치더라도 더 안전하게 사용 가능"
   ]
  },
  {
   "cell_type": "code",
   "execution_count": null,
   "metadata": {},
   "outputs": [],
   "source": [
    "### 패키지 만들기 ###\n",
    "\n",
    "# 패키지 기본 구성 요소 준비하기\n",
    "\n",
    "# (1) 디렉터리 생성 및 .py 파일 만들기\n",
    "# (2) 각 디렉터리에 \"__init__.py\" 파일을 만들어 놓기만 하고 내용은 비워두기\n",
    "# (3) echo.py 파일, render.py 파일 만들기\n",
    "# (4) 명령프롬프트 창에서 set 명령어로 PYTHONPATH 환경변수에 디렉터리 추가 및 실행"
   ]
  },
  {
   "cell_type": "code",
   "execution_count": null,
   "metadata": {},
   "outputs": [],
   "source": [
    "### 패키지 안의 함수 실행하기 ###\n",
    "\n",
    "# 방법1. echo 모듈을 import하여 실행\n",
    "# 방법2. echo 모듈이 있는 디렉터리까지 from ... import하여 실행\n",
    "# 방법3. echo 모듈의 echo_test 함수를 직접 import하여 실행\n",
    "\n",
    "# 하지만 echo_test 함수를 사용하는 것은 불가능\n",
    "# import game을 수행하면 game 디렉터리의 모듈 또는 __init__.py에 정의한 것만 가능"
   ]
  },
  {
   "cell_type": "code",
   "execution_count": null,
   "metadata": {},
   "outputs": [],
   "source": [
    "### __init__.py의 용도 ###\n",
    "\n",
    "# __init__.py; 해당 디렉터리가 패키지의 일부임을 알려주는 역할\n",
    "# 패키지에 포함된 디렉터리에 __init__.py 파일이 없다면 패키지로 인식되지 않음 "
   ]
  },
  {
   "cell_type": "code",
   "execution_count": null,
   "metadata": {},
   "outputs": [],
   "source": [
    "### relative 패키지 ###\n",
    "\n",
    "# relative한 접근자 \n",
    "# ..; 부모 디렉터리\n",
    "# .; 현재 디렉터리"
   ]
  },
  {
   "cell_type": "markdown",
   "metadata": {},
   "source": [
    "# 4. 예외 처리"
   ]
  },
  {
   "cell_type": "code",
   "execution_count": 38,
   "metadata": {},
   "outputs": [],
   "source": [
    "### 언제 오류가 발생? ###\n",
    "\n",
    "# 1. 디렉터리 안에 없는 파일을 열려고 시도할 때\n",
    "# 2. 0으로 다른 숫자를 나눌 때\n",
    "# 3. 인덱스 오류; a=[1,2]인데 a[3]을 실행하는 경우 "
   ]
  },
  {
   "cell_type": "markdown",
   "metadata": {},
   "source": [
    "### ### try, except 문 기본 구조 ### ###\n",
    "\n",
    "try:\n",
    "\n",
    "    ...\n",
    "    \n",
    "except [발생 오류[as 오류 메시지 변수]]:\n",
    "\n",
    "    ...\n",
    "    \n",
    "* try 블록 수행 중 오류가 발생하면 except 블록 수행\n",
    "* try 블록에서 오류가 발생하지 않으면 except 블록 수행 X"
   ]
  },
  {
   "cell_type": "code",
   "execution_count": 1,
   "metadata": {},
   "outputs": [
    {
     "name": "stdout",
     "output_type": "stream",
     "text": [
      "division by zero\n"
     ]
    }
   ],
   "source": [
    "### 오류 예외 처리 기법; try, except문 ###\n",
    "\n",
    "# try: ~ except [발생 오류 [as 오류 메시지 변수]]: ~\n",
    "# []; 괄호 안의 내용을 생략 가능하다는 관례 표기법\n",
    "\n",
    "# 1. try, except만 쓰는 법\n",
    "# 이 경우 오류 종류에 상관없이 오류가 발생하면 except 블록 수행\n",
    "\n",
    "# 2. 발생 오류만 포함한 except문\n",
    "# 이 경우 발생한 오류가 except문에 미리 정해 놓은 오류일 때만 except 블록 수행\n",
    "\n",
    "# 3. 발생 오류와 오류 메시지 변수까지 포함한 except문\n",
    "# 이 경우 두 번째 경우에서 오류 메시지 내용까지 알고 싶을 때 사용\n",
    "\n",
    "try:\n",
    "    4/0\n",
    "except ZeroDivisionError as e:\n",
    "    print(e)\n",
    "    \n",
    "# 4를 0으로 나누려고 하면 ZeroDivisionError 발생, \n",
    "# except 블록이 실행되고 변수 e에 오류메시지가 담김 \n",
    "\n",
    "# try .. finally; try문 수행 도중 예외 발생 여부에 상관없이 항상 수행 \n",
    "# finally절은 사용한 리소스를 close 해야할 때 많이 사용\n",
    "\n",
    "f = open(\"foo.txt\",'w')\n",
    "try:\n",
    "    # 무언가를 수행한다\n",
    "finally:\n",
    "    f.close()\n",
    "# 즉, 파일을 쓰기모드로 연 후에 try문을 수행한 후 예외 발생 여부와 상관없이 닫음\n",
    "\n",
    "# 여러 개의 오류 처리하기\n",
    "\n",
    "try:\n",
    "    a = [1,2]\n",
    "    print(a[3]) # 2번째 except문\n",
    "    4/0 # 1번째 except문; 인덱싱 오류가 먼저 발생해서 이 오류는 발생하지 않음\n",
    "except ZeroDivisionError: # 0으로 나누는 오류\n",
    "    print(\"0으로 나눌 수 없습니다.\")\n",
    "except IndexError: # 인덱싱 오류 \n",
    "    print(\"인덱싱 할 수 없습니다.\")\n",
    "    \n",
    "try:\n",
    "    a = [1,2]\n",
    "    print(a[3])\n",
    "    4/0\n",
    "except ZeroDivisionError as e: # 오류메시지 by 오류 메시지 변수\n",
    "    print(e)\n",
    "except IndexError as e: # 오류메시지 by 오류 메시지 변수\n",
    "    print(e)    \n",
    "    \n",
    "try:\n",
    "    a = [1,2]\n",
    "    print(a[3])\n",
    "    4/0\n",
    "except (ZeroDivisionError, IndexError) as e: # 2개 이상의 오류를 동일하게 처리\n",
    "    print(e)"
   ]
  },
  {
   "cell_type": "code",
   "execution_count": null,
   "metadata": {},
   "outputs": [],
   "source": [
    "### 오류 회피하기; pass ###\n",
    "\n",
    "try:\n",
    "    f = open(\"나없는파일\", 'r')\n",
    "except FileNotFoundError: # FileNotFoundError가 발생하면\n",
    "    pass # pass를 통해 그냥 오류 회피"
   ]
  },
  {
   "cell_type": "code",
   "execution_count": 2,
   "metadata": {},
   "outputs": [
    {
     "ename": "NotImplementedError",
     "evalue": "",
     "output_type": "error",
     "traceback": [
      "\u001b[1;31m---------------------------------------------------------------------------\u001b[0m",
      "\u001b[1;31mNotImplementedError\u001b[0m                       Traceback (most recent call last)",
      "\u001b[1;32m<ipython-input-2-c47257f09498>\u001b[0m in \u001b[0;36m<module>\u001b[1;34m\u001b[0m\n\u001b[0;32m     12\u001b[0m \u001b[1;33m\u001b[0m\u001b[0m\n\u001b[0;32m     13\u001b[0m \u001b[0meagle\u001b[0m \u001b[1;33m=\u001b[0m \u001b[0mEagle\u001b[0m\u001b[1;33m(\u001b[0m\u001b[1;33m)\u001b[0m\u001b[1;33m\u001b[0m\u001b[1;33m\u001b[0m\u001b[0m\n\u001b[1;32m---> 14\u001b[1;33m \u001b[0meagle\u001b[0m\u001b[1;33m.\u001b[0m\u001b[0mfly\u001b[0m\u001b[1;33m(\u001b[0m\u001b[1;33m)\u001b[0m\u001b[1;33m\u001b[0m\u001b[1;33m\u001b[0m\u001b[0m\n\u001b[0m",
      "\u001b[1;32m<ipython-input-2-c47257f09498>\u001b[0m in \u001b[0;36mfly\u001b[1;34m(self)\u001b[0m\n\u001b[0;32m      3\u001b[0m \u001b[1;32mclass\u001b[0m \u001b[0mBird\u001b[0m\u001b[1;33m:\u001b[0m\u001b[1;33m\u001b[0m\u001b[1;33m\u001b[0m\u001b[0m\n\u001b[0;32m      4\u001b[0m     \u001b[1;32mdef\u001b[0m \u001b[0mfly\u001b[0m\u001b[1;33m(\u001b[0m\u001b[0mself\u001b[0m\u001b[1;33m)\u001b[0m\u001b[1;33m:\u001b[0m\u001b[1;33m\u001b[0m\u001b[1;33m\u001b[0m\u001b[0m\n\u001b[1;32m----> 5\u001b[1;33m         \u001b[1;32mraise\u001b[0m \u001b[0mNotImplementedError\u001b[0m\u001b[1;33m\u001b[0m\u001b[1;33m\u001b[0m\u001b[0m\n\u001b[0m\u001b[0;32m      6\u001b[0m \u001b[1;33m\u001b[0m\u001b[0m\n\u001b[0;32m      7\u001b[0m \u001b[1;31m# NotImplementedError; 꼭 작성해야 하는 부분이 구현되지 않았을 경우 일부러 오류발생\u001b[0m\u001b[1;33m\u001b[0m\u001b[1;33m\u001b[0m\u001b[1;33m\u001b[0m\u001b[0m\n",
      "\u001b[1;31mNotImplementedError\u001b[0m: "
     ]
    }
   ],
   "source": [
    "### 오류 일부러 발생시키기; raise ###\n",
    "\n",
    "class Bird:\n",
    "    def fly(self):\n",
    "        raise NotImplementedError\n",
    "\n",
    "# NotImplementedError; 꼭 작성해야 하는 부분이 구현되지 않았을 경우 일부러 오류발생\n",
    "# 이는 Bird 클래스를 상속받는 자식 클래스는 반드시 fly 함수를 구현해야 한다는 뜻 \n",
    "\n",
    "class Eagle(Bird): # Bird 클래스 상속받음\n",
    "    pass\n",
    "\n",
    "eagle = Eagle()\n",
    "eagle.fly()\n",
    "\n",
    "class Eagle(Bird):\n",
    "    def fly(self): # 오류를 피하긴 위해선 반드시 fly 함수 구현해야 함 \n",
    "        print(\"very fast\")\n",
    "        \n",
    "eagle = Eagle()\n",
    "eagle.fly()"
   ]
  },
  {
   "cell_type": "code",
   "execution_count": 3,
   "metadata": {},
   "outputs": [
    {
     "name": "stdout",
     "output_type": "stream",
     "text": [
      "천사\n"
     ]
    },
    {
     "ename": "MyError",
     "evalue": "",
     "output_type": "error",
     "traceback": [
      "\u001b[1;31m---------------------------------------------------------------------------\u001b[0m",
      "\u001b[1;31mMyError\u001b[0m                                   Traceback (most recent call last)",
      "\u001b[1;32m<ipython-input-3-a6b9a934e63f>\u001b[0m in \u001b[0;36m<module>\u001b[1;34m\u001b[0m\n\u001b[0;32m     10\u001b[0m \u001b[1;33m\u001b[0m\u001b[0m\n\u001b[0;32m     11\u001b[0m \u001b[0msay_nick\u001b[0m\u001b[1;33m(\u001b[0m\u001b[1;34m\"천사\"\u001b[0m\u001b[1;33m)\u001b[0m\u001b[1;33m\u001b[0m\u001b[1;33m\u001b[0m\u001b[0m\n\u001b[1;32m---> 12\u001b[1;33m \u001b[0msay_nick\u001b[0m\u001b[1;33m(\u001b[0m\u001b[1;34m\"바보\"\u001b[0m\u001b[1;33m)\u001b[0m\u001b[1;33m\u001b[0m\u001b[1;33m\u001b[0m\u001b[0m\n\u001b[0m",
      "\u001b[1;32m<ipython-input-3-a6b9a934e63f>\u001b[0m in \u001b[0;36msay_nick\u001b[1;34m(nick)\u001b[0m\n\u001b[0;32m      6\u001b[0m \u001b[1;32mdef\u001b[0m \u001b[0msay_nick\u001b[0m\u001b[1;33m(\u001b[0m\u001b[0mnick\u001b[0m\u001b[1;33m)\u001b[0m\u001b[1;33m:\u001b[0m\u001b[1;33m\u001b[0m\u001b[1;33m\u001b[0m\u001b[0m\n\u001b[0;32m      7\u001b[0m     \u001b[1;32mif\u001b[0m \u001b[0mnick\u001b[0m \u001b[1;33m==\u001b[0m \u001b[1;34m'바보'\u001b[0m\u001b[1;33m:\u001b[0m\u001b[1;33m\u001b[0m\u001b[1;33m\u001b[0m\u001b[0m\n\u001b[1;32m----> 8\u001b[1;33m         \u001b[1;32mraise\u001b[0m \u001b[0mMyError\u001b[0m\u001b[1;33m(\u001b[0m\u001b[1;33m)\u001b[0m\u001b[1;33m\u001b[0m\u001b[1;33m\u001b[0m\u001b[0m\n\u001b[0m\u001b[0;32m      9\u001b[0m     \u001b[0mprint\u001b[0m\u001b[1;33m(\u001b[0m\u001b[0mnick\u001b[0m\u001b[1;33m)\u001b[0m\u001b[1;33m\u001b[0m\u001b[1;33m\u001b[0m\u001b[0m\n\u001b[0;32m     10\u001b[0m \u001b[1;33m\u001b[0m\u001b[0m\n",
      "\u001b[1;31mMyError\u001b[0m: "
     ]
    }
   ],
   "source": [
    "### 예외 만들기; Exception ###\n",
    "\n",
    "# Exception; 파이썬 내장 클래스 \n",
    "# 예외 처리; 특수한 경우에만 예외 처리 하고 싶을 때. by Exception 클래스 상속 \n",
    "\n",
    "class MyError(Exception): \n",
    "    pass\n",
    "\n",
    "def say_nick(nick):\n",
    "    if nick == '바보':\n",
    "        raise MyError()\n",
    "    print(nick)\n",
    "    \n",
    "say_nick(\"천사\")\n",
    "say_nick(\"바보\")\n",
    "\n",
    "try:\n",
    "    say_nick(\"천사\")\n",
    "    say_nick(\"바보\")\n",
    "except MyError: # 예외 처리 \n",
    "    print(\"허용되지 않는 별명입니다.\") \n",
    "    \n",
    "try:\n",
    "    say_nick(\"천사\")\n",
    "    say_nick(\"바보\")\n",
    "except MyError as e: # 오류 메시지\n",
    "    print(e) # 근데 출력 안 될 거임; __str__메서드 구현해야 함 \n",
    "    \n",
    "class MyError(Exception):\n",
    "    def __str__(self):\n",
    "        return \"허용되지 않는 별명입니다.\"  "
   ]
  },
  {
   "cell_type": "markdown",
   "metadata": {},
   "source": [
    "# 5. 내장 함수 "
   ]
  },
  {
   "cell_type": "code",
   "execution_count": 4,
   "metadata": {},
   "outputs": [
    {
     "data": {
      "text/plain": [
       "1.2"
      ]
     },
     "execution_count": 4,
     "metadata": {},
     "output_type": "execute_result"
    }
   ],
   "source": [
    "### 1. abs ###\n",
    "\n",
    "# abs; 절대값\n",
    "\n",
    "abs(3) # 3\n",
    "abs(-3) # 3\n",
    "abs(-1.2) # 1.2"
   ]
  },
  {
   "cell_type": "code",
   "execution_count": 6,
   "metadata": {},
   "outputs": [
    {
     "data": {
      "text/plain": [
       "True"
      ]
     },
     "execution_count": 6,
     "metadata": {},
     "output_type": "execute_result"
    }
   ],
   "source": [
    "### 2. all ###\n",
    "\n",
    "# all; 반복 가능한 자료형 x의 요소가 모두 참이면 T, 하나라도 거짓이면 F\n",
    "# 반복 가능한 자료형; 리스트, 튜플, 문자열, 딕셔너리\n",
    "\n",
    "all([1,2,3]) # True; 1,2,3 모두 True\n",
    "all([1,2,3,0]) # False; 0이 False이므로 \n",
    "all([]) # True; 빈 값인 경우 True"
   ]
  },
  {
   "cell_type": "code",
   "execution_count": 7,
   "metadata": {},
   "outputs": [
    {
     "data": {
      "text/plain": [
       "False"
      ]
     },
     "execution_count": 7,
     "metadata": {},
     "output_type": "execute_result"
    }
   ],
   "source": [
    "### 3. any ###\n",
    "\n",
    "# any; 반복 가능한 자로형 x의 요소가 하나라도 참이면 T, 모두 거짓이면 F\n",
    "# all과 반대\n",
    "\n",
    "any([1,2,3,0]) # True; 1,2,3이 True이므로 True가 하나라도 존재\n",
    "any([0,\"\"]) # False; 모두 False이므로"
   ]
  },
  {
   "cell_type": "code",
   "execution_count": 9,
   "metadata": {},
   "outputs": [
    {
     "data": {
      "text/plain": [
       "'0'"
      ]
     },
     "execution_count": 9,
     "metadata": {},
     "output_type": "execute_result"
    }
   ],
   "source": [
    "### 4. chr ###\n",
    "\n",
    "# chr; 숫자(아스키코드 값)->문자열\n",
    "\n",
    "chr(97) # 'a'\n",
    "chr(48) # '0'"
   ]
  },
  {
   "cell_type": "code",
   "execution_count": 11,
   "metadata": {},
   "outputs": [
    {
     "data": {
      "text/plain": [
       "['__class__',\n",
       " '__contains__',\n",
       " '__delattr__',\n",
       " '__delitem__',\n",
       " '__dir__',\n",
       " '__doc__',\n",
       " '__eq__',\n",
       " '__format__',\n",
       " '__ge__',\n",
       " '__getattribute__',\n",
       " '__getitem__',\n",
       " '__gt__',\n",
       " '__hash__',\n",
       " '__init__',\n",
       " '__init_subclass__',\n",
       " '__iter__',\n",
       " '__le__',\n",
       " '__len__',\n",
       " '__lt__',\n",
       " '__ne__',\n",
       " '__new__',\n",
       " '__reduce__',\n",
       " '__reduce_ex__',\n",
       " '__repr__',\n",
       " '__setattr__',\n",
       " '__setitem__',\n",
       " '__sizeof__',\n",
       " '__str__',\n",
       " '__subclasshook__',\n",
       " 'clear',\n",
       " 'copy',\n",
       " 'fromkeys',\n",
       " 'get',\n",
       " 'items',\n",
       " 'keys',\n",
       " 'pop',\n",
       " 'popitem',\n",
       " 'setdefault',\n",
       " 'update',\n",
       " 'values']"
      ]
     },
     "execution_count": 11,
     "metadata": {},
     "output_type": "execute_result"
    }
   ],
   "source": [
    "### 5. dir ###\n",
    "\n",
    "# dir; 객체가 자체적으로 가지고 있는 변수나 함수를 보여줌\n",
    "\n",
    "dir([1,2,3]) # 리스트 객체 관련 함수(메서드)를 보여줌\n",
    "dir({'1':'a'}) # 딕셔너리 객체 관련 함수(메서드)를 보여줌"
   ]
  },
  {
   "cell_type": "code",
   "execution_count": 12,
   "metadata": {},
   "outputs": [
    {
     "data": {
      "text/plain": [
       "1"
      ]
     },
     "execution_count": 12,
     "metadata": {},
     "output_type": "execute_result"
    }
   ],
   "source": [
    "### 6. divmod ###\n",
    "\n",
    "# divmod; 두 개의 숫자를 받아 a를 b로 나눈 몫과 나머지를 튜플 형태로 돌려줌\n",
    "\n",
    "divmod(7,3) # (2,1); 7을 3으로 나눈 목=2, 나머지=1\n",
    "\n",
    "# cf\n",
    "\n",
    "7//3 # 2; 몫\n",
    "7%3 # 1; 나머지"
   ]
  },
  {
   "cell_type": "code",
   "execution_count": 13,
   "metadata": {},
   "outputs": [
    {
     "name": "stdout",
     "output_type": "stream",
     "text": [
      "0 body\n",
      "1 foo\n",
      "2 bar\n"
     ]
    }
   ],
   "source": [
    "### 7. enumerate ###\n",
    "\n",
    "# enumerate; \"열거하다\" 즉, 순서가 있는 자료형을 인덱스 값을 포함하는 객체로 돌려줌\n",
    "# 보통 for문과 함께 자주 사용\n",
    "\n",
    "for i, name in enumerate(['body','foo','bar']):\n",
    "    print(i, name)\n",
    "\n",
    "# enumerate를 이용해 자료형의 현재 순서(index)를 쉽게 알 수 잇음 "
   ]
  },
  {
   "cell_type": "code",
   "execution_count": 19,
   "metadata": {},
   "outputs": [
    {
     "data": {
      "text/plain": [
       "(0, 3)"
      ]
     },
     "execution_count": 19,
     "metadata": {},
     "output_type": "execute_result"
    }
   ],
   "source": [
    "### 8. eval ###\n",
    "\n",
    "# eval; 실행 가능한 문자열을 받아 실행한 결과값을 돌려줌 \n",
    "# 즉, 문자열 자료형을 계산해주는 함수\n",
    "\n",
    "eval(\"1+2\")\n",
    "eval(\"'hi'+'a'\")\n",
    "eval('divmod(3,7)')"
   ]
  },
  {
   "cell_type": "code",
   "execution_count": 28,
   "metadata": {},
   "outputs": [
    {
     "name": "stdout",
     "output_type": "stream",
     "text": [
      "[1, 2, 6]\n",
      "[1, 2, 6]\n"
     ]
    },
    {
     "data": {
      "text/plain": [
       "[1, 2, 6]"
      ]
     },
     "execution_count": 28,
     "metadata": {},
     "output_type": "execute_result"
    }
   ],
   "source": [
    "### 9. filter ###\n",
    "\n",
    "# filter; \"걸러낸다\" 첫 번째 인수로 함수 이름, 두 번째 인수로 반복 가능한 자료형\n",
    "# 반복 가능한 자료형의 요소가 첫 번째 함수 실행 결과 반환값이 참인 것만 묶어줌\n",
    "\n",
    "# filter 기능을 하는 함수\n",
    "\n",
    "def positive(a):\n",
    "    result = []\n",
    "    for i in a:\n",
    "        if i > 0:\n",
    "            result.append(i)\n",
    "    return result\n",
    "\n",
    "print(positive([1,-3,2,0,-5,6]))\n",
    "\n",
    "# filter를 이용해 간단하게 작성\n",
    "\n",
    "def positive(a):\n",
    "    return a > 0\n",
    "\n",
    "print(list(filter(positive,[1,-3,2,0,-5,6]))) # list로 묶어줘야 함\n",
    "\n",
    "# lambda를 이용해 더 간단하게 작성\n",
    "\n",
    "list(filter(lambda x: x > 0, [1,-3,2,0,-5,6]))"
   ]
  },
  {
   "cell_type": "code",
   "execution_count": 30,
   "metadata": {},
   "outputs": [
    {
     "data": {
      "text/plain": [
       "'0x3'"
      ]
     },
     "execution_count": 30,
     "metadata": {},
     "output_type": "execute_result"
    }
   ],
   "source": [
    "### 10. hex ###\n",
    "\n",
    "# hex; 정수값을 16진수로 변환\n",
    "\n",
    "hex(234)\n",
    "hex(3)"
   ]
  },
  {
   "cell_type": "code",
   "execution_count": 35,
   "metadata": {},
   "outputs": [
    {
     "data": {
      "text/plain": [
       "True"
      ]
     },
     "execution_count": 35,
     "metadata": {},
     "output_type": "execute_result"
    }
   ],
   "source": [
    "### 11. id ###\n",
    "\n",
    "# id; 객체의 고유 주소 값을 돌려줌\n",
    "\n",
    "a = 3\n",
    "id(3) == id(a) # True\n",
    "\n",
    "b = a\n",
    "id(b) == id(a) # True\n",
    "\n",
    "# id가 같다 == 같은 객체(주소)를 가르킨다"
   ]
  },
  {
   "cell_type": "code",
   "execution_count": 38,
   "metadata": {},
   "outputs": [
    {
     "name": "stdout",
     "output_type": "stream",
     "text": [
      "hi\n",
      "Enter: hi\n"
     ]
    },
    {
     "data": {
      "text/plain": [
       "'hi'"
      ]
     },
     "execution_count": 38,
     "metadata": {},
     "output_type": "execute_result"
    }
   ],
   "source": [
    "### 12. input ###\n",
    "\n",
    "# input; 사용자 입력을 받는 함수. 항상 문자열로 저장\n",
    "\n",
    "a = input(\"Enter: \") # 입력 받을 때 뜨는 창\n",
    "a # 실제 받은 값만 저장됨"
   ]
  },
  {
   "cell_type": "code",
   "execution_count": 78,
   "metadata": {},
   "outputs": [
    {
     "data": {
      "text/plain": [
       "26"
      ]
     },
     "execution_count": 78,
     "metadata": {},
     "output_type": "execute_result"
    }
   ],
   "source": [
    "### 13. int ###\n",
    "\n",
    "# int; 정수로 바꿔줌\n",
    "# int(x, radix); radix 진수로 표현된 문자열을 10진수로 바꿔줌\n",
    "\n",
    "int('3') # 3\n",
    "int(3.4) # 3\n",
    "int('11', 2) # 3\n",
    "int('1A', 16) # 26"
   ]
  },
  {
   "cell_type": "code",
   "execution_count": 41,
   "metadata": {},
   "outputs": [
    {
     "data": {
      "text/plain": [
       "False"
      ]
     },
     "execution_count": 41,
     "metadata": {},
     "output_type": "execute_result"
    }
   ],
   "source": [
    "### 14. isinstance ###\n",
    "\n",
    "# isinstance; 첫 번째 인수로 인스턴스, 두 번째 인수로 클래스 이름 \n",
    "# 입력 받은 인수가 그 클래스의 인스턴스인지 판단\n",
    "\n",
    "class Person: pass\n",
    "\n",
    "a = Person()\n",
    "isinstance(a, Person) # True; a는 Person의 인스턴스\n",
    "\n",
    "b = 3\n",
    "isinstance(b, Person) # False; b는 Person의 인스턴스가 아니다"
   ]
  },
  {
   "cell_type": "code",
   "execution_count": 42,
   "metadata": {},
   "outputs": [],
   "source": [
    "### 15. len ###\n",
    "\n",
    "# len; 입력값의 길이를 알려줌\n",
    "\n",
    "len(\"Python\") # 6\n",
    "len([1,2,3]) # 3\n",
    "len((1,'a')) # 2"
   ]
  },
  {
   "cell_type": "code",
   "execution_count": 45,
   "metadata": {},
   "outputs": [
    {
     "data": {
      "text/plain": [
       "[1, 2, 3]"
      ]
     },
     "execution_count": 45,
     "metadata": {},
     "output_type": "execute_result"
    }
   ],
   "source": [
    "### 16. list ###\n",
    "\n",
    "# list; 반복 가능한 자료형을 리스트로 만들어주는 함수\n",
    "\n",
    "list(\"Python\") # ['P','y','t','h','o','n']\n",
    "list((1,2,3)) # [1,2,3]\n",
    "list([1,2,3]) # [1,2,3]"
   ]
  },
  {
   "cell_type": "code",
   "execution_count": 49,
   "metadata": {},
   "outputs": [
    {
     "name": "stdout",
     "output_type": "stream",
     "text": [
      "[2, 4, 6, 8]\n"
     ]
    },
    {
     "data": {
      "text/plain": [
       "[2, 4, 6, 8]"
      ]
     },
     "execution_count": 49,
     "metadata": {},
     "output_type": "execute_result"
    }
   ],
   "source": [
    "### 17. map ###\n",
    "\n",
    "# map; 함수와 반복 가능한 자료형을 받아 자료형의 요소가 함수 실행한 결과를 돌려줌\n",
    "\n",
    "# 리스트 각 요소를 2배 해주는 함수\n",
    "\n",
    "def two_times(numberList): # 리스트\n",
    "    result = [ ]\n",
    "    for number in numberList:\n",
    "        result.append(number*2)\n",
    "    return result\n",
    "\n",
    "result = two_times([1, 2, 3, 4])\n",
    "print(result)\n",
    "\n",
    "# by map\n",
    "\n",
    "def two_times(x): # 숫자 하나\n",
    "    return x*2\n",
    "\n",
    "list(map(two_times,[1,2,3,4])) # list로 묶어줘야 함 \n",
    "\n",
    "# lambda를 이용해 더 간단히\n",
    "\n",
    "list(map(lambda x: x*2, [1,2,3,4]))"
   ]
  },
  {
   "cell_type": "code",
   "execution_count": 51,
   "metadata": {},
   "outputs": [
    {
     "data": {
      "text/plain": [
       "'m'"
      ]
     },
     "execution_count": 51,
     "metadata": {},
     "output_type": "execute_result"
    }
   ],
   "source": [
    "### 18. max ###\n",
    "\n",
    "# max; 최대값\n",
    "\n",
    "max([1,2,3]) # 3\n",
    "max('Kimdahee') # m"
   ]
  },
  {
   "cell_type": "code",
   "execution_count": 52,
   "metadata": {},
   "outputs": [
    {
     "data": {
      "text/plain": [
       "'K'"
      ]
     },
     "execution_count": 52,
     "metadata": {},
     "output_type": "execute_result"
    }
   ],
   "source": [
    "### 19. min ###\n",
    "\n",
    "# min; 최소값\n",
    "\n",
    "min([1,2,3]) # 1\n",
    "min(\"Kimdahee\") # K"
   ]
  },
  {
   "cell_type": "code",
   "execution_count": 53,
   "metadata": {},
   "outputs": [
    {
     "data": {
      "text/plain": [
       "'0o30071'"
      ]
     },
     "execution_count": 53,
     "metadata": {},
     "output_type": "execute_result"
    }
   ],
   "source": [
    "### 20. oct ###\n",
    "\n",
    "# oct; 정수를 8진수로 바꿔줌\n",
    "\n",
    "oct(34)\n",
    "oct(12345)"
   ]
  },
  {
   "cell_type": "code",
   "execution_count": null,
   "metadata": {},
   "outputs": [],
   "source": [
    "### 21. open ###\n",
    "\n",
    "# open; 파일이름과 읽기 방법을 받아 파일 객체를 돌려주는 함수\n",
    "# 'w'; 쓰기 모드\n",
    "# 'r'; 읽기 모드(디폴트)\n",
    "# 'a'; 추가 모드\n",
    "# 'b'; 바이너리 모드(w,r,a와 함께 사용)\n",
    "\n",
    "f = open(\"binary_file\", \"rb\") # 바이너리 모드\n",
    "fread = open(\"read_mode.txt\", 'r')\n",
    "fread2 = open(\"read_mode.txt\") # 읽기 모드를 지정 안 하면 'r'로 연다\n",
    "fappend = open(\"append_mode.txt\", 'a') # 추가 모드"
   ]
  },
  {
   "cell_type": "code",
   "execution_count": 54,
   "metadata": {},
   "outputs": [
    {
     "data": {
      "text/plain": [
       "48"
      ]
     },
     "execution_count": 54,
     "metadata": {},
     "output_type": "execute_result"
    }
   ],
   "source": [
    "### 22. ord ###\n",
    "\n",
    "# ord; 숫자 -> 정수(아스키코드 값)\n",
    "# chr 함수의 반대\n",
    "\n",
    "ord('a') # 97\n",
    "ord('0') # 48"
   ]
  },
  {
   "cell_type": "code",
   "execution_count": 56,
   "metadata": {},
   "outputs": [
    {
     "data": {
      "text/plain": [
       "27"
      ]
     },
     "execution_count": 56,
     "metadata": {},
     "output_type": "execute_result"
    }
   ],
   "source": [
    "### 23. pow ###\n",
    "\n",
    "# pow; x의 y 제곱한 결과값\n",
    "\n",
    "pow(2,4) # 16\n",
    "pow(3,3) # 27"
   ]
  },
  {
   "cell_type": "code",
   "execution_count": 58,
   "metadata": {},
   "outputs": [
    {
     "data": {
      "text/plain": [
       "[1, 3, 5, 7, 9]"
      ]
     },
     "execution_count": 58,
     "metadata": {},
     "output_type": "execute_result"
    }
   ],
   "source": [
    "### 24. range ###\n",
    "\n",
    "# range; 입력받은 숫자에 해당하는 범위 값을 반복 가능한 객체로 만들어 줌\n",
    "# range([start],stop[,step])는 for문과 함께 자주 사용\n",
    "\n",
    "# 인수가 1개일 경우\n",
    "\n",
    "list(range(5)) # 0-4\n",
    "\n",
    "# 인수가 2개일 경우\n",
    "\n",
    "list(range(5,10)) # 5-9\n",
    "\n",
    "# 인수가 3개일 경우\n",
    "\n",
    "list(range(1,10,2)) # 1-9까지 2씩 띄어서"
   ]
  },
  {
   "cell_type": "code",
   "execution_count": 61,
   "metadata": {},
   "outputs": [
    {
     "data": {
      "text/plain": [
       "5.68"
      ]
     },
     "execution_count": 61,
     "metadata": {},
     "output_type": "execute_result"
    }
   ],
   "source": [
    "### 25. round ###\n",
    "\n",
    "# round; 반올림\n",
    "# round(number[, ndigits]); 소수점 몇 번째 자리까지 나타낼 지\n",
    "\n",
    "round(4.6) # 5\n",
    "round(4.2) # 4\n",
    "round(5.678, 2) # 5.68"
   ]
  },
  {
   "cell_type": "code",
   "execution_count": 63,
   "metadata": {},
   "outputs": [
    {
     "data": {
      "text/plain": [
       "['e', 'o', 'r', 'z']"
      ]
     },
     "execution_count": 63,
     "metadata": {},
     "output_type": "execute_result"
    }
   ],
   "source": [
    "### 26. sorted ###\n",
    "\n",
    "# sorted; 입력값을 정렬한 후, 리스트로 돌려주는 함수\n",
    "# cf. sort(); 오름차순으로 정렬만 하고 리스트로 돌려주지는 않음\n",
    "\n",
    "sorted([3,1,2])\n",
    "sorted(\"zero\")"
   ]
  },
  {
   "cell_type": "code",
   "execution_count": 65,
   "metadata": {},
   "outputs": [
    {
     "data": {
      "text/plain": [
       "'HI'"
      ]
     },
     "execution_count": 65,
     "metadata": {},
     "output_type": "execute_result"
    }
   ],
   "source": [
    "### 27. str ###\n",
    "\n",
    "# str; 문자열로 바꿔줌\n",
    "\n",
    "str(3) # '3'\n",
    "str('hi') # 'hi'\n",
    "str('hi'.upper()) # \"HI\""
   ]
  },
  {
   "cell_type": "code",
   "execution_count": 69,
   "metadata": {
    "scrolled": true
   },
   "outputs": [
    {
     "data": {
      "text/plain": [
       "15"
      ]
     },
     "execution_count": 69,
     "metadata": {},
     "output_type": "execute_result"
    }
   ],
   "source": [
    "### 28. sum ###\n",
    "\n",
    "# sum; 요소의 합. 단, 입력값은 한 개\n",
    "\n",
    "sum([1,2,3])\n",
    "sum((4,5,6))"
   ]
  },
  {
   "cell_type": "code",
   "execution_count": 72,
   "metadata": {},
   "outputs": [
    {
     "data": {
      "text/plain": [
       "(1, 2, 3)"
      ]
     },
     "execution_count": 72,
     "metadata": {},
     "output_type": "execute_result"
    }
   ],
   "source": [
    "### 29. tuple ###\n",
    "\n",
    "# tuple; 튜플로 바꿔줌\n",
    "\n",
    "tuple(\"abc\") # ('a','b','c')\n",
    "tuple([1,2,3]) # (1,2,3)"
   ]
  },
  {
   "cell_type": "code",
   "execution_count": 74,
   "metadata": {},
   "outputs": [
    {
     "data": {
      "text/plain": [
       "list"
      ]
     },
     "execution_count": 74,
     "metadata": {},
     "output_type": "execute_result"
    }
   ],
   "source": [
    "### 30. type ###\n",
    "\n",
    "# type; 입력값의 자료형을 알려줌\n",
    "\n",
    "type(\"abc\") # str\n",
    "type([]) # list"
   ]
  },
  {
   "cell_type": "code",
   "execution_count": 76,
   "metadata": {},
   "outputs": [
    {
     "data": {
      "text/plain": [
       "[('a', 'd'), ('b', 'e'), ('c', 'f')]"
      ]
     },
     "execution_count": 76,
     "metadata": {},
     "output_type": "execute_result"
    }
   ],
   "source": [
    "### 31. zip ###\n",
    "\n",
    "# zip; 동일한 개수로 이뤄진 자료형을 묶어줌\n",
    "\n",
    "list(zip([1,2,3],[4,5,6])) # [(1,4),(2,5),(3,6)]\n",
    "list(zip(\"abc\", \"def\")) # [('a', 'd'), ('b', 'e'), ('c', 'f')]"
   ]
  },
  {
   "cell_type": "markdown",
   "metadata": {},
   "source": [
    "# 6. 라이브러리(*)"
   ]
  },
  {
   "cell_type": "code",
   "execution_count": 79,
   "metadata": {},
   "outputs": [],
   "source": [
    "### 1. sys ###\n",
    "\n",
    "# sys; 파이썬 인터프러탁 제공하는 변수와 함수를 직접 제어하게 해줌 \n",
    "\n",
    "### 2. pickle ###\n",
    "\n",
    "# pickle; 객체 형태를 유지하면서 파일에 저장하고 불러올 수 있게 함\n",
    "\n",
    "### 3. os ###\n",
    "\n",
    "# os; 환경 변수나 디렉터리, 파일 등의 OS 자원을 제어하게 해줌 \n",
    "# os.mkdir; 디렉터리 생성\n",
    "# os.rmdir; 디렉터리 제거(단, 빈 디렉터리일 때만)\n",
    "# os.unlink; 파일 제거\n",
    "# os.rename; 파일 이름 변경\n",
    "\n",
    "### 4. shutil ###\n",
    "\n",
    "# shutil; 파일 복사\n",
    "\n",
    "### 5. glob ###\n",
    "\n",
    "# glob; 디렉터리에 있는 파일 이름을 모두 알고 싶을 때\n",
    "\n",
    "### 6. tempfile ###\n",
    "\n",
    "# tempfile; 파일을 임시로 만들어서 사용할 때\n",
    "\n",
    "### 7. time ###\n",
    "\n",
    "# time; 시간과 관련된 모듈\n",
    "# time.time; UTC(협정 세계 표준시)를 사용해 현재 시간을 실수 형태로 돌려줌\n",
    "# time.localtime; time.time의 시간을 년월일시분초의 형태로 바꿔줌\n",
    "# time.asctime; time.localtime의 시간을 튜플 형태로 돌려줌\n",
    "# time.ctime; time.asctime(time.localtime(time.time()))을 간단하게 표현\n",
    "# time.strftime(*); 시간에 관계된 것을 세밀하게 표현하는 여러 포맷 코드와 사용\n",
    "# time.sleep; 주로 루프 안에 사용. 일정한 시간 간격을 두고 루프 실행 \n",
    "\n",
    "# strtime; 시간과 관련된 포맷 코드(엄청 많으므로 교재 참고) \n",
    "# %a; 요일 줄임말(ex. Mon)\n",
    "# %A; 요일(ex. Monday)\n",
    "# %b; 달 줄일말(ex. Jan)\n",
    "# %B; 달(ex. Jaunuary)\n",
    "# %Y;년\n",
    "# %m; 월\n",
    "# %d; 일\n",
    "# %H; 시\n",
    "# %M; 분\n",
    "# %S; 초\n",
    "\n",
    "### 8. calendar ###\n",
    "\n",
    "# calendar; 파이썬에서 달력을 볼 수 있게 해주는 모듈\n",
    "# calendar.calendar(연도); 그 해 전체 달력\n",
    "# calendar.prmonth(연도, 월); 그 해 특정한 달 달력\n",
    "# calendar.weekday(연도, 월, 일); 그 날짜에 해당하는 요일 정보\n",
    "# calendar.monthrange(연도, 월); 그 달의 1일이 무슨 요일이고 며칠까지 있는지 \n",
    "\n",
    "### 9. random(*) ###\n",
    "\n",
    "# random; 난수 발생\n",
    "\n",
    "# random.random(); 0과 1 사이의 실수 중에서 난수 값 발생\n",
    "# random.randint(a,b); a와 b 사이의 정수 중에서 난수 값 발생\n",
    "# random.shuffle(리스트); 리스트를 무작위로 섞고 싶을 때\n",
    "\n",
    "### 10. webbrowser ###\n",
    "\n",
    "# webbrowser; 자신의 시스템에서 사용하는 기본 웹 브라우저 자동 실행"
   ]
  }
 ],
 "metadata": {
  "kernelspec": {
   "display_name": "Python 3",
   "language": "python",
   "name": "python3"
  },
  "language_info": {
   "codemirror_mode": {
    "name": "ipython",
    "version": 3
   },
   "file_extension": ".py",
   "mimetype": "text/x-python",
   "name": "python",
   "nbconvert_exporter": "python",
   "pygments_lexer": "ipython3",
   "version": "3.7.3"
  }
 },
 "nbformat": 4,
 "nbformat_minor": 2
}
