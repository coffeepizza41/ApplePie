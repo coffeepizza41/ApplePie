{
 "cells": [
  {
   "cell_type": "markdown",
   "metadata": {},
   "source": [
    "# 1. 숫자형"
   ]
  },
  {
   "cell_type": "code",
   "execution_count": 4,
   "metadata": {},
   "outputs": [],
   "source": [
    "### 정수형 ###\n",
    "\n",
    "a = 123\n",
    "a = -178\n",
    "a = 0"
   ]
  },
  {
   "cell_type": "code",
   "execution_count": 21,
   "metadata": {},
   "outputs": [],
   "source": [
    "#### 실수형 ###\n",
    "\n",
    "a = 1.2\n",
    "a = -3.45\n",
    "\n",
    "# e or E; 컴퓨터식 지수 표현 방식 \n",
    "\n",
    "a = 4.24E10 # 4.24*10^10\n",
    "a = 4.24e-10 # 4.24*10^(-10)"
   ]
  },
  {
   "cell_type": "code",
   "execution_count": 8,
   "metadata": {},
   "outputs": [],
   "source": [
    "### 8진수와 16진수 ###\n",
    "\n",
    "# 8진수; 0o or 0O로 시작(숫자 0 + 알파벳 o 조합)\n",
    "\n",
    "a = 0o177\n",
    "b = 0O715\n",
    "\n",
    "# 16진수; 0x or 0X로 시작(숫자0 + 알파벳 x 조합)\n",
    "\n",
    "a = 0x8ff\n",
    "b = 0XABC\n",
    "\n",
    "# 잘 안 씀 "
   ]
  },
  {
   "cell_type": "code",
   "execution_count": 20,
   "metadata": {},
   "outputs": [
    {
     "data": {
      "text/plain": [
       "0.75"
      ]
     },
     "execution_count": 20,
     "metadata": {},
     "output_type": "execute_result"
    }
   ],
   "source": [
    "### 사칙연산 ###\n",
    "\n",
    "a = 3\n",
    "b = 4\n",
    "\n",
    "a+b # 더하기\n",
    "a-b # 빼기\n",
    "a*b # 곱하기\n",
    "a/b # 나누기"
   ]
  },
  {
   "cell_type": "code",
   "execution_count": 19,
   "metadata": {},
   "outputs": [
    {
     "data": {
      "text/plain": [
       "1"
      ]
     },
     "execution_count": 19,
     "metadata": {},
     "output_type": "execute_result"
    }
   ],
   "source": [
    "### 연산자 ###\n",
    "\n",
    "a = 7\n",
    "b = 4\n",
    "\n",
    "a**b # **; 제곱(*)\n",
    "a%b # %; 나머지 반환(*)\n",
    "a//b # //; 몫 반환(*)"
   ]
  },
  {
   "cell_type": "markdown",
   "metadata": {},
   "source": [
    "# 2. 문자열 자료형"
   ]
  },
  {
   "cell_type": "code",
   "execution_count": 22,
   "metadata": {},
   "outputs": [
    {
     "data": {
      "text/plain": [
       "'Hello world'"
      ]
     },
     "execution_count": 22,
     "metadata": {},
     "output_type": "execute_result"
    }
   ],
   "source": [
    "### 문자열 만들기 ###\n",
    "\n",
    "# 1. 큰따옴표 양쪽\n",
    "\"Hello world!\"\n",
    "\n",
    "# 2. 작은따옴표 양쪽\n",
    "'Hello world!'\n",
    "\n",
    "#3. 큰따옴표 3개 연속 \n",
    "\"\"\"Hello world!\"\"\"\n",
    "\n",
    "#4. 작은따옴표 3개 연속\n",
    "'''Hello world!'''"
   ]
  },
  {
   "cell_type": "code",
   "execution_count": 23,
   "metadata": {},
   "outputs": [
    {
     "data": {
      "text/plain": [
       "\"Python's favorite food is perl\""
      ]
     },
     "execution_count": 23,
     "metadata": {},
     "output_type": "execute_result"
    }
   ],
   "source": [
    "### 문자열 안에 따옴표를 포함하고 싶을 때 ###\n",
    "\n",
    "# 1. 작은 따옴표 포함; 큰따옴표로 둘러싸기\n",
    "\"I'm hungry.\"\n",
    "\n",
    "# 2. 큰 따옴표 포함; 작은따옴표로 둘러싸기 \n",
    "'\"Python is very easy.\" he says.'\n",
    "\n",
    "# 3. 백슬래시(\\)를 따옴표 앞에 사용\n",
    "\"Python\\'s favorite food is perl\""
   ]
  },
  {
   "cell_type": "code",
   "execution_count": 34,
   "metadata": {},
   "outputs": [
    {
     "name": "stdout",
     "output_type": "stream",
     "text": [
      "Life is too short\n",
      "You need python\n",
      "\n"
     ]
    }
   ],
   "source": [
    "### 여러 줄의 문자열을 작성하고 싶을 때 ###\n",
    "\n",
    "# 1. 이스케이프 코드 '\\n' 삽입\n",
    "ex = \"Life is too short\\nYou need python\"\n",
    "\n",
    "# 2. 연속 3개의 따옴표 사용\n",
    "ex = \"\"\"Life is too short\n",
    "You need python\n",
    "\"\"\"\n",
    "\n",
    "print(ex)"
   ]
  },
  {
   "cell_type": "code",
   "execution_count": 35,
   "metadata": {},
   "outputs": [],
   "source": [
    "### 이스케이프 코드 ###\n",
    "\n",
    "# 1. \\n: 문자열 안에서 줄을 바꿀 때(*)\n",
    "# 2. \\t: 문자열 사이에 탭 간격을 줄 때(*)\n",
    "# 3. \\\\: 문자 \\를 그대로 표현할 때(*)\n",
    "# 4. \\': 문자 '를 그대로 표현할 때(*)\n",
    "# 5. \\\": 문자 \"를 그대로 표현할 때(*)\n",
    "# 6. \\r: 캐리지 리턴(줄 바꿈, 현재 커서를 맨 앞으로 이동)\n",
    "# 7. \\f: 폼 피드(줄 바꿈, 현재 커서를 다음 줄로 이동)\n",
    "# 8. \\a: 벨 소리(출력할 때 PC에서 삑소리가 남)\n",
    "# 9. \\b: 백 스페이스\n",
    "# 10. \\000: 널 문자"
   ]
  },
  {
   "cell_type": "code",
   "execution_count": 4,
   "metadata": {},
   "outputs": [
    {
     "name": "stdout",
     "output_type": "stream",
     "text": [
      "==================================================\n",
      "My Program\n",
      "==================================================\n"
     ]
    },
    {
     "data": {
      "text/plain": [
       "17"
      ]
     },
     "execution_count": 4,
     "metadata": {},
     "output_type": "execute_result"
    }
   ],
   "source": [
    "### 문자열 연산 ###\n",
    "\n",
    "# 문자열 더하기\n",
    "head = \"Python\"\n",
    "tail = \" is fun!\"\n",
    "head+tail\n",
    "\n",
    "# 문자열 곱하기\n",
    "a = \"python\"\n",
    "a*2\n",
    "\n",
    "# 문자열 곱하기 응용\n",
    "\n",
    "print(\"=\"*50)\n",
    "print(\"My Program\")\n",
    "print(\"=\"*50)\n",
    "\n",
    "# 문자열 길이 구하기\n",
    "\n",
    "a = \"Life is too short\"\n",
    "len(a)"
   ]
  },
  {
   "cell_type": "code",
   "execution_count": 7,
   "metadata": {},
   "outputs": [
    {
     "data": {
      "text/plain": [
       "'n'"
      ]
     },
     "execution_count": 7,
     "metadata": {},
     "output_type": "execute_result"
    }
   ],
   "source": [
    "### 문자열 인덱싱 ###\n",
    "\n",
    "# 파이썬은 0부터 숫자를 센다(*)\n",
    "\n",
    "a = \"Life is too short,You need python\"\n",
    "\n",
    "a[3] # 4번째 문자 = 'e'\n",
    "a[0] # 1번째 문제 = 'L'\n",
    "a[12] # 13번째 문자 = 's'\n",
    "\n",
    "a[-0] # a[-0] = a[0] = 1번째 문자 = 'L'\n",
    "a[-1] # 뒤에서 1번째 문자 = 'n'\n",
    "a[-2] # 뒤에서 2번째 문자 = 'o'\n",
    "a[-5] # 뒤에서 5번째 문자 = 'y'"
   ]
  },
  {
   "cell_type": "code",
   "execution_count": 11,
   "metadata": {},
   "outputs": [],
   "source": [
    "### 문자열 슬라이싱 ###\n",
    "\n",
    "# 파이썬에서 [a:b]은 인덱스 a부터 (b-1)까지를 의미(*)\n",
    "\n",
    "a = \"Life is too short,You need python\"\n",
    "\n",
    "# 1. 가장 단순한 방법\n",
    "b = a[0] + a[1] + a[2] + a[3] \n",
    "\n",
    "#2. 슬라이싱 기법\n",
    "a[0:4] # 인덱스 0부터 3까지 = 1번째 문자부터 4번째 문자까지\n",
    "\n",
    "#3. 슬라이싱 예\n",
    "a[0:2] # 인덱스 0-1\n",
    "a[5:7] # 인덱스 5-6\n",
    "a[12:17] # 인덱스 12-16\n",
    "\n",
    "a[19:] # 인덱스 19부터 끝까지\n",
    "a[:17] # 처음부터 인덱스 16까지\n",
    "a[:] # 처음부터 끝까지\n",
    "\n",
    "a[19:-7] # 인덱스 19부터 인덱스 -8까지(*)\n",
    "\n",
    "# 4. 슬라이싱으로 문자열 나누기\n",
    "a = \"20010331Rainy\"\n",
    "\n",
    "date = a[:8]\n",
    "weather = a[8:]\n",
    "\n",
    "year = a[:4]\n",
    "day = a[4:8]\n",
    "weather = a[8:]"
   ]
  },
  {
   "cell_type": "code",
   "execution_count": 15,
   "metadata": {},
   "outputs": [
    {
     "data": {
      "text/plain": [
       "'Python'"
      ]
     },
     "execution_count": 15,
     "metadata": {},
     "output_type": "execute_result"
    }
   ],
   "source": [
    "### 문자열 바꾸기 ###\n",
    "\n",
    "# 문자열 수정 불가능. 즉, a[1] = 'y' 오류(*)\n",
    "# 문자열 바꾸고 싶으면 슬라이싱 이용\n",
    "\n",
    "a = \"Pithon\"\n",
    "a[:1] # 'P'\n",
    "a[2:] # 'thon'\n",
    "a[:1]+'y'+a[2:] # 'Python'"
   ]
  },
  {
   "cell_type": "code",
   "execution_count": 20,
   "metadata": {},
   "outputs": [
    {
     "data": {
      "text/plain": [
       "'I ate 10 apples. so I was sick for three days.'"
      ]
     },
     "execution_count": 20,
     "metadata": {},
     "output_type": "execute_result"
    }
   ],
   "source": [
    "### 문자열 포맷팅 ###\n",
    "\n",
    "# 문자열 포맷팅; 문자열 안에 어떤 값을 삽입하는 방법\n",
    "\n",
    "# 1. 숫자 바로 대입\n",
    "\"I eat %d apples.\" %3 # %d; 정수\n",
    "\n",
    "# 2. 문자열 바로 대입\n",
    "\"I eat %s apples.\" % \"five\" # %s; 문자열 \n",
    "\n",
    "# 3. 변수로 대입\n",
    "number = 3\n",
    "\"I eat %d apples.\" %number \n",
    "\n",
    "# 4. 2개 이상의 값 넣기\n",
    "number = 10\n",
    "day = \"three\"\n",
    "\"I ate %d apples. so I was sick for %s days.\" %(number, day) # 튜플 형식 이용"
   ]
  },
  {
   "cell_type": "code",
   "execution_count": 27,
   "metadata": {},
   "outputs": [
    {
     "data": {
      "text/plain": [
       "'Error is 98%'"
      ]
     },
     "execution_count": 27,
     "metadata": {},
     "output_type": "execute_result"
    }
   ],
   "source": [
    "### 문자열 포맷 코드 ###\n",
    "\n",
    "# %s; 문자열(*)\n",
    "# %c; 문자 1개\n",
    "# %d; 정수(*)\n",
    "# %f; 부동소수(*)\n",
    "# %o; 8진수\n",
    "# %x; 16진수\n",
    "# %%; 문자 '%'자체\n",
    "\n",
    "# %s에는 어떤 형태의 값이든 넣을 수 있음; 숫자도 자동으로 문자열로 인식\n",
    "\"I have %s apples\" %3\n",
    "\"rate is %s\" %3.234\n",
    "\n",
    "# %d와 %를 같이 쓸 때는 %%를 씀\n",
    "\"Error is %d%%\" %98 # 98%\n",
    "\"Error is %s\" %\"98%\" # 아니면 %s 이용"
   ]
  },
  {
   "cell_type": "code",
   "execution_count": 29,
   "metadata": {},
   "outputs": [
    {
     "data": {
      "text/plain": [
       "'3.4213'"
      ]
     },
     "execution_count": 29,
     "metadata": {},
     "output_type": "execute_result"
    }
   ],
   "source": [
    "### 포맷 코드와 숫자 함께 사용(*) ###\n",
    "\n",
    "# 디폴트 오른쪽 정렬\n",
    "\n",
    "# 1. 정렬과 공백\n",
    "\"%10s\" %\"hi\" # 전체 10칸 중 문자열을 오른쪽 정렬해서 입력\n",
    "\"%-10sjane\" %\"hi\" # 전체 10칸 중 문자열은 왼쪽 정렬해서 입력\n",
    "\n",
    "#2. 소수점 표현\n",
    "\"%0.4f\" %3.42134234 # '.'은 소수점 포인트. 소수점 4번째 자리까지 표현\n",
    "\"%10.4f\" %3.42134234 # 전체 10칸 중 소수점 4번째 자리까지 표현하고 오른쪽 정렬"
   ]
  },
  {
   "cell_type": "code",
   "execution_count": 45,
   "metadata": {},
   "outputs": [
    {
     "data": {
      "text/plain": [
       "'I want to write {it}'"
      ]
     },
     "execution_count": 45,
     "metadata": {},
     "output_type": "execute_result"
    }
   ],
   "source": [
    "### format 함수를 사용한 포맷팅 ###\n",
    "\n",
    "# {}자리에 포맷팅한 값이 들어감; 이때 인덱스 or 이름을 이용\n",
    "\n",
    "# 1. 숫자 바로 대입\n",
    "\"I ate {0} apples.\".format(3)\n",
    "\n",
    "# 2. 문자열 바로 대입\n",
    "\"I ate {0} apples.\".format(\"five\")\n",
    "\n",
    "# 3. 변수로 대입\n",
    "number = 5\n",
    "\"I ate {0} apples.\".format(number)\n",
    "\n",
    "# 4. 2개 이상의 값 넣기\n",
    "number = 10\n",
    "day = \"three\"\n",
    "\"I ate {0} apples. so I was sick for {1} days.\".format(number,day)\n",
    "\n",
    "# 5. 이름으로 넣기\n",
    "\"I ate {n} apples. so I was sick for {day} days.\".format(n=50,day=7)\n",
    "\n",
    "# 6. 인덱스와 이름을 혼용해서 넣기\n",
    "\"I ate {0} apples. so I was sick for {day} days.\".format(500,day=10)\n",
    "\n",
    "# 7. 왼쪽 정렬\n",
    "\"{0:<10}\".format(\"Hi\") # 전체 10칸 중 왼쪽 정렬\n",
    "\n",
    "# 8. 오른쪽 정렬\n",
    "\"{0:>10}\".format(\"Hi\") # 전체 10칸 중 오른쪽 정렬\n",
    "\n",
    "# 9. 가운데 정렬\n",
    "\"{0:^10}\".format(\"Hi\") # 전체 10칸 중 가운데 정렬\n",
    "\n",
    "# 10. 공백 채우기\n",
    "\"{0:=^10}\".format(\"Hi\") # 전체 10칸 중 가운데 정렬, 빈칸은 '='로 채움\n",
    "\"{0:!<10}\".format(\"Hi\") # 전체 10칸 중 왼쪽 정렬, 빈칸은 '!'로 채움\n",
    "\n",
    "# 11. 소수점 표현하기\n",
    "y = 3.141592\n",
    "\"{0:0.4f}\".format(y) # 소수점 4번째 자리까지 표현\n",
    "\"{0:10.4f}\".format(y) # 전체 10칸 중 소수점 4번째 자리까지 표현 후 오른쪽 정렬\n",
    "\n",
    "# 12. 문자 '{' or '}' 표현하기\n",
    "\"I want to write {{it}}\".format() # {{}}; 중괄호를 연속 2개 사용하면 됨"
   ]
  },
  {
   "cell_type": "code",
   "execution_count": 62,
   "metadata": {},
   "outputs": [
    {
     "data": {
      "text/plain": [
       "['a', 'b', 'c', 'd']"
      ]
     },
     "execution_count": 62,
     "metadata": {},
     "output_type": "execute_result"
    }
   ],
   "source": [
    "### 문자열 관련 함수 ###\n",
    "\n",
    "# 1. 문자 개수 세기; count\n",
    "a = \"hobby\"\n",
    "a.count('b')\n",
    "\n",
    "# 2. 문자 위치 알려주기1; find\n",
    "a = \"Python is the best choice.\"\n",
    "a.find(\"b\") # 문자가 처음으로 나온 위치 반환\n",
    "a.find(\"z\") # 못 찾으면 -1 반환\n",
    "\n",
    "# 3. 문자 위치 알려주기2; index\n",
    "a = \"Life is too short.\"\n",
    "a.index('t') # 문자가 처음으로 나온 위치 반환\n",
    "a.index('z') # 못 찾으면 오류 발생\n",
    "\n",
    "# 4. 문자열 삽입; join(*)\n",
    "\",\".join('abcd') # 리스트나 튜플도 사용 가능 \n",
    "\n",
    "# 5. 소문자를 대문자로 바꾸기; upper\n",
    "a = \"hi\"\n",
    "a.upper()\n",
    "\n",
    "# 6. 대문자를 소문자로 바꾸기; lower\n",
    "a = \"HI\"\n",
    "a.lower()\n",
    "\n",
    "# 7. 왼쪽 공백 지우기; lstrip\n",
    "a = \" hi \"\n",
    "a.lstrip()\n",
    "\n",
    "# 8. 오른쪽 공백 지우기; rstrip\n",
    "a = \" hi \"\n",
    "a.rstrip()\n",
    "\n",
    "# 9. 양쪽 공백 지우기; strip\n",
    "a = \" hi \"\n",
    "a.strip()\n",
    "\n",
    "# 10. 문자열 바꾸기; replace\n",
    "a = \"Life is too short\"\n",
    "a.replace(\"Life\", \"Your leg\")\n",
    "\n",
    "# 11. 문자열 쪼개기; split(*)\n",
    "a = \"Life is too short\"\n",
    "a.split() # 공백을 기준으로 문자열 쪼개기\n",
    "b = \"a:b:c:d\"\n",
    "b.split(\":\") # 지정자 \":\"를 기준으로 문자열 쪼개기"
   ]
  },
  {
   "cell_type": "markdown",
   "metadata": {},
   "source": [
    "# 3. 리스트 자료형"
   ]
  },
  {
   "cell_type": "code",
   "execution_count": 1,
   "metadata": {},
   "outputs": [],
   "source": [
    "### 리스트 만들기 ###\n",
    "\n",
    "# 리스트; []로 묶인 요소들 \n",
    "\n",
    "a = [] # or a = list(); 빈 리스트\n",
    "b = [1,2,3] # 숫자 리스트\n",
    "c = ['Life','is','too','short'] # 문자열 리스트\n",
    "d = [1,2,'Life','is'] # 혼합 리스트\n",
    "e = [1,2,['Life','is']] # 리스트 안에 리스트"
   ]
  },
  {
   "cell_type": "code",
   "execution_count": 11,
   "metadata": {},
   "outputs": [
    {
     "data": {
      "text/plain": [
       "'Life'"
      ]
     },
     "execution_count": 11,
     "metadata": {},
     "output_type": "execute_result"
    }
   ],
   "source": [
    "### 리스트 인덱싱 ###\n",
    "\n",
    "# 기본 예제\n",
    "a = [1,2,3]\n",
    "\n",
    "a[0] # 1\n",
    "a[0]+a[2] # 1+3=4\n",
    "a[-1] # 3\n",
    "\n",
    "# 중첩 리스트 예제\n",
    "a = [1,2,3,['a','b','c']]\n",
    "\n",
    "a[0] # 1\n",
    "a[-1] # ['a','b','c']\n",
    "a[3] # ['a','b','c']\n",
    "\n",
    "a[3][0] # 인덱스 3의 첫 번째 원소 = 'a'\n",
    "a[-1][-1] # 'c'\n",
    "\n",
    "# 삼중 리스트 예제\n",
    "a = [1, 2, ['a', 'b', ['Life', 'is']]]\n",
    "a[-1][-1][0] # 'Life'"
   ]
  },
  {
   "cell_type": "code",
   "execution_count": 15,
   "metadata": {},
   "outputs": [
    {
     "data": {
      "text/plain": [
       "['a', 'b']"
      ]
     },
     "execution_count": 15,
     "metadata": {},
     "output_type": "execute_result"
    }
   ],
   "source": [
    "### 리스트 슬라이싱 ###\n",
    "\n",
    "# 기본 예제\n",
    "a = [1,2,3,4,5]\n",
    "a[0:2] # [1,2]\n",
    "\n",
    "b = a[:2] # [1,2]\n",
    "c = a[2:] # [3,4,5]\n",
    "\n",
    "# 중첩 리스트 예제\n",
    "a = [1, 2, 3, ['a', 'b', 'c'], 4, 5]\n",
    "a [2:5] # [3,['a','b','c'],4]\n",
    "a[3][:2] # ['a','b']"
   ]
  },
  {
   "cell_type": "code",
   "execution_count": 18,
   "metadata": {},
   "outputs": [
    {
     "data": {
      "text/plain": [
       "3"
      ]
     },
     "execution_count": 18,
     "metadata": {},
     "output_type": "execute_result"
    }
   ],
   "source": [
    "### 리스트 연산 ###\n",
    "\n",
    "# 더하기\n",
    "a = [1,2,3]\n",
    "b = [4,5,6]\n",
    "a+b # [1,2,3,4,5,6]\n",
    "\n",
    "# 곱하기\n",
    "a = [1,2,3]\n",
    "a*3 # [1,2,3,1,2,3,1,2,3]\n",
    "\n",
    "# 길이 구하기\n",
    "a = [1,2,3]\n",
    "len(a) # 3\n",
    "\n",
    "# 리스트 연산 오류\n",
    "a = [1,2,3]\n",
    "a[2] + 'hi' # 오류; 숫자와 문자열은 연산 불가능\n",
    "str(a[2]) + 'hi' # 3hi"
   ]
  },
  {
   "cell_type": "code",
   "execution_count": 20,
   "metadata": {},
   "outputs": [
    {
     "data": {
      "text/plain": [
       "[1, 3]"
      ]
     },
     "execution_count": 20,
     "metadata": {},
     "output_type": "execute_result"
    }
   ],
   "source": [
    "### 리스트 수정 및 삭제 ###\n",
    "\n",
    "# 리스트 요소 수정\n",
    "a = [1,2,3]\n",
    "a[2] = 4\n",
    "a # 리스트는 수정 가능; 문자열은 불가능\n",
    "\n",
    "# 리스트 요소 삭제 \n",
    "\n",
    "# del a[x]; a의 x번째 요소를 삭제하는 파이썬 내장함수\n",
    "\n",
    "a = [1,2,3]\n",
    "\n",
    "del a[1] \n",
    "a # [1,3]\n",
    "\n",
    "del a[2:]\n",
    "a # [1,2]"
   ]
  },
  {
   "cell_type": "code",
   "execution_count": 43,
   "metadata": {},
   "outputs": [
    {
     "data": {
      "text/plain": [
       "[1, 2, 3, 4, 5, 6, 7]"
      ]
     },
     "execution_count": 43,
     "metadata": {},
     "output_type": "execute_result"
    }
   ],
   "source": [
    "### 리스트 관련 함수 ###\n",
    "\n",
    "# 리스트에 요소 추가; append\n",
    "a = [1,2,3]\n",
    "\n",
    "a.append(4)\n",
    "a # [1,2,3,4]\n",
    "\n",
    "a.append([5,6])\n",
    "a # [1,2,3,4,[5,6]]\n",
    "\n",
    "# 리스트 정렬; sort\n",
    "a = [1,4,3,2]\n",
    "a.sort() \n",
    "a # [1,2,3,4]\n",
    "\n",
    "a = ['b','c','a','d']\n",
    "a.sort()\n",
    "a # ['a','b','c','d']\n",
    "\n",
    "# 리스트 뒤집기(정렬x); reverse\n",
    "a = ['a','c','b']\n",
    "a.reverse()\n",
    "a # ['b','c','a']\n",
    "\n",
    "# 리스트 위치 반환; index\n",
    "a = [1,2,3]\n",
    "a.index(3) # 2\n",
    "a.index(0) # 오류\n",
    "\n",
    "# 리스트 요소 삽입; insert\n",
    "a = [1,2,3]\n",
    "a.insert(0,4) # 원하는 위치에 원하는 원소 삽입\n",
    "a # [4,1,2,3] \n",
    "a.insert(3,5)\n",
    "a # [4,1,2,5,3]\n",
    "\n",
    "# 리스트 요소 제거; remove\n",
    "a = [1,2,3,1,2,3]\n",
    "a.remove(3) # 첫 번째로 나오는 요소 삭제\n",
    "a # [1,2,1,2,3]\n",
    "a.remove(3)\n",
    "a #[1,2,1,2]\n",
    "\n",
    "# 리스트 요소 끄집어내기; pop\n",
    "a = [1,2,3]\n",
    "b = a.pop() # 맨 마지막 원소 끄집어내기\n",
    "a # [1,2]\n",
    "b # 3\n",
    "\n",
    "a = [1,2,3]\n",
    "b = a.pop(1) # 인덱스 1 원소 끄집어내기\n",
    "a # [1,3]\n",
    "b # 2\n",
    "\n",
    "# 리스트에 포함된 요소 개수 세기; count\n",
    "a = [1,2,3,1]\n",
    "a.count(1) # 2 \n",
    "\n",
    "# 리스트 확장; extend\n",
    "a = [1,2,3]\n",
    "a.extend([4,5]) # 리스트만 가능\n",
    "a # [1,2,3,4,5]; cf. a.append([4,5]) -> [1,2,3,[4,5]]\n",
    "\n",
    "b = [6,7]\n",
    "a.extend(b)\n",
    "a # [1,2,3,4,5,6,7]"
   ]
  },
  {
   "cell_type": "markdown",
   "metadata": {},
   "source": [
    "# 4. 튜플 자료형"
   ]
  },
  {
   "cell_type": "code",
   "execution_count": 47,
   "metadata": {},
   "outputs": [],
   "source": [
    "### 튜플 만들기 ###\n",
    "\n",
    "# 튜플; ()로 둘러싸인 요소들. 리스트와 비슷하지만 수정 불가능\n",
    "\n",
    "t1 = () # 빈 튜플; or t1 = tuple()\n",
    "t2 = (1,) # 튜플의 요소가 1개일 때는 반드시 콤마를 붙여야 함\n",
    "t3 = (1,2,3) # 가장 기본 형태\n",
    "t4 = 1,2,3 # 괄호 생략 가능\n",
    "t5 = ('a','b',('ab','cd'))"
   ]
  },
  {
   "cell_type": "code",
   "execution_count": 49,
   "metadata": {},
   "outputs": [
    {
     "ename": "TypeError",
     "evalue": "'tuple' object does not support item assignment",
     "output_type": "error",
     "traceback": [
      "\u001b[1;31m---------------------------------------------------------------------------\u001b[0m",
      "\u001b[1;31mTypeError\u001b[0m                                 Traceback (most recent call last)",
      "\u001b[1;32m<ipython-input-49-ae5d215df764>\u001b[0m in \u001b[0;36m<module>\u001b[1;34m\u001b[0m\n\u001b[0;32m      7\u001b[0m \u001b[1;31m# 튜플 요솟값 변경\u001b[0m\u001b[1;33m\u001b[0m\u001b[1;33m\u001b[0m\u001b[1;33m\u001b[0m\u001b[0m\n\u001b[0;32m      8\u001b[0m \u001b[0mt1\u001b[0m \u001b[1;33m=\u001b[0m \u001b[1;33m(\u001b[0m\u001b[1;36m1\u001b[0m\u001b[1;33m,\u001b[0m\u001b[1;36m2\u001b[0m\u001b[1;33m,\u001b[0m\u001b[1;34m'a'\u001b[0m\u001b[1;33m,\u001b[0m\u001b[1;34m'b'\u001b[0m\u001b[1;33m)\u001b[0m\u001b[1;33m\u001b[0m\u001b[1;33m\u001b[0m\u001b[0m\n\u001b[1;32m----> 9\u001b[1;33m \u001b[0mt1\u001b[0m\u001b[1;33m[\u001b[0m\u001b[1;36m0\u001b[0m\u001b[1;33m]\u001b[0m \u001b[1;33m=\u001b[0m \u001b[1;34m'c'\u001b[0m\u001b[1;33m\u001b[0m\u001b[1;33m\u001b[0m\u001b[0m\n\u001b[0m",
      "\u001b[1;31mTypeError\u001b[0m: 'tuple' object does not support item assignment"
     ]
    }
   ],
   "source": [
    "### 튜플 수정 및 삭제 ###\n",
    "\n",
    "# 튜플 요솟값 삭제\n",
    "t1 = (1,2,'a','b')\n",
    "del t1[0] # 오류; 튜플은 수정 불가능 \n",
    "\n",
    "# 튜플 요솟값 변경\n",
    "t1 = (1,2,'a','b')\n",
    "t1[0] = 'c' # 오류; 튜플은 수정 불가능"
   ]
  },
  {
   "cell_type": "code",
   "execution_count": 54,
   "metadata": {},
   "outputs": [
    {
     "data": {
      "text/plain": [
       "4"
      ]
     },
     "execution_count": 54,
     "metadata": {},
     "output_type": "execute_result"
    }
   ],
   "source": [
    "### 튜플 다루기 ###\n",
    "\n",
    "# 인덱싱\n",
    "t1 = (1,2,'a','b')\n",
    "t1[0] # 1\n",
    "t1[3] # 'b'\n",
    "\n",
    "# 슬라이싱\n",
    "t1 = (1,2,'a','b')\n",
    "t1[1:] # (2,'a','b')\n",
    "\n",
    "# 더하기\n",
    "t1 = (1,2,'a','b')\n",
    "t2 = (3,4)\n",
    "t1+t2 # (1,2,'a','b',3,4)\n",
    "\n",
    "# 곱하기\n",
    "t2 = (3,4)\n",
    "t2*3 # (3,4,3,4,3,4)\n",
    "\n",
    "# 길이 구하기\n",
    "t1 = (1,2,'a','b')\n",
    "len(t1) # 4"
   ]
  },
  {
   "cell_type": "markdown",
   "metadata": {},
   "source": [
    "# 5. 딕셔너리 자료형"
   ]
  },
  {
   "cell_type": "code",
   "execution_count": 56,
   "metadata": {},
   "outputs": [],
   "source": [
    "### 딕셔너리 만들기 ###\n",
    "\n",
    "# 딕셔너리; {}로 둘러싸인 키:값 쌍. 키는 수정 불가능, 값은 수정 가능\n",
    "# 딕셔너리의 가장 큰 특징은 인덱스 대신 '키'를 이용해 '값'을 얻음\n",
    "\n",
    "a = {'name':'pey', 'phone':'0119993323', 'birth': '1118'}\n",
    "b = {1:'hi', 'a':[1,2,3]}"
   ]
  },
  {
   "cell_type": "code",
   "execution_count": 60,
   "metadata": {},
   "outputs": [
    {
     "data": {
      "text/plain": [
       "{2: 'b', 'name': 'pey', 3: [1, 2, 3]}"
      ]
     },
     "execution_count": 60,
     "metadata": {},
     "output_type": "execute_result"
    }
   ],
   "source": [
    "### 딕셔너리 쌍 추가 및 삭제하기 ###\n",
    "\n",
    "# 딕셔너리 쌍 추가\n",
    "a = {1:'a'}\n",
    "\n",
    "a[2] = 'b' # a[2]는 인덱스가 아님. 2라는 키에 'b'라는 값의 쌍을 추가\n",
    "a # {1:'a',2:'b'}\n",
    "\n",
    "a['name'] = 'pey' # 'name'이라는 키에 'pey'라는 값의 쌍을 추가\n",
    "a # {1:'a',2:'b','name':'pey'}\n",
    "\n",
    "a[3] = [1,2,3] # 3이라는 키에 [1,2,3]라는 값의 쌍을 추가\n",
    "a # {1:'a',2:'b','name':'pey',3:[1,2,3]}\n",
    "\n",
    "# 딕셔너리 요소 삭제\n",
    "del a[1] # 1이라는 키를 가지는 키:값 쌍 제거\n",
    "a # {2:'b','name':'pey',3:[1,2,3]}"
   ]
  },
  {
   "cell_type": "code",
   "execution_count": 66,
   "metadata": {},
   "outputs": [
    {
     "ename": "TypeError",
     "evalue": "unhashable type: 'list'",
     "output_type": "error",
     "traceback": [
      "\u001b[1;31m---------------------------------------------------------------------------\u001b[0m",
      "\u001b[1;31mTypeError\u001b[0m                                 Traceback (most recent call last)",
      "\u001b[1;32m<ipython-input-66-be976b3a1f88>\u001b[0m in \u001b[0;36m<module>\u001b[1;34m\u001b[0m\n\u001b[0;32m     26\u001b[0m \u001b[1;33m\u001b[0m\u001b[0m\n\u001b[0;32m     27\u001b[0m \u001b[1;31m# 2. 키에 리스트는 쓸 수 없음; 리스트는 수정가능하기 때문에(키는 변하면 안 됨)\u001b[0m\u001b[1;33m\u001b[0m\u001b[1;33m\u001b[0m\u001b[1;33m\u001b[0m\u001b[0m\n\u001b[1;32m---> 28\u001b[1;33m \u001b[0ma\u001b[0m \u001b[1;33m=\u001b[0m \u001b[1;33m{\u001b[0m\u001b[1;33m[\u001b[0m\u001b[1;36m1\u001b[0m\u001b[1;33m,\u001b[0m\u001b[1;36m2\u001b[0m\u001b[1;33m]\u001b[0m\u001b[1;33m:\u001b[0m\u001b[1;34m'hi'\u001b[0m\u001b[1;33m}\u001b[0m\u001b[1;33m\u001b[0m\u001b[1;33m\u001b[0m\u001b[0m\n\u001b[0m",
      "\u001b[1;31mTypeError\u001b[0m: unhashable type: 'list'"
     ]
    }
   ],
   "source": [
    "### 딕셔너리 사용 방법 ###\n",
    "\n",
    "# Key를 사용해 Value 얻기\n",
    "grade = {'pey':10,'julliet':99}\n",
    "grade['pey'] # 10\n",
    "grade['julliet'] # 99\n",
    "\n",
    "a = {1:'a',2:'b'}\n",
    "a[1] # 'a'\n",
    "a[2] # 'b'\n",
    "\n",
    "b = {'a':1, 'b':2}\n",
    "b['a'] # 1\n",
    "b['b'] # 2\n",
    "\n",
    "dic = {'name':'pey', 'phone':'0119993323', 'birth': '1118'}\n",
    "dic['name'] # 'pey'\n",
    "dic['phone'] # '0119993323'\n",
    "dic['birth'] # '1118'\n",
    "\n",
    "# 주의사항\n",
    "\n",
    "# 1. 키가 중복되면 하나를 제외한 나머지는 모두 무시\n",
    "a = {1:'a',1:'b'}\n",
    "a # {1:'b'}\n",
    "\n",
    "# 2. 키에 리스트는 쓸 수 없음; 리스트는 수정가능하기 때문에(키는 변하면 안 됨)\n",
    "a = {[1,2]:'hi'}"
   ]
  },
  {
   "cell_type": "code",
   "execution_count": 81,
   "metadata": {},
   "outputs": [
    {
     "name": "stdout",
     "output_type": "stream",
     "text": [
      "None\n"
     ]
    },
    {
     "data": {
      "text/plain": [
       "False"
      ]
     },
     "execution_count": 81,
     "metadata": {},
     "output_type": "execute_result"
    }
   ],
   "source": [
    "### 딕셔너리 관련 함수 ###\n",
    "\n",
    "# key 리스트 만들기; keys\n",
    "a = {'name': 'pey', 'phone': '0119993323', 'birth': '1118'}\n",
    "a.keys() # 딕셔너리의 keys만 모은 객체\n",
    "list(a.keys()) # 객체를 리스트 형식으로 변환\n",
    "\n",
    "# value 리스트 만들기; values\n",
    "a = {'name': 'pey', 'phone': '0119993323', 'birth': '1118'}\n",
    "a.values() # 딕셔너리의 values만 모은 객체\n",
    "list(a.values()) # 객체를 리스트 형식으로 변환\n",
    "\n",
    "# key-value 쌍 얻기; items\n",
    "a = {'name': 'pey', 'phone': '0119993323', 'birth': '1118'}\n",
    "a.items() # 딕셔너리의 key-value 쌍을 모은 객체\n",
    "list(a.items()) # 객체를 리스트 형식으로 변환\n",
    "\n",
    "# key-value 쌍 모두 지우기; clear\n",
    "a = {'name': 'pey', 'phone': '0119993323', 'birth': '1118'}\n",
    "a.clear()\n",
    "a # {}\n",
    "\n",
    "# key로 value 얻기; get\n",
    "a = {'name': 'pey', 'phone': '0119993323', 'birth': '1118'}\n",
    "a.get('name') # 'pey'\n",
    "a.get('birth') # '1118'\n",
    "\n",
    "print(a.get('nokey')) # 딕셔너리에 없는 키1; none 반환\n",
    "print(a['nokey']) # 딕셔너리에 없는 키2; 오류\n",
    "\n",
    "# key가 딕셔너리 안에 있는지 조사하기; in\n",
    "a = {'name': 'pey', 'phone': '0119993323', 'birth': '1118'}\n",
    "'name' in a # True\n",
    "'nokey' in a # False"
   ]
  },
  {
   "cell_type": "markdown",
   "metadata": {},
   "source": [
    "# 6. 집합 자료형"
   ]
  },
  {
   "cell_type": "code",
   "execution_count": 82,
   "metadata": {},
   "outputs": [
    {
     "data": {
      "text/plain": [
       "{1, 2, 3}"
      ]
     },
     "execution_count": 82,
     "metadata": {},
     "output_type": "execute_result"
    }
   ],
   "source": [
    "### 집합 자료형 만들기 ###\n",
    "\n",
    "# 집합 자료형; set()을 이용. 괄호 안에는 리스트나 문자열 \n",
    "\n",
    "s1 = set([1,2,3]) # set(); 괄호 안에 리스트\n",
    "s1 # {1,2,3}\n",
    "s2 = set('Hello') # set(); 괄호 안에 문자열 \n",
    "s2 # {'e','H','l','o'}"
   ]
  },
  {
   "cell_type": "code",
   "execution_count": 84,
   "metadata": {},
   "outputs": [
    {
     "data": {
      "text/plain": [
       "1"
      ]
     },
     "execution_count": 84,
     "metadata": {},
     "output_type": "execute_result"
    }
   ],
   "source": [
    "### 집합 자료형 특징 ###\n",
    "\n",
    "# 1. 중복을 허용하지 않음\n",
    "# 2. 순서가 없음; 따라서 인덱싱 불가능 \n",
    "\n",
    "s1 = set([1,2,3])\n",
    "\n",
    "l1 = list(s1)\n",
    "l1 # [1,2,3]\n",
    "l1[0] # 1\n",
    "\n",
    "t1 = tuple(s1)\n",
    "t1 # (1,2,3)\n",
    "t1[0] # 1"
   ]
  },
  {
   "cell_type": "code",
   "execution_count": 89,
   "metadata": {},
   "outputs": [
    {
     "data": {
      "text/plain": [
       "{7, 8, 9}"
      ]
     },
     "execution_count": 89,
     "metadata": {},
     "output_type": "execute_result"
    }
   ],
   "source": [
    "### 집합 자료형의 활용 ###\n",
    "\n",
    "s1 = set([1,2,3,4,5,6])\n",
    "s2 = set([4,5,6,7,8,9])\n",
    "\n",
    "# 교집합; '&' or intersection\n",
    "s1 & s2 # {4,5,6}\n",
    "s1.intersection(s2) # {4,5,6}\n",
    "\n",
    "# 합집합; '|' or union\n",
    "s1 | s2 # {1,2,3,4,5,6,7,8,9}\n",
    "s1.union(s2) # {1,2,3,4,5,6,7,8,9}\n",
    "\n",
    "# 차집합; '-' or difference\n",
    "s1 - s2 # {1,2,3}\n",
    "s2 - s1 # {7,8,9}\n",
    "s1.difference(s2) # {1,2,3}\n",
    "s2.difference(s1) # {7,8,9}"
   ]
  },
  {
   "cell_type": "code",
   "execution_count": 92,
   "metadata": {},
   "outputs": [
    {
     "data": {
      "text/plain": [
       "{1, 2, 3}"
      ]
     },
     "execution_count": 92,
     "metadata": {},
     "output_type": "execute_result"
    }
   ],
   "source": [
    "### 집합 자료형 관련 함수 ###\n",
    "\n",
    "# 값 1개 추가; add\n",
    "s1 = set([1,2,3])\n",
    "s1.add(4)\n",
    "s1 # {1,2,3,4}\n",
    "\n",
    "# 값 여러개 추가; update\n",
    "s1 = set([1,2,3])\n",
    "s1.update([4,5,6])\n",
    "s1 # {1,2,3,4,5,6}\n",
    "\n",
    "# 특정 값 제거; remove\n",
    "s1 = set([1,2,3,4])\n",
    "s1.remove(4)\n",
    "s1 # {1,2,3}"
   ]
  },
  {
   "cell_type": "markdown",
   "metadata": {},
   "source": [
    "# 7. 불 자료형"
   ]
  },
  {
   "cell_type": "code",
   "execution_count": 97,
   "metadata": {},
   "outputs": [
    {
     "data": {
      "text/plain": [
       "False"
      ]
     },
     "execution_count": 97,
     "metadata": {},
     "output_type": "execute_result"
    }
   ],
   "source": [
    "### 불 자료형이란 ###\n",
    "\n",
    "# 불 자료형; 참(True)과 거짓(False)를 나타내는 자료형\n",
    "\n",
    "a = True\n",
    "b = False\n",
    "\n",
    "type(a) # bool\n",
    "type(b) # bool\n",
    "\n",
    "1 == 1 # True\n",
    "2 > 1 # True\n",
    "2 < 1 # False"
   ]
  },
  {
   "cell_type": "code",
   "execution_count": 102,
   "metadata": {},
   "outputs": [
    {
     "name": "stdout",
     "output_type": "stream",
     "text": [
      "참\n",
      "거짓\n"
     ]
    }
   ],
   "source": [
    "### 자료형의 참과 거짓(*) ###\n",
    "\n",
    "# 거짓; 문자열,리스트,튜플,딕셔너리 등이 비어있음, 숫자0, None\n",
    "# 참; 문자열,리스트,튜플,딕셔너리 등이 비어있지 않음, 0이 아닌 숫자\n",
    "\n",
    "if [1,2,3]:\n",
    "    print(\"참\")\n",
    "else:\n",
    "    print(\"거짓\")\n",
    "# [1,2,3]이 참이면 \"참\"을 출력, 그렇지 않으면 \"거짓\"을 출력; 참\n",
    "\n",
    "if []:\n",
    "    print(\"참\")\n",
    "else: \n",
    "    print(\"거짓\")\n",
    "# []가 참이면 \"참\"을 출력, 그렇지 않으면 \"거짓\"을 출력; 거짓"
   ]
  },
  {
   "cell_type": "code",
   "execution_count": 107,
   "metadata": {},
   "outputs": [
    {
     "data": {
      "text/plain": [
       "True"
      ]
     },
     "execution_count": 107,
     "metadata": {},
     "output_type": "execute_result"
    }
   ],
   "source": [
    "### 불 연산 ###\n",
    "\n",
    "bool(\"python\") # True; 비어있지 않은 문자열\n",
    "bool(\"\") # False; 빈 문자열\n",
    "bool(\" \") # True; 공백도 문자로 인식\n",
    "\n",
    "bool([1,2,3]) # True\n",
    "bool([]) # False\n",
    "bool(0) # False\n",
    "bool(-1234) # True"
   ]
  },
  {
   "cell_type": "markdown",
   "metadata": {},
   "source": [
    "# 8. 변수"
   ]
  },
  {
   "cell_type": "code",
   "execution_count": 108,
   "metadata": {},
   "outputs": [],
   "source": [
    "### 변수 만들기 ###\n",
    "\n",
    "# 변수 이름 = 변수에 저장할 값 \n",
    "\n",
    "a = 1\n",
    "b = 'python'\n",
    "c = [1,2,3]"
   ]
  },
  {
   "cell_type": "code",
   "execution_count": 109,
   "metadata": {},
   "outputs": [
    {
     "data": {
      "text/plain": [
       "1389187904648"
      ]
     },
     "execution_count": 109,
     "metadata": {},
     "output_type": "execute_result"
    }
   ],
   "source": [
    "### 변수란 ###\n",
    "\n",
    "a = [1,2,3] \n",
    "\n",
    "# 파이썬에서 변수는 곧 객체(=자료형)를 가리키는 것\n",
    "# 먼저 [1,2,3]라는 값을 가지는 리스트 자료형(객체)이 자동으로 메모리에 생성 \n",
    "# 변수 a는 [1,2,3] 리스트가 저장된 '메모리 주소'를 가리킴\n",
    "id(a) # 변수 a가 가리키는 메모리 주소 확인 "
   ]
  },
  {
   "cell_type": "code",
   "execution_count": 121,
   "metadata": {},
   "outputs": [
    {
     "data": {
      "text/plain": [
       "False"
      ]
     },
     "execution_count": 121,
     "metadata": {},
     "output_type": "execute_result"
    }
   ],
   "source": [
    "### 리스트 복사(*) ###\n",
    "\n",
    "a = [1,2,3]\n",
    "b = a\n",
    "\n",
    "# 변수 b에 변수 a 대입; b와 a는 완전히 동일\n",
    "# 다만, [1,2,3] 리스트를 참조하는 변수가 a 1개에서 b가 하나 추가되어 2개가 됨\n",
    "\n",
    "id(a) == id(b) # True; 즉, a와 b가 완전히 동일함을 확인 \n",
    "a is b # True; a와 b가 가리키는 객체가 동일\n",
    "\n",
    "a[1] = 4\n",
    "a # [1,4,3]\n",
    "b # [1,4,3]; a 리스트의 요소를 바꿨는데 b도 함께 바뀜\n",
    "\n",
    "# 변수 b를 생성할 때 변수 a의 값을 가져오면서 a와는 다른 주소를 가리키는 법 \n",
    "\n",
    "# 1. [:]\n",
    "a = [1,2,3]\n",
    "b = a[:]\n",
    "id(a) == id(b) # False\n",
    "a[2] = 4\n",
    "a # [1,2,4]\n",
    "b # [1,2,3]; a 리스트의 요소를 바꿔도 b에는 영향 없음 \n",
    "\n",
    "# 2. copy 모듈\n",
    "from copy import copy\n",
    "b = copy(a) # b = a[:]와 동일\n",
    "b is a # False"
   ]
  },
  {
   "cell_type": "code",
   "execution_count": 123,
   "metadata": {},
   "outputs": [
    {
     "data": {
      "text/plain": [
       "3"
      ]
     },
     "execution_count": 123,
     "metadata": {},
     "output_type": "execute_result"
    }
   ],
   "source": [
    "### 변수를 만드는 여러가지 방법 ###\n",
    "\n",
    "a, b = ('Kim','Dahee') # 튜플로 변수 생성\n",
    "(a, b) = 'Kim', 'Dahee' # 튜플은 괄호 생략 가능 \n",
    "[a,b] = ['Kim','Dahee'] # 리스트로 변수 생성\n",
    "a = b = 'Kimdahee' # 여러 개의 변수에 같은 값 대입\n",
    "\n",
    "a = 3\n",
    "b = 5\n",
    "a, b = b, a # a, b가 새로 지정됨 \n",
    "a # 5\n",
    "b # 3"
   ]
  }
 ],
 "metadata": {
  "kernelspec": {
   "display_name": "Python 3",
   "language": "python",
   "name": "python3"
  },
  "language_info": {
   "codemirror_mode": {
    "name": "ipython",
    "version": 3
   },
   "file_extension": ".py",
   "mimetype": "text/x-python",
   "name": "python",
   "nbconvert_exporter": "python",
   "pygments_lexer": "ipython3",
   "version": "3.7.3"
  }
 },
 "nbformat": 4,
 "nbformat_minor": 2
}
