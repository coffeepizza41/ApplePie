{
 "cells": [
  {
   "cell_type": "markdown",
   "metadata": {},
   "source": [
    "# 1. 정규표현식 살펴보기 "
   ]
  },
  {
   "cell_type": "code",
   "execution_count": null,
   "metadata": {},
   "outputs": [],
   "source": [
    "### 정규표현식이란 ###\n",
    "\n",
    "# 정규표현식; 복잡한 문자열을 처리할 때 사용하는 기법\n",
    "\n",
    "# 정규표현식 사용 예; 주민등록번호 뒷 자리 * 처리\n",
    "\n",
    "# 일반 코드\n",
    "\n",
    "data = \"\"\"\n",
    "park 800905-1049118\n",
    "kim  700905-1059119\n",
    "\"\"\"\n",
    "\n",
    "result = []\n",
    "for line in data.split(\"\\n\"):\n",
    "    word_result = []\n",
    "    for word in line.split(\" \"):\n",
    "        if len(word) == 14 and word[:6].isdigit() and word[7:].isdigit():\n",
    "            word = word[:6] + \"-\" + \"*******\"\n",
    "        word_result.append(word)\n",
    "    result.append(\" \".join(word_result))\n",
    "print(\"\\n\".join(result))\n",
    "\n",
    "# 정규식; 훨씬 간단\n",
    "\n",
    "import re \n",
    "\n",
    "data = \"\"\"\n",
    "park 800905-1049118\n",
    "kim  700905-1059119\n",
    "\"\"\"\n",
    "\n",
    "pat = re.compile(\"(\\d{6})[-]\\d{7}\")\n",
    "print(pat.sub(\"\\g<1>-*******\", data))"
   ]
  },
  {
   "cell_type": "markdown",
   "metadata": {},
   "source": [
    "# 2. 정규표현식 시작하기"
   ]
  },
  {
   "cell_type": "code",
   "execution_count": 1,
   "metadata": {},
   "outputs": [],
   "source": [
    "### 정규표현식의 기초, 메타 문자 ###\n",
    "\n",
    "# 메타문자; 원래 그 문자가 가진 뜻이 아닌 특별한 용도로 사용하는 문자\n",
    "\n",
    "# 1. 문자 클래스 []; [] 사이의 문자들과 매치\n",
    "# 즉, [abc]라면 \"a,b,c, 중 한 개의 문자와 매치\"라는 뜻\n",
    "# 하이픈(-)을 사용하면 두 문자 사이의 범위를 의미(From-To)\n",
    "# '^' 기호는 주의. 반대(not)의 의미를 가짐\n",
    "# < 자주 사용하는 문자 클래스 >\n",
    "# \\d; 숫자와 매치, [0-9]와 동일\n",
    "# \\D; 숫자가 아닌 것과 매치, [^0-9]와 동일\n",
    "# \\s; whitespace 문자와 매치, [ \\t\\n\\r\\f\\v]와 동일\n",
    "# \\S; whithspace 문자가 아닌 것과 매치, [^ \\t\\n\\r\\f\\v]와 동일\n",
    "# \\w; 문자+숫자와 매치, [a-zA-Z0-9_]와 동일\n",
    "# \\W; 문자+숫자가 아닌 것과 매치, [^a-zA-Z0-9_]와 동일\n",
    "\n",
    "# 2. Dot(.); 줄바꿈 문자 '\\n'을 제외한 모든 문자와 매치\n",
    "# 즉, a.b라면 \"a+모든문자+b\"로 a와 b 사이에 어떤 문자가 들어가도 매치된다는 뜻\n",
    "# 또한, a[.]b라면 \"a + Dot(.)문자 + b\"로 \"a.b\"문자열과 매치, \"a0b\"와는 매치 X\n",
    "\n",
    "# 3. 반복(*); * 바로 앞 문자가 0부터 무한대로 반복되면 매치\n",
    "# ca*t/ct -> 매치; \"a\"가 0번 반복\n",
    "# ca*t/cat -> 매치; \"a\"가 1번 반복\n",
    "# ca*t/caaat -> 매치; \"a\"가 3번 반복\n",
    "\n",
    "# 4. 반복(+); + 바로 앞 문자가 1부터 무한대로 반복되면 매치\n",
    "# ca*t/ct -> 매치X; \"a\"가 0번 반복\n",
    "# ca*t/cat -> 매치; \"a\"가 1번 반복\n",
    "# ca*t/caaat -> 매치; \"a\"가 3번 반복\n",
    "\n",
    "# 5. 반복({m,n},?); 반복 횟수 고정 \n",
    "# ca{2}t; a를 2번 반복해야지만 매치\n",
    "# ca{2,5}t; a를 2~5번 반복하면 매치\n",
    "# ab?c; ?는 {0,1}을 의미. 즉, 있어도 되고 없어도 됨"
   ]
  },
  {
   "cell_type": "code",
   "execution_count": 3,
   "metadata": {},
   "outputs": [],
   "source": [
    "### 정규표현식을 지원하는 모듈; re ###\n",
    "\n",
    "import re\n",
    "p = re.compile('ab*')"
   ]
  },
  {
   "cell_type": "code",
   "execution_count": 13,
   "metadata": {},
   "outputs": [
    {
     "name": "stdout",
     "output_type": "stream",
     "text": [
      "<re.Match object; span=(0, 6), match='python'>\n",
      "None\n",
      "<re.Match object; span=(0, 6), match='python'>\n",
      "<re.Match object; span=(2, 8), match='python'>\n",
      "['life', 'is', 'too', 'short']\n",
      "<callable_iterator object at 0x000001C68EE645F8>\n"
     ]
    }
   ],
   "source": [
    "### 정규식을 이용한 문자열 검색 ###\n",
    "\n",
    "# match(); 문자열의 처음부터 정규식과 매치하는 지 조사\n",
    "# search(); 문자열 전체를 검색하여 정규식과 매치하는 지 조사\n",
    "# findall(); 정규식과 매치되는 모든 문자열을 리스트로 반환\n",
    "# finditer(); 정규식과 매치되는 모든 문자열을 반복 가능한 객체로 반환\n",
    "\n",
    "import re\n",
    "p = re.compile(\"[a-z]+\")\n",
    "\n",
    "# 1. match\n",
    "\n",
    "m = p.match('python')\n",
    "print(m) # 매치 \n",
    "\n",
    "m = p.match('3 python')\n",
    "print(m) # 매치 안 하므로 None\n",
    "\n",
    "# < 파이썬 정규식 프로그램 짜는 법 >\n",
    "# p = re.compile(정규표현식)\n",
    "# m = p.match( 'string goes here' )\n",
    "# if m:\n",
    "#     print('Match found: ', m.group())\n",
    "# else:\n",
    "#     print('No match')\n",
    "\n",
    "# 2. search\n",
    "\n",
    "m = p.search(\"python\")\n",
    "print(m) # 매치\n",
    "\n",
    "m = p.search(\"3 python\")\n",
    "print(m) # 매치; search는 처음부터가 아니라 전체에서 검색\n",
    "\n",
    "# 3. findall\n",
    "\n",
    "result = p.findall('life is too short')\n",
    "print(result) # 각 단어를 정규식과 매치해서 리스트로 반환\n",
    "\n",
    "# 4. finditer\n",
    "\n",
    "result = p.finditer(\"life is too short\")\n",
    "print(result) # findall과 동일, 리스트 대신 반복 가능한 객체로 반환"
   ]
  },
  {
   "cell_type": "code",
   "execution_count": 17,
   "metadata": {},
   "outputs": [
    {
     "data": {
      "text/plain": [
       "(0, 6)"
      ]
     },
     "execution_count": 17,
     "metadata": {},
     "output_type": "execute_result"
    }
   ],
   "source": [
    "### match, search 객체의 메서드 ###\n",
    "\n",
    "# group(); 매치된 문자열 반환\n",
    "# start(); 매치된 문자열 시작 위치 반환\n",
    "# end(); 매치된 문자열 끝 위치 반환\n",
    "# span(); 매치된 문자열 (시작, 끝) 튜플 반환\n",
    "\n",
    "m = p.match(\"python\")\n",
    "m.group()\n",
    "m.start()\n",
    "m.end()\n",
    "m.span()"
   ]
  },
  {
   "cell_type": "code",
   "execution_count": 18,
   "metadata": {},
   "outputs": [],
   "source": [
    "### 모듈 단위로 수행 ### \n",
    "\n",
    "p = re.compile('[a-z]+')\n",
    "m = p.match(\"python\")\n",
    "\n",
    "# 위 코드를 모듈 단위로 축약\n",
    "\n",
    "m = re.match('[a-z]+','python')"
   ]
  },
  {
   "cell_type": "code",
   "execution_count": 19,
   "metadata": {},
   "outputs": [],
   "source": [
    "### 컴파일 옵션 ###\n",
    "\n",
    "# DOTALL(S) - '.' 이 줄바꿈 문자를 포함해 모든 문자와 매치 가능\n",
    "# IGNORECASE(I) - 대소문자에 관계없이 매치 가능\n",
    "# MULTILINE(M) - 여러 줄과 매치 가능 (^, $ 메타문자의 사용과 관련)\n",
    "# VERBOSE(X) - verbose 모드를 사용 가능 (주석 등을 사용 가능, 정규식 보기 편함)"
   ]
  },
  {
   "cell_type": "code",
   "execution_count": null,
   "metadata": {},
   "outputs": [],
   "source": [
    "### 백슬래시 문제 ###\n",
    "\n",
    "# 백슬래시; 문자 그대로의 '\\'를 사용하고 싶으면 겹쳐서 사용"
   ]
  },
  {
   "cell_type": "markdown",
   "metadata": {},
   "source": [
    "# 3. 강력한 정규표현식의 세계로"
   ]
  },
  {
   "cell_type": "code",
   "execution_count": 20,
   "metadata": {},
   "outputs": [],
   "source": [
    "### 메타문자 ###\n",
    "\n",
    "# |; or과 동일\n",
    "# ^; 문자열의 맨 처음과 일치\n",
    "# $; 문자열의 맨 끝과 일치. 즉, '^'문자와 반대. \n",
    "# \\A; 문자열의 처음과 매치\n",
    "# \\Z; 문자열의 끝과 매치\n",
    "# \\b; 단어 구분자(보통 공백)\n",
    "# \\B; 공백 이외 단어 구분자. 즉, '\\b'와 반대"
   ]
  },
  {
   "cell_type": "code",
   "execution_count": 21,
   "metadata": {},
   "outputs": [],
   "source": [
    "### 그루핑 ###\n",
    "\n",
    "# 그루핑; 인덱스를 이용해 그룹을 만들고 그루핑 된 문자열만 뽑아내서 매치\n",
    "\n",
    "# group(0); 매치된 전체 문자열\n",
    "# group(1); 첫 번째 그룹에 해당되는 문자열\n",
    "# group(2); 두 번째 그룹에 해당되는 문자열\n",
    "# group(n); n 번째 그룹에 해당되는 문자열"
   ]
  },
  {
   "cell_type": "code",
   "execution_count": 22,
   "metadata": {},
   "outputs": [],
   "source": [
    "### 전방 탐색 ###\n",
    "\n",
    "# 긍정형 전방 탐색(?=...); ...의 정규식과 매치, 조건이 통과해도 문자열 소비 X\n",
    "# 부정형 전방 탐색(?!...); ...의 정규식과 매치X, 조건이 통과해도 문자열 소비 X"
   ]
  },
  {
   "cell_type": "code",
   "execution_count": 23,
   "metadata": {},
   "outputs": [],
   "source": [
    "### 문자열 바꾸기 ###\n",
    "\n",
    "# sub 메서드; 첫 번째 매개변수는 바꿀 문자열, 두 번째 매개변수는 대상 문자열\n",
    "# subn 메서드; sub 메서드와 동일. 대신 튜플로 반환"
   ]
  },
  {
   "cell_type": "code",
   "execution_count": null,
   "metadata": {},
   "outputs": [],
   "source": [
    "### Greedy vs Non-Greedy ###"
   ]
  }
 ],
 "metadata": {
  "kernelspec": {
   "display_name": "Python 3",
   "language": "python",
   "name": "python3"
  },
  "language_info": {
   "codemirror_mode": {
    "name": "ipython",
    "version": 3
   },
   "file_extension": ".py",
   "mimetype": "text/x-python",
   "name": "python",
   "nbconvert_exporter": "python",
   "pygments_lexer": "ipython3",
   "version": "3.7.3"
  }
 },
 "nbformat": 4,
 "nbformat_minor": 2
}
