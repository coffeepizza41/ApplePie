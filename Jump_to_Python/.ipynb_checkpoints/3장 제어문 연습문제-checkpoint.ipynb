{
 "cells": [
  {
   "cell_type": "markdown",
   "metadata": {},
   "source": [
    "# Q1"
   ]
  },
  {
   "cell_type": "code",
   "execution_count": 1,
   "metadata": {},
   "outputs": [
    {
     "name": "stdout",
     "output_type": "stream",
     "text": [
      "shirt\n"
     ]
    }
   ],
   "source": [
    "# Q1. 다음 코드의 결과값\n",
    "\n",
    "a = \"Life is too short, you need python\"\n",
    "\n",
    "if \"wife\" in a: print(\"wife\")\n",
    "elif \"python\" in a and \"you\" not in a: print(\"python\")\n",
    "elif \"shirt\" not in a: print(\"shirt\") # 조건 참 -> 실행\n",
    "elif \"need\" in a: print(\"need\") # 조건은 참이지만 그 전에 if문 탈출\n",
    "else: print(\"none\")\n",
    "    \n",
    "# ans: \"shirt\"    "
   ]
  },
  {
   "cell_type": "markdown",
   "metadata": {},
   "source": [
    "# Q2"
   ]
  },
  {
   "cell_type": "code",
   "execution_count": 4,
   "metadata": {},
   "outputs": [
    {
     "name": "stdout",
     "output_type": "stream",
     "text": [
      "166833\n"
     ]
    }
   ],
   "source": [
    "# Q2. while문을 사용해 1부터 1000까지 자연수 중 3의 배수의 합 구하기\n",
    "\n",
    "num = 0\n",
    "res = [] \n",
    "\n",
    "while num < 1000:\n",
    "    num += 1 \n",
    "    if num % 3 == 0:\n",
    "        res.append(num)\n",
    "    else:\n",
    "        continue\n",
    "\n",
    "# ans:\n",
    "print(sum(res)) # 166833"
   ]
  },
  {
   "cell_type": "markdown",
   "metadata": {},
   "source": [
    "# Q3"
   ]
  },
  {
   "cell_type": "code",
   "execution_count": 6,
   "metadata": {},
   "outputs": [
    {
     "name": "stdout",
     "output_type": "stream",
     "text": [
      "*\n",
      "**\n",
      "***\n",
      "****\n",
      "*****\n"
     ]
    }
   ],
   "source": [
    "# Q3. while문을 사용하여 다음과 같이 별(*)을 표시하는 프로그램 작성하기\n",
    "\n",
    "n = 0\n",
    "\n",
    "while n < 5:\n",
    "    n += 1\n",
    "    print(\"*\"*n)"
   ]
  },
  {
   "cell_type": "markdown",
   "metadata": {},
   "source": [
    "# Q4"
   ]
  },
  {
   "cell_type": "code",
   "execution_count": 10,
   "metadata": {},
   "outputs": [
    {
     "name": "stdout",
     "output_type": "stream",
     "text": [
      "1 2 3 4 5 6 7 8 9 10 11 12 13 14 15 16 17 18 19 20 21 22 23 24 25 26 27 28 29 30 31 32 33 34 35 36 37 38 39 40 41 42 43 44 45 46 47 48 49 50 51 52 53 54 55 56 57 58 59 60 61 62 63 64 65 66 67 68 69 70 71 72 73 74 75 76 77 78 79 80 81 82 83 84 85 86 87 88 89 90 91 92 93 94 95 96 97 98 99 100 "
     ]
    }
   ],
   "source": [
    "# Q4. for문을 사용해 1부터 100까지의 숫자 출력하기\n",
    "\n",
    "for i in range(1,101):\n",
    "    print(i, end = \" \") # end = \" \"; 줄 바꿈이 아니라 띄어쓰기 간격으로 print"
   ]
  },
  {
   "cell_type": "markdown",
   "metadata": {},
   "source": [
    "# Q5"
   ]
  },
  {
   "cell_type": "code",
   "execution_count": 19,
   "metadata": {},
   "outputs": [
    {
     "name": "stdout",
     "output_type": "stream",
     "text": [
      "79.0\n"
     ]
    }
   ],
   "source": [
    "# Q5. for문을 사용해 A학급의 평균 점수 구하기\n",
    "\n",
    "A = [70, 60, 55, 75, 95, 90, 80, 80, 85, 100]\n",
    "res = []\n",
    "\n",
    "for i in A:\n",
    "    res.append(i)\n",
    "\n",
    "# ans:\n",
    "sum(res)/len(A) # 79.0\n",
    "\n",
    "### or ###\n",
    "\n",
    "A = [70, 60, 55, 75, 95, 90, 80, 80, 85, 100]\n",
    "num = 0\n",
    "avg = 0\n",
    "score = []\n",
    "\n",
    "for i in A: \n",
    "    num += 1 \n",
    "    score.append(i)\n",
    "    avg = sum(score) / num # 평균 = 지금까지 점수 합 / 지금까지 학생 수 \n",
    "\n",
    "#ans:\n",
    "print(avg) # 79.0"
   ]
  },
  {
   "cell_type": "markdown",
   "metadata": {},
   "source": [
    "# Q6"
   ]
  },
  {
   "cell_type": "code",
   "execution_count": 22,
   "metadata": {},
   "outputs": [
    {
     "data": {
      "text/plain": [
       "[2, 6, 10]"
      ]
     },
     "execution_count": 22,
     "metadata": {},
     "output_type": "execute_result"
    }
   ],
   "source": [
    "# Q6. 리스트 중 홀수에만 2를 곱하여 저장하는 코드를 리스트 내포로 표현하기\n",
    "\n",
    "numbers = [1,2,3,4,5]\n",
    "result = []\n",
    "\n",
    "for n in numbers:\n",
    "    if n % 2 == 1:\n",
    "        result.append(n*2)\n",
    "        \n",
    "# ans:\n",
    "\n",
    "result = [n*2 for n in numbers if n%2==1]\n",
    "result # [2,6,10]"
   ]
  }
 ],
 "metadata": {
  "kernelspec": {
   "display_name": "Python 3",
   "language": "python",
   "name": "python3"
  },
  "language_info": {
   "codemirror_mode": {
    "name": "ipython",
    "version": 3
   },
   "file_extension": ".py",
   "mimetype": "text/x-python",
   "name": "python",
   "nbconvert_exporter": "python",
   "pygments_lexer": "ipython3",
   "version": "3.7.3"
  }
 },
 "nbformat": 4,
 "nbformat_minor": 2
}
