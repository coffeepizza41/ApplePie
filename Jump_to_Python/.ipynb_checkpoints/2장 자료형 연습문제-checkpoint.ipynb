{
 "cells": [
  {
   "cell_type": "markdown",
   "metadata": {},
   "source": [
    "# Q1"
   ]
  },
  {
   "cell_type": "code",
   "execution_count": 2,
   "metadata": {},
   "outputs": [
    {
     "data": {
      "text/plain": [
       "70.0"
      ]
     },
     "execution_count": 2,
     "metadata": {},
     "output_type": "execute_result"
    }
   ],
   "source": [
    "# Q1. 홍길동 씨의 평균 점수 \n",
    "\n",
    "# ans:\n",
    "avg = (80+75+55)/3\n",
    "avg # 70.0"
   ]
  },
  {
   "cell_type": "markdown",
   "metadata": {},
   "source": [
    "# Q2"
   ]
  },
  {
   "cell_type": "code",
   "execution_count": 6,
   "metadata": {},
   "outputs": [
    {
     "data": {
      "text/plain": [
       "6"
      ]
     },
     "execution_count": 6,
     "metadata": {},
     "output_type": "execute_result"
    }
   ],
   "source": [
    "# Q2. 자연수 13이 홀수인지 짝수인지 판별\n",
    "\n",
    "# //; 몫\n",
    "# %; 나머지\n",
    "\n",
    "# ans:\n",
    "# 2로 나눴을 때 나머지가 0이면 짝수, 1이면 홀수\n",
    "13%2 # 나머지가 1이므로 홀수"
   ]
  },
  {
   "cell_type": "markdown",
   "metadata": {},
   "source": [
    "# Q3"
   ]
  },
  {
   "cell_type": "code",
   "execution_count": 1,
   "metadata": {},
   "outputs": [
    {
     "name": "stdout",
     "output_type": "stream",
     "text": [
      "881120\n",
      "1068234\n"
     ]
    }
   ],
   "source": [
    "# Q3. 홍길동 씨의 주민등록번호를 연월일(YYMMDD) 부분과 그 뒤 숫자 부분으로 나누기\n",
    "# hint; 문자열 슬라이싱 \n",
    "\n",
    "pin = \"881120-1068234\"\n",
    "\n",
    "yymmdd = pin[:6]\n",
    "num = pin[7:]\n",
    "\n",
    "# ans:\n",
    "print(yymmdd)\n",
    "print(num)"
   ]
  },
  {
   "cell_type": "markdown",
   "metadata": {},
   "source": [
    "# Q4"
   ]
  },
  {
   "cell_type": "code",
   "execution_count": 12,
   "metadata": {},
   "outputs": [
    {
     "data": {
      "text/plain": [
       "'1'"
      ]
     },
     "execution_count": 12,
     "metadata": {},
     "output_type": "execute_result"
    }
   ],
   "source": [
    "# Q4. 주민등록번호에서 성별을 나타내는 숫자를 출력\n",
    "# hint; 문자열 인덱싱\n",
    "\n",
    "pin = \"881120-1068234\"\n",
    "\n",
    "# ans:\n",
    "gender = pin[7]\n",
    "gender # 1이면 남자, 2면 여자; 1이므로 남자"
   ]
  },
  {
   "cell_type": "markdown",
   "metadata": {},
   "source": [
    "# Q5"
   ]
  },
  {
   "cell_type": "code",
   "execution_count": 13,
   "metadata": {},
   "outputs": [
    {
     "data": {
      "text/plain": [
       "'a#b#c#d'"
      ]
     },
     "execution_count": 13,
     "metadata": {},
     "output_type": "execute_result"
    }
   ],
   "source": [
    "# Q5. 문자열 a:b:c:d를 a#b#c#d로 바꾸기\n",
    "# hint; replace 함수\n",
    "\n",
    "a = \"a:b:c:d\"\n",
    "\n",
    "# ans:\n",
    "a.replace(\":\",\"#\")"
   ]
  },
  {
   "cell_type": "markdown",
   "metadata": {},
   "source": [
    "# Q6"
   ]
  },
  {
   "cell_type": "code",
   "execution_count": 71,
   "metadata": {},
   "outputs": [
    {
     "data": {
      "text/plain": [
       "[5, 4, 3, 2, 1]"
      ]
     },
     "execution_count": 71,
     "metadata": {},
     "output_type": "execute_result"
    }
   ],
   "source": [
    "# Q6. [1,3,5,4,2] 리스트를 [5,4,3,2,1]로 만들기\n",
    "# hint; 리스트 내장함수\n",
    "\n",
    "li = [1,3,5,4,2]\n",
    "\n",
    "# ans:\n",
    "sorted(li, reverse=True)\n",
    "\n",
    "### or ###\n",
    "\n",
    "# 먼저 리스트를 오름차순으로 정렬하고 뒤집어야 함\n",
    "\n",
    "li.sort() # 오름차순 정렬\n",
    "li\n",
    "\n",
    "# ans:\n",
    "li.reverse() # 내림차순 정렬\n",
    "li"
   ]
  },
  {
   "cell_type": "markdown",
   "metadata": {},
   "source": [
    "# Q7"
   ]
  },
  {
   "cell_type": "code",
   "execution_count": 38,
   "metadata": {},
   "outputs": [
    {
     "name": "stdout",
     "output_type": "stream",
     "text": [
      "Lifeistooshort\n"
     ]
    },
    {
     "data": {
      "text/plain": [
       "'Life is too short'"
      ]
     },
     "execution_count": 38,
     "metadata": {},
     "output_type": "execute_result"
    }
   ],
   "source": [
    "# Q7. ['Life','is','too','short'] 리스트를 문자열로 만들어 출력하기\n",
    "# hint; join 함수\n",
    "\n",
    "li = ['Life','is','too','short']\n",
    "\n",
    "# ans:\n",
    "ans = li[0]+li[1]+li[2]+li[3]\n",
    "print(ans)\n",
    "\n",
    "#### or ###\n",
    "\n",
    "# \"\".join(); 괄호 안의 리스트의 요소를 따옴표 안의 기호로 연결해줌\n",
    "\n",
    "li = ['Life','is','too','short']\n",
    "' '.join(li)"
   ]
  },
  {
   "cell_type": "markdown",
   "metadata": {},
   "source": [
    "# Q8"
   ]
  },
  {
   "cell_type": "code",
   "execution_count": 43,
   "metadata": {},
   "outputs": [
    {
     "data": {
      "text/plain": [
       "(1, 2, 3, 4)"
      ]
     },
     "execution_count": 43,
     "metadata": {},
     "output_type": "execute_result"
    }
   ],
   "source": [
    "# Q8. (1,2,3) 튜플에 4를 추가하여 (1,2,3,4)를 만들기\n",
    "# hint; 더하기(+) 이용\n",
    "\n",
    "# 튜플은 수정 불가능하므로 append 같은 내장함수 사용 못 함\n",
    "\n",
    "# ans:\n",
    "t1 = (1,2,3) \n",
    "t2 = (4,)\n",
    "t1 + t2"
   ]
  },
  {
   "cell_type": "markdown",
   "metadata": {},
   "source": [
    "# Q9"
   ]
  },
  {
   "cell_type": "code",
   "execution_count": 40,
   "metadata": {},
   "outputs": [],
   "source": [
    "# Q9. 다음 딕셔너리에 대해서 오류가 발생하는 경우와 그 이유\n",
    "\n",
    "a = dict()\n",
    "a # 빈 딕셔너리\n",
    "\n",
    "# 1. 정상; 사전에 'name' 키에 'python' 값 추가\n",
    "a['name'] = 'python'\n",
    "\n",
    "# 2. 정상; 사전에 'a' 하나를 가지는 튜플에 'python' 값 추가\n",
    "# 이때 튜플 원소가 하나이므로 콤마(,)와 함께 쓰임\n",
    "# 또한 키는 중복되면 최신의 키-값 쌍으로 갱신되지만 값은 중복 상관없음\n",
    "a[('a',)] = 'python' \n",
    "\n",
    "# ans:\n",
    "# 3. 오류; 키에는 리스트 자료형이 올 수 없음(리스트는 수정가능하므로)\n",
    "a[[1]] = 'python'\n",
    "\n",
    "# 4. 정상; 사전에 '250' 키에 'pythoon' 값 추가\n",
    "a[250] = 'python'"
   ]
  },
  {
   "cell_type": "markdown",
   "metadata": {},
   "source": [
    "# Q10"
   ]
  },
  {
   "cell_type": "code",
   "execution_count": 49,
   "metadata": {},
   "outputs": [
    {
     "data": {
      "text/plain": [
       "80"
      ]
     },
     "execution_count": 49,
     "metadata": {},
     "output_type": "execute_result"
    }
   ],
   "source": [
    "# Q10. 딕셔너리 a에 'B'에 해당되는 값 추출하기\n",
    "# hint; pop 함수\n",
    "\n",
    "a = {'A':90, 'B':80, 'C':70}\n",
    "\n",
    "# ans:\n",
    "a['B']\n",
    "\n",
    "### or ###\n",
    "\n",
    "a.pop('B')"
   ]
  },
  {
   "cell_type": "markdown",
   "metadata": {},
   "source": [
    "# Q11"
   ]
  },
  {
   "cell_type": "code",
   "execution_count": 50,
   "metadata": {},
   "outputs": [
    {
     "data": {
      "text/plain": [
       "{1, 2, 3, 4, 5}"
      ]
     },
     "execution_count": 50,
     "metadata": {},
     "output_type": "execute_result"
    }
   ],
   "source": [
    "# Q11. a 리스트에서 중복 숫자 제거\n",
    "# hint; 집합 자료형의 중복 없음 특징 이용\n",
    "\n",
    "a = [1,1,1,2,2,3,3,3,4,4,5]\n",
    "\n",
    "# ans:\n",
    "aset = set(a) # set(); 괄호 안의 리스트를 집합 자료형으로 바꿔줌\n",
    "b = list(aset) # 집합자료형을 다시 리스트로 변환; 중복 원소가 제거된 리스트"
   ]
  },
  {
   "cell_type": "markdown",
   "metadata": {},
   "source": [
    "# Q12"
   ]
  },
  {
   "cell_type": "code",
   "execution_count": 51,
   "metadata": {},
   "outputs": [
    {
     "name": "stdout",
     "output_type": "stream",
     "text": [
      "[1, 4, 3]\n"
     ]
    }
   ],
   "source": [
    "# Q12. a, b 변수를 동시에 선언한 후 a의 두 번째 요소값을 변경할 때 b값과 이유\n",
    "\n",
    "a = b = [1,2,3]\n",
    "a[1] = 4\n",
    "print(b)\n",
    "\n",
    "# ans:\n",
    "# b도 a와 마찬가지로 [1,4,3]이 되었다.\n",
    "# a와 b는 완전히 동일한 메모리 주소를 가지기 때문이다.(= 같은 객체를 가리킴) \n",
    "# 즉, a와 b가 나타내는 객체(=자료형)가 같으므로 a가 바뀌면 b도 바뀌게 된다. "
   ]
  }
 ],
 "metadata": {
  "kernelspec": {
   "display_name": "Python 3",
   "language": "python",
   "name": "python3"
  },
  "language_info": {
   "codemirror_mode": {
    "name": "ipython",
    "version": 3
   },
   "file_extension": ".py",
   "mimetype": "text/x-python",
   "name": "python",
   "nbconvert_exporter": "python",
   "pygments_lexer": "ipython3",
   "version": "3.7.3"
  }
 },
 "nbformat": 4,
 "nbformat_minor": 2
}
