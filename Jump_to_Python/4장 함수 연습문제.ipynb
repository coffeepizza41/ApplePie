{
 "cells": [
  {
   "cell_type": "markdown",
   "metadata": {},
   "source": [
    "# Q1"
   ]
  },
  {
   "cell_type": "code",
   "execution_count": 16,
   "metadata": {},
   "outputs": [
    {
     "name": "stdout",
     "output_type": "stream",
     "text": [
      "10 is even.\n",
      "3 is odd.\n"
     ]
    }
   ],
   "source": [
    "# Q1. 주어진 자연수가 홀수인지 짝수인지 판별해주는 함수 작성\n",
    "\n",
    "def is_odd(n):\n",
    "    if n%2 == 0:\n",
    "        return print(\"%d is even.\"%n)\n",
    "    elif n%2 == 1:\n",
    "        return print(\"%d is odd.\"%n)\n",
    "    \n",
    "is_odd(10)\n",
    "is_odd(3)\n",
    "\n",
    "# or \n",
    "\n",
    "is_odd = lambda x: True if x%2 == 0 else False"
   ]
  },
  {
   "cell_type": "markdown",
   "metadata": {},
   "source": [
    "# Q2"
   ]
  },
  {
   "cell_type": "code",
   "execution_count": 9,
   "metadata": {},
   "outputs": [
    {
     "data": {
      "text/plain": [
       "78.33333333333333"
      ]
     },
     "execution_count": 9,
     "metadata": {},
     "output_type": "execute_result"
    }
   ],
   "source": [
    "# Q2. 입력으로 들어오는 모든 수의 평균 값을 계산해주는 함수 작성\n",
    "\n",
    "def average(*n):\n",
    "    res = 0\n",
    "    for i in n:\n",
    "        res = res + i\n",
    "    return res/len(n)\n",
    "\n",
    "average(1,2,3)\n",
    "average(10,30,50)\n",
    "average(95,65,75)"
   ]
  },
  {
   "cell_type": "markdown",
   "metadata": {},
   "source": [
    "# Q3"
   ]
  },
  {
   "cell_type": "code",
   "execution_count": 10,
   "metadata": {},
   "outputs": [
    {
     "name": "stdout",
     "output_type": "stream",
     "text": [
      "첫번째 숫자를 입력하세요: 85\n",
      "두번째 숫자를 입력하세요: 60\n",
      "두 수의 합은 145 입니다.\n"
     ]
    }
   ],
   "source": [
    "# Q3. 다음 프로그램의 오류를 수정해라\n",
    "\n",
    "input1 = input(\"첫번째 숫자를 입력하세요: \")\n",
    "input2 = input(\"두번째 숫자를 입력하세요: \")\n",
    "\n",
    "#total = input1 + input2 ; 오류\n",
    "# input으로 들어온 값은 항상 문자열이다.\n",
    "# 따라서 숫자 연산을 위해서는 입력받은 값을 정수로 변환해줘야 한다.\n",
    "# int; 정수로 바꿔주는 함수 \n",
    "\n",
    "total = int(input1) + int(input2)\n",
    "print(\"두 수의 합은 %s 입니다.\"%total)"
   ]
  },
  {
   "cell_type": "markdown",
   "metadata": {},
   "source": [
    "# Q4"
   ]
  },
  {
   "cell_type": "code",
   "execution_count": 11,
   "metadata": {},
   "outputs": [
    {
     "name": "stdout",
     "output_type": "stream",
     "text": [
      "youneedpython\n",
      "youneedpython\n",
      "you need python\n",
      "youneedpython\n"
     ]
    }
   ],
   "source": [
    "# Q4. 다음 중 출력 결과가 다른 것 한 개를 골라라\n",
    "\n",
    "print(\"you\" \"need\" \"python\") # youneedpython\n",
    "print(\"you\"+\"need\"+\"python\") # youneedpython\n",
    "print(\"you\", \"need\", \"python\") # you need python\n",
    "print(\"\".join([\"you\", \"need\", \"python\"])) # youneedpython\n",
    "\n",
    "# 1; 큰따옴표로 연결 = + 연산. 즉, 공백없이 문자열 붙이기\n",
    "# 2; + 연산은 문자열 더하기(공백 없음)\n",
    "# 3; 콤마로 연결된 문자열은 띄어쓰기 포함해서 붙이기\n",
    "# 4; \"\".join([])는 큰따옴표(\"\") 안을 이용해 문자열을 붙임 "
   ]
  },
  {
   "cell_type": "markdown",
   "metadata": {},
   "source": [
    "# Q5"
   ]
  },
  {
   "cell_type": "code",
   "execution_count": 12,
   "metadata": {},
   "outputs": [
    {
     "name": "stdout",
     "output_type": "stream",
     "text": [
      "Life is too short\n"
     ]
    }
   ],
   "source": [
    "# Q5. 우리가 예상한 값을 출력할 수 있도록 프로그램을 수정해라\n",
    "\n",
    "f1 = open(\"test.txt\",'w')\n",
    "f1.write(\"Life is too short\")\n",
    "f1.close()\n",
    "\n",
    "f2 = open(\"test.txt\",'r')\n",
    "print(f2.read())\n",
    "f2.close()\n",
    "\n",
    "# 파일을 닫지 않은 상태에서 다시 열면 파일에 저장한 데이터를 읽을 수 없다.\n",
    "# 따라서 f1에서 파일을 닫고 다시 f2로 열어야 됨\n",
    "\n",
    "# or\n",
    "\n",
    "with open(\"test.txt\",'w') as f1:\n",
    "    f1.write(\"Life is too short! \")\n",
    "with open(\"test.txt\",'r') as f2:\n",
    "    print(f2.read())"
   ]
  },
  {
   "cell_type": "markdown",
   "metadata": {},
   "source": [
    "# Q6(*)"
   ]
  },
  {
   "cell_type": "code",
   "execution_count": 17,
   "metadata": {},
   "outputs": [
    {
     "name": "stdout",
     "output_type": "stream",
     "text": [
      "저장할 내용을 입력하세요: 너무 졸리다\n"
     ]
    }
   ],
   "source": [
    "# Q6. 사용자의 입력을 파일에 저장하는 프로그램을 작성해라.\n",
    "# 단, 프로그램을 다시 실행해도 기존에 작성한 내용을 유지해야 함\n",
    "\n",
    "user_input = input(\"저장할 내용을 입력하세요: \")\n",
    "f = open(\"test.txt\",'a') # 추가모드; 기존의 파일에 새로운 내용 추가\n",
    "f.write(user_input)\n",
    "f.write(\"\\n\")\n",
    "f.close()"
   ]
  },
  {
   "cell_type": "markdown",
   "metadata": {},
   "source": [
    "# Q7(*)"
   ]
  },
  {
   "cell_type": "code",
   "execution_count": 18,
   "metadata": {},
   "outputs": [],
   "source": [
    "# Q7. 파일의 내용 중 \"java\"를 \"python\"으로 바꾸어 저장해라.\n",
    "\n",
    "f = open(\"test.txt\",'r') # 일단 파일을 읽자\n",
    "body = f.read() # 파일의 내용을 body라는 변수에 저장하자\n",
    "f.close() # 원할한 다음 작업을 위해 파일을 닫자\n",
    "\n",
    "body = body.replace(\"java\",\"python\") # 파일의 내용 중 'java'를 'python'으로 바꾸자\n",
    "\n",
    "f = open(\"test.txt\",'w')\n",
    "f.write(body)\n",
    "f.close()"
   ]
  }
 ],
 "metadata": {
  "kernelspec": {
   "display_name": "Python 3",
   "language": "python",
   "name": "python3"
  },
  "language_info": {
   "codemirror_mode": {
    "name": "ipython",
    "version": 3
   },
   "file_extension": ".py",
   "mimetype": "text/x-python",
   "name": "python",
   "nbconvert_exporter": "python",
   "pygments_lexer": "ipython3",
   "version": "3.7.3"
  }
 },
 "nbformat": 4,
 "nbformat_minor": 2
}
