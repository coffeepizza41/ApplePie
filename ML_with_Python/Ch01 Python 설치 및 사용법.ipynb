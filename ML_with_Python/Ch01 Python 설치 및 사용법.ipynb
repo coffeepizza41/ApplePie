{
 "cells": [
  {
   "cell_type": "markdown",
   "metadata": {},
   "source": [
    "# Ch01-01 파이썬이란"
   ]
  },
  {
   "cell_type": "code",
   "execution_count": 3,
   "metadata": {},
   "outputs": [],
   "source": [
    "### 도입 ###\n",
    "\n",
    "# 사이킷런 - 파이썬 위에 데이터마이닝 알고리즘  \n",
    "# 텐서플로, 케라스 - 파이썬 위에 딥러닝 알고리즘\n",
    "# 케라스가 가장 상위 = 가장 쉬움 \n",
    "# 파이썬 위에 사이킷런, 텐서플로, 케라스 등 존재 -> 더 쉽게 분석하기 위해서 "
   ]
  },
  {
   "cell_type": "code",
   "execution_count": null,
   "metadata": {},
   "outputs": [],
   "source": [
    "### Python 프로그램이란 ### \n",
    "\n",
    "# 2008, Pandas; 파이썬에서 사용할 수 있는 데이터 베이스\n",
    "# like R의 데이터프레임\n",
    "\n",
    "# 2010, sklearn; 데이터마이닝 패키지 툴, 특히 텍스트마이닝, 딥러닝 쪽이 강함 \n",
    "# like R의 여러가지 데이터마이닝 관련 패키지, 그 외 기본적인 분석은 R이 더 나은 듯 "
   ]
  },
  {
   "cell_type": "markdown",
   "metadata": {},
   "source": [
    "# Ch01-02 파이썬 특징"
   ]
  },
  {
   "cell_type": "code",
   "execution_count": null,
   "metadata": {},
   "outputs": [],
   "source": [
    "### R과 Python ###\n",
    "\n",
    "# R: 통계분석 + 기계학습\n",
    "# Phthon: 일반 프로그래밍 + 기계학습(*) + 딥러닝 "
   ]
  },
  {
   "cell_type": "code",
   "execution_count": null,
   "metadata": {},
   "outputs": [],
   "source": [
    "### 기계학습에 필요한 라이브러리 ###\n",
    "\n",
    "# 아나콘다: 배포판\n",
    "# 주피터 노트북: IDE 프로그램 코드를 브라우저에서 실행 \n",
    "# *Numpy(넘파이): 과학 계산용 패키지, 다차원 배열, 선형대수 연산 -> 수학관련 연산할 때 자주 쓰이는 툴\n",
    "# *Matplotlib(맷플롯립): 그래프 패키지, 선 그래프, 히스토그램 -> 그래픽을 도와주는 패키지(R의 ggplot)\n",
    "# *Pandas(판다스): 데이터 처리 및 분석, DataFrame, 엑셀 파일, CSV파일 등 다양한 파일 처리(R의 data.frame)\n",
    "# *Sklearn(싸이킷런): 기계학습 패키지 -> 기계학습\n",
    "# Tensorflow(텐서플로): 구글에서 개발한 딥러닝용 패키지 -> 딥러닝\n",
    "# Keras(케라스): 딥러닝용 고급 패키지 -> 딥러닝"
   ]
  },
  {
   "cell_type": "markdown",
   "metadata": {},
   "source": [
    "# Ch01-03 파이썬 설치"
   ]
  },
  {
   "cell_type": "code",
   "execution_count": null,
   "metadata": {},
   "outputs": [],
   "source": [
    "### 생략 ###"
   ]
  },
  {
   "cell_type": "markdown",
   "metadata": {},
   "source": [
    "# Ch01-04 주피터노트북 사용"
   ]
  },
  {
   "cell_type": "code",
   "execution_count": null,
   "metadata": {},
   "outputs": [],
   "source": [
    "### 작업 파일 생성 ###\n",
    "\n",
    "# Anaconda3 -> _PML_ -> Ch01 등 파일 생성\n",
    "# 파이썬 관련 파일은 Anaconda3 폴더 밑에 넣어야 자동으로 인식됨 "
   ]
  },
  {
   "cell_type": "markdown",
   "metadata": {},
   "source": [
    "# Ch01-05 마크다운 "
   ]
  },
  {
   "cell_type": "code",
   "execution_count": null,
   "metadata": {},
   "outputs": [],
   "source": [
    "### Markdown mode ###\n",
    "\n",
    "# 워드 모드라고 생각하면 됨 \n",
    "# 샵은 글자 크기를 키움(강조 효과)\n",
    "# 샵의 개수가 많아질수록 글자 크기가 작아짐\n",
    "# Ctrl + Enter : 실행만 \n",
    "# Shift + Enter: 실행 후 다음 칸으로"
   ]
  },
  {
   "cell_type": "markdown",
   "metadata": {},
   "source": [
    "# Ch01-06 변수선언"
   ]
  },
  {
   "cell_type": "code",
   "execution_count": 4,
   "metadata": {},
   "outputs": [],
   "source": [
    "### 프로그래밍의 6원칙 ###\n",
    "\n",
    "# 변수선언: 대소문자 구분 \n",
    "# 데이터형: 숫자, 문자, 자료\n",
    "# 연산자: 산술, 비교, 논리연산자 등\n",
    "# 제어문: if문\n",
    "# 반복문: for문, while문\n",
    "# 함수\n",
    "# 자료구조"
   ]
  },
  {
   "cell_type": "code",
   "execution_count": 5,
   "metadata": {},
   "outputs": [
    {
     "data": {
      "text/plain": [
       "5"
      ]
     },
     "execution_count": 5,
     "metadata": {},
     "output_type": "execute_result"
    }
   ],
   "source": [
    "### 변수선언 ###\n",
    "\n",
    "tot = 5\n",
    "tot"
   ]
  },
  {
   "cell_type": "code",
   "execution_count": 7,
   "metadata": {},
   "outputs": [
    {
     "name": "stdout",
     "output_type": "stream",
     "text": [
      "5\n"
     ]
    }
   ],
   "source": [
    "print(tot)"
   ]
  },
  {
   "cell_type": "code",
   "execution_count": 8,
   "metadata": {},
   "outputs": [],
   "source": [
    "### 파이썬 파일 공유하는 법 ###\n",
    "\n",
    "# 인쇄물 형태로 공유; File -> Download as -> Html"
   ]
  },
  {
   "cell_type": "markdown",
   "metadata": {},
   "source": [
    "# Ch01-07 데이터 포맷팅"
   ]
  },
  {
   "cell_type": "code",
   "execution_count": 17,
   "metadata": {},
   "outputs": [
    {
     "name": "stdout",
     "output_type": "stream",
     "text": [
      "tot1의 타입은 <class 'float'>\n",
      "tot1의 타입은  <class 'float'> 입니다.\n",
      "tot1: 3.5\n"
     ]
    }
   ],
   "source": [
    "### 데이터 포맷팅 ###\n",
    "\n",
    "tot1 = 3.5\n",
    "\n",
    "print('tot1의 타입은 ' + str(type(tot1))) # '+'로 연결은 문자열만 가능  \n",
    "print('tot1의 타입은 ', type(tot1), '입니다.') # 파이썬에서는 데이터를 콤마로 연결(*)\n",
    "print('tot1:' , tot1) # 콤마로 연결하면 데이터형이 달라도 연결 가능 "
   ]
  },
  {
   "cell_type": "code",
   "execution_count": 20,
   "metadata": {},
   "outputs": [
    {
     "name": "stdout",
     "output_type": "stream",
     "text": [
      "tot1: 3.50\n",
      "이름: 이상철\n",
      "tot1: 3.50, 이름: 이상철\n"
     ]
    }
   ],
   "source": [
    "### 문자열 포맷코드(*) ###\n",
    "\n",
    "# %s; 문자열\n",
    "# %d; 정수\n",
    "# %f; 부동소수점 ex) 0.3f; 소수점 3자리까지 표기\n",
    "\n",
    "tot1 = 3.5\n",
    "name = '이상철'\n",
    "\n",
    "print('tot1: %0.2f'%tot1)\n",
    "print('이름: %s'% name)\n",
    "print('tot1: %0.2f, 이름: %s'%(tot1, name))"
   ]
  }
 ],
 "metadata": {
  "kernelspec": {
   "display_name": "Python 3",
   "language": "python",
   "name": "python3"
  },
  "language_info": {
   "codemirror_mode": {
    "name": "ipython",
    "version": 3
   },
   "file_extension": ".py",
   "mimetype": "text/x-python",
   "name": "python",
   "nbconvert_exporter": "python",
   "pygments_lexer": "ipython3",
   "version": "3.7.3"
  }
 },
 "nbformat": 4,
 "nbformat_minor": 2
}
