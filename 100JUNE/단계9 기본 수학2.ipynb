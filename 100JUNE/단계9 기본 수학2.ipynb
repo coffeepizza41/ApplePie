{
 "cells": [
  {
   "cell_type": "markdown",
   "metadata": {},
   "source": [
    "# 소인수 분해"
   ]
  },
  {
   "cell_type": "code",
   "execution_count": null,
   "metadata": {},
   "outputs": [],
   "source": []
  },
  {
   "cell_type": "markdown",
   "metadata": {},
   "source": [
    "# 소수 찾기"
   ]
  },
  {
   "cell_type": "code",
   "execution_count": null,
   "metadata": {},
   "outputs": [],
   "source": []
  },
  {
   "cell_type": "markdown",
   "metadata": {},
   "source": [
    "# 소수"
   ]
  },
  {
   "cell_type": "code",
   "execution_count": null,
   "metadata": {},
   "outputs": [],
   "source": []
  },
  {
   "cell_type": "markdown",
   "metadata": {},
   "source": [
    "# 베트르랑 공준"
   ]
  },
  {
   "cell_type": "code",
   "execution_count": null,
   "metadata": {},
   "outputs": [],
   "source": []
  },
  {
   "cell_type": "markdown",
   "metadata": {},
   "source": [
    "# 골드바흐의 추측"
   ]
  },
  {
   "cell_type": "code",
   "execution_count": null,
   "metadata": {},
   "outputs": [],
   "source": []
  },
  {
   "cell_type": "markdown",
   "metadata": {},
   "source": [
    "# 직사각형에서 탈출"
   ]
  },
  {
   "cell_type": "code",
   "execution_count": 8,
   "metadata": {},
   "outputs": [
    {
     "name": "stdout",
     "output_type": "stream",
     "text": [
      "6 2 10 3\n",
      "1\n"
     ]
    }
   ],
   "source": [
    "x, y, w, h = map(int,input().split())\n",
    "d1 = h - y; d2 = y; d3 = x; d4 = w - x\n",
    "print(min(d1,d2,d3,d4))"
   ]
  },
  {
   "cell_type": "markdown",
   "metadata": {},
   "source": [
    "# 네 번째 점"
   ]
  },
  {
   "cell_type": "code",
   "execution_count": 7,
   "metadata": {},
   "outputs": [
    {
     "name": "stdout",
     "output_type": "stream",
     "text": [
      "30 20\n",
      "10 10\n",
      "10 20\n",
      "30 10\n"
     ]
    }
   ],
   "source": [
    "# 축에 평행한 직사각형; x4 = (1번 나온 x값, 1번 나온 y값)\n",
    "\n",
    "x1, y1 = map(int,input().split())\n",
    "x2, y2 = map(int,input().split())\n",
    "x3, y3 = map(int,input().split())\n",
    "\n",
    "x = [x1,x2,x3]\n",
    "y = [y1,y2,y3]\n",
    "\n",
    "for i in x:\n",
    "    if x.count(i) == 1:\n",
    "        x4 = i\n",
    "\n",
    "for j in y:\n",
    "    if y.count(j) == 1:\n",
    "        y4 = j\n",
    "        \n",
    "print(x4, y4)"
   ]
  },
  {
   "cell_type": "markdown",
   "metadata": {},
   "source": [
    "# 직각삼각형"
   ]
  },
  {
   "cell_type": "code",
   "execution_count": 1,
   "metadata": {},
   "outputs": [
    {
     "name": "stdout",
     "output_type": "stream",
     "text": [
      "0 0 0\n"
     ]
    }
   ],
   "source": [
    "# 직각삼각형; a2 + b2 = c2\n",
    "\n",
    "while True:\n",
    "    a,b,c = map(int,input().split())\n",
    "    if a==0 and b==0 and c==0:\n",
    "        break\n",
    "    if a**2+b**2==c**2 or a**2+c**2==b**2 or b**2+c**2==a**2:\n",
    "        print(\"right\")\n",
    "    else:\n",
    "        print(\"wrong\")"
   ]
  },
  {
   "cell_type": "code",
   "execution_count": 3,
   "metadata": {},
   "outputs": [
    {
     "name": "stdout",
     "output_type": "stream",
     "text": [
      "12 5 13\n",
      "right\n",
      "1 3 2\n",
      "wrong\n",
      "0 0 0\n"
     ]
    }
   ],
   "source": [
    "# 다른 풀이\n",
    "\n",
    "while True:\n",
    "    a = list(map(int,input().split()))\n",
    "    a.sort() # sort(); 오름차순 정렬  \n",
    "    if a == [0, 0, 0]:\n",
    "        break  \n",
    "    if a[0]**2 + a[1]**2 == a[2]**2:\n",
    "        print(\"right\")\n",
    "    else:\n",
    "        print(\"wrong\")"
   ]
  },
  {
   "cell_type": "markdown",
   "metadata": {},
   "source": [
    "# 택시 기하학"
   ]
  },
  {
   "cell_type": "code",
   "execution_count": 9,
   "metadata": {},
   "outputs": [
    {
     "name": "stdout",
     "output_type": "stream",
     "text": [
      "42\n",
      "5541.769441\n",
      "3528.000000\n"
     ]
    }
   ],
   "source": [
    "import math\n",
    "\n",
    "r = int(input())\n",
    "u = \"%.6f\" %(math.pi*r**2) # 유클리드 기하학\n",
    "t = \"%.6f\" %(2*r**2) # 택시 기하학\n",
    "\n",
    "print(u)\n",
    "print(t)"
   ]
  },
  {
   "cell_type": "markdown",
   "metadata": {},
   "source": [
    "# 터렛"
   ]
  },
  {
   "cell_type": "code",
   "execution_count": null,
   "metadata": {},
   "outputs": [],
   "source": []
  }
 ],
 "metadata": {
  "kernelspec": {
   "display_name": "Python 3",
   "language": "python",
   "name": "python3"
  },
  "language_info": {
   "codemirror_mode": {
    "name": "ipython",
    "version": 3
   },
   "file_extension": ".py",
   "mimetype": "text/x-python",
   "name": "python",
   "nbconvert_exporter": "python",
   "pygments_lexer": "ipython3",
   "version": "3.7.3"
  }
 },
 "nbformat": 4,
 "nbformat_minor": 2
}
