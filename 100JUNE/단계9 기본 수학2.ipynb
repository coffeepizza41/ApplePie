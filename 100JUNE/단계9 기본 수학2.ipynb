{
 "cells": [
  {
   "cell_type": "markdown",
   "metadata": {},
   "source": [
    "# 소수"
   ]
  },
  {
   "cell_type": "code",
   "execution_count": 15,
   "metadata": {},
   "outputs": [
    {
     "name": "stdout",
     "output_type": "stream",
     "text": [
      "60\n",
      "100\n",
      "620\n",
      "61\n"
     ]
    }
   ],
   "source": [
    "# 시간초과\n",
    "\n",
    "m = int(input())\n",
    "n = int(input())\n",
    "num_list = list(range(m,n+1)) \n",
    "del_list = []\n",
    "\n",
    "for num in range(m,n+1): # 소수 판별\n",
    "    if num == 1: # 1은 소수가 아님\n",
    "        del_list.append(num)\n",
    "    else:\n",
    "        for i in range(2, num): \n",
    "            if num % i == 0:\n",
    "                del_list.append(num)\n",
    "            \n",
    "for i in set(del_list): # 소수가 아닌 수 제거\n",
    "    num_list.remove(i)\n",
    "    \n",
    "if num_list == []: # 소수가 존재하지 않는다면\n",
    "    print(-1)\n",
    "else:\n",
    "    print(sum(num_list))\n",
    "    print(min(num_list))"
   ]
  },
  {
   "cell_type": "code",
   "execution_count": 18,
   "metadata": {},
   "outputs": [
    {
     "name": "stdout",
     "output_type": "stream",
     "text": [
      "1\n",
      "15\n",
      "41\n",
      "2\n"
     ]
    }
   ],
   "source": [
    "# 다른 풀이\n",
    "\n",
    "m = int(input())\n",
    "n = int(input())\n",
    "prime = []\n",
    "\n",
    "for num in range(m,n+1): \n",
    "    if num == 1: \n",
    "        continue\n",
    "    else:\n",
    "        cnt = 0\n",
    "        for i in range(2, num): \n",
    "            if num % i == 0:\n",
    "                cnt += 1\n",
    "        if cnt == 0:\n",
    "            prime.append(num)\n",
    "            \n",
    "if prime == []: \n",
    "    print(-1)\n",
    "else:\n",
    "    print(sum(prime))\n",
    "    print(min(prime))"
   ]
  },
  {
   "cell_type": "markdown",
   "metadata": {},
   "source": [
    "## cf. 소수 판별하기 "
   ]
  },
  {
   "cell_type": "code",
   "execution_count": 10,
   "metadata": {},
   "outputs": [],
   "source": [
    "# 소수; 1과 자기자신 외에 약수가 없는 1보다 큰 자연수\n",
    "\n",
    "def prime(num):\n",
    "    if num != 1: # 1이 아닌 자연수에 대해서\n",
    "        for n in range(2, num): # 1과 자기자신 제외한 수로 나눴을 때\n",
    "            if num % n == 0: # 나누어떨어지는 수가 존재한다면\n",
    "                return False # 소수가 아님\n",
    "    else: # 1은 소수가 아님\n",
    "        return False\n",
    "    \n",
    "    return True # 위에 다 안 걸리면 소수"
   ]
  },
  {
   "cell_type": "markdown",
   "metadata": {},
   "source": [
    "## cf. continue"
   ]
  },
  {
   "cell_type": "code",
   "execution_count": null,
   "metadata": {},
   "outputs": [],
   "source": [
    "# continue; 다시 맨 처음으로 돌아감 \n",
    "\n",
    "marks = [90, 25, 67, 45, 80]\n",
    "\n",
    "number = 0 \n",
    "for mark in marks: \n",
    "    number = number +1 \n",
    "    if mark < 60:\n",
    "        continue # 아무것도 시행하지않고 처음으로 돌아감  \n",
    "    print(\"%d번 학생 축하합니다. 합격입니다. \" % number)"
   ]
  },
  {
   "cell_type": "markdown",
   "metadata": {},
   "source": [
    "# 소수 구하기"
   ]
  },
  {
   "cell_type": "code",
   "execution_count": 26,
   "metadata": {},
   "outputs": [
    {
     "name": "stdout",
     "output_type": "stream",
     "text": [
      "2 56\n",
      "2\n",
      "3\n",
      "5\n",
      "7\n",
      "11\n",
      "13\n",
      "17\n",
      "19\n",
      "23\n",
      "29\n",
      "31\n",
      "37\n",
      "41\n",
      "43\n",
      "47\n",
      "53\n"
     ]
    }
   ],
   "source": [
    "# 시간초과\n",
    "\n",
    "m, n = map(int, input().split())\n",
    "prime = []\n",
    "\n",
    "for num in range(m,n+1):\n",
    "    if num == 1:\n",
    "        continue\n",
    "    else:\n",
    "        cnt = 0\n",
    "        for i in range(2, num):\n",
    "            if num % i == 0:\n",
    "                cnt = 1\n",
    "        if cnt == 0:\n",
    "            print(num)"
   ]
  },
  {
   "cell_type": "code",
   "execution_count": 34,
   "metadata": {},
   "outputs": [
    {
     "name": "stdout",
     "output_type": "stream",
     "text": [
      "3 16\n",
      "3\n",
      "5\n",
      "7\n",
      "11\n",
      "13\n"
     ]
    }
   ],
   "source": [
    "# 다른 풀이 \n",
    "# 시간 절약; 모든 수에 대해서 보지 말고 루트까지만 검사!!!\n",
    "\n",
    "# 소수인지 아닌지 함수\n",
    "import math\n",
    "def isprime(num):\n",
    "    if num == 1: \n",
    "        return False   \n",
    "    for i in range(2, int(math.sqrt(num))+1):\n",
    "        if num % i == 0:\n",
    "            return False\n",
    "    return True\n",
    "\n",
    "# m이상 n이하의 소수 모두 출력\n",
    "m, n = map(int,input().split())\n",
    "for i in range(m, n+1):\n",
    "    if isprime(i): \n",
    "        print(i)"
   ]
  },
  {
   "cell_type": "markdown",
   "metadata": {},
   "source": [
    "# 소수 찾기"
   ]
  },
  {
   "cell_type": "code",
   "execution_count": 37,
   "metadata": {},
   "outputs": [
    {
     "name": "stdout",
     "output_type": "stream",
     "text": [
      "5\n",
      "1 2 3 8 6\n",
      "2\n"
     ]
    }
   ],
   "source": [
    "n = int(input()) \n",
    "nums = list(map(int,input().split()))\n",
    "\n",
    "def isprime(num):\n",
    "    if num == 1:\n",
    "        return False\n",
    "    for i in range(2, int(num**0.5)+1):\n",
    "        if num % i == 0:\n",
    "            return False\n",
    "    return True\n",
    "\n",
    "cnt = 0\n",
    "for i in nums:\n",
    "    if isprime(i):\n",
    "        cnt += 1\n",
    "print(cnt)"
   ]
  },
  {
   "cell_type": "markdown",
   "metadata": {},
   "source": [
    "# 소인수 분해"
   ]
  },
  {
   "cell_type": "code",
   "execution_count": 3,
   "metadata": {},
   "outputs": [
    {
     "name": "stdout",
     "output_type": "stream",
     "text": [
      "9991\n",
      "97\n",
      "103\n"
     ]
    }
   ],
   "source": [
    "n = int(input())\n",
    "i = 2 # 가장 작은 소수 2부터 시작\n",
    "while n != 1:\n",
    "    if n%i == 0: 0: # 2로 충분히 나눠지면 다음 소수로 넘어갈거임\n",
    "        n = n/i\n",
    "        print(i)\n",
    "    else:\n",
    "        i += 1"
   ]
  },
  {
   "cell_type": "markdown",
   "metadata": {},
   "source": [
    "# 베트르랑 공준(*)"
   ]
  },
  {
   "cell_type": "code",
   "execution_count": 8,
   "metadata": {},
   "outputs": [
    {
     "name": "stdout",
     "output_type": "stream",
     "text": [
      "1\n",
      "10\n",
      "13\n",
      "100\n",
      "0\n",
      "1\n",
      "4\n",
      "3\n",
      "21\n"
     ]
    }
   ],
   "source": [
    "# 소수인지 아닌지 함수\n",
    "def isprime(num):\n",
    "    if num == 1:\n",
    "        return False\n",
    "    for i in range(2, int(num**0.5)+1):\n",
    "        if num % i == 0:\n",
    "            return False\n",
    "    return True\n",
    "\n",
    "# n보다 크고 2n보다 작거나 같은 소수의 개수\n",
    "num = []\n",
    "while True:\n",
    "    n = int(input())\n",
    "    if n == 0:\n",
    "        break\n",
    "    num.append(n)\n",
    "    \n",
    "for n in num:\n",
    "    cnt = 0\n",
    "    for i in range(n+1, 2*n+1): # 해당 범위에 존재하는 소수\n",
    "        if isprime(i): cnt += 1\n",
    "    print(cnt)"
   ]
  },
  {
   "cell_type": "markdown",
   "metadata": {},
   "source": [
    "## cf. 에라토스테네스의 체"
   ]
  },
  {
   "cell_type": "code",
   "execution_count": null,
   "metadata": {},
   "outputs": [],
   "source": [
    "import sys\n",
    "import math\n",
    "  \n",
    "limit = 123456\n",
    "\n",
    "eratos = [1] * (2 * limit + 1)\n",
    "eratos[0] = 0\n",
    "eratos[1] = 0\n",
    "\n",
    "for i in range(2, int(math.sqrt(len(eratos)))):\n",
    "    if eratos[i]:\n",
    "        for j in range(i + i, len(eratos), i):\n",
    "            eratos[j] = 0\n",
    "\n",
    "    while True:\n",
    "        n = int(sys.stdin.readline())\n",
    "\n",
    "        if n == 0:\n",
    "            break\n",
    "        else:\n",
    "            print(sum(eratos[n+1:(2*n)+1]))"
   ]
  },
  {
   "cell_type": "markdown",
   "metadata": {},
   "source": [
    "# 골드바흐의 추측(*)"
   ]
  },
  {
   "cell_type": "code",
   "execution_count": 2,
   "metadata": {},
   "outputs": [
    {
     "name": "stdout",
     "output_type": "stream",
     "text": [
      "2\n",
      "1\n",
      "2\n",
      "[1, 2]\n"
     ]
    }
   ],
   "source": [
    "# 골드바흐의 추측; 2보다 큰 모든 짝수는 두 소수의 합으로 표현 가능\n",
    "# 골드바흐 파티션; 4=2+2, 6=3+3 등의 표현 \n",
    "\n",
    "# 에라토스테네스의 체로 소수 판별\n",
    "prime = [0 for i in range(10001)]\n",
    "prime[1] = 1\n",
    "for i in range(2, 98):\n",
    "    for j in range(i * 2, 10001, i):\n",
    "        prime[j] = 1\n",
    "        \n",
    "# 두 소수의 합이 n + 그 차이가 가장 작은 경우; 입력값에 2를 나눈 몫부터 시작\n",
    "t = int(input())\n",
    "for i in range(t):\n",
    "    a = int(input())\n",
    "    b = a // 2\n",
    "    for j in range(b, 1, -1):\n",
    "        if prime[a - j] == 0 and prime[j] == 0:\n",
    "            print(j, a - j)\n",
    "            break"
   ]
  },
  {
   "cell_type": "markdown",
   "metadata": {},
   "source": [
    "# 직사각형에서 탈출"
   ]
  },
  {
   "cell_type": "code",
   "execution_count": 8,
   "metadata": {},
   "outputs": [
    {
     "name": "stdout",
     "output_type": "stream",
     "text": [
      "6 2 10 3\n",
      "1\n"
     ]
    }
   ],
   "source": [
    "x, y, w, h = map(int,input().split())\n",
    "d1 = h - y; d2 = y; d3 = x; d4 = w - x\n",
    "print(min(d1,d2,d3,d4))"
   ]
  },
  {
   "cell_type": "markdown",
   "metadata": {},
   "source": [
    "# 네 번째 점"
   ]
  },
  {
   "cell_type": "code",
   "execution_count": 7,
   "metadata": {},
   "outputs": [
    {
     "name": "stdout",
     "output_type": "stream",
     "text": [
      "30 20\n",
      "10 10\n",
      "10 20\n",
      "30 10\n"
     ]
    }
   ],
   "source": [
    "# 축에 평행한 직사각형; x4 = (1번 나온 x값, 1번 나온 y값)\n",
    "\n",
    "x1, y1 = map(int,input().split())\n",
    "x2, y2 = map(int,input().split())\n",
    "x3, y3 = map(int,input().split())\n",
    "\n",
    "x = [x1,x2,x3]\n",
    "y = [y1,y2,y3]\n",
    "\n",
    "for i in x:\n",
    "    if x.count(i) == 1:\n",
    "        x4 = i\n",
    "\n",
    "for j in y:\n",
    "    if y.count(j) == 1:\n",
    "        y4 = j\n",
    "        \n",
    "print(x4, y4)"
   ]
  },
  {
   "cell_type": "markdown",
   "metadata": {},
   "source": [
    "# 직각삼각형"
   ]
  },
  {
   "cell_type": "code",
   "execution_count": 1,
   "metadata": {},
   "outputs": [
    {
     "name": "stdout",
     "output_type": "stream",
     "text": [
      "0 0 0\n"
     ]
    }
   ],
   "source": [
    "# 직각삼각형; a2 + b2 = c2\n",
    "\n",
    "while True:\n",
    "    a,b,c = map(int,input().split())\n",
    "    if a==0 and b==0 and c==0:\n",
    "        break\n",
    "    if a**2+b**2==c**2 or a**2+c**2==b**2 or b**2+c**2==a**2:\n",
    "        print(\"right\")\n",
    "    else:\n",
    "        print(\"wrong\")"
   ]
  },
  {
   "cell_type": "code",
   "execution_count": 3,
   "metadata": {},
   "outputs": [
    {
     "name": "stdout",
     "output_type": "stream",
     "text": [
      "12 5 13\n",
      "right\n",
      "1 3 2\n",
      "wrong\n",
      "0 0 0\n"
     ]
    }
   ],
   "source": [
    "# 다른 풀이\n",
    "\n",
    "while True:\n",
    "    a = list(map(int,input().split()))\n",
    "    a.sort() # sort(); 오름차순 정렬  \n",
    "    if a == [0, 0, 0]:\n",
    "        break  \n",
    "    if a[0]**2 + a[1]**2 == a[2]**2:\n",
    "        print(\"right\")\n",
    "    else:\n",
    "        print(\"wrong\")"
   ]
  },
  {
   "cell_type": "markdown",
   "metadata": {},
   "source": [
    "# 택시 기하학"
   ]
  },
  {
   "cell_type": "code",
   "execution_count": 9,
   "metadata": {},
   "outputs": [
    {
     "name": "stdout",
     "output_type": "stream",
     "text": [
      "42\n",
      "5541.769441\n",
      "3528.000000\n"
     ]
    }
   ],
   "source": [
    "import math\n",
    "\n",
    "r = int(input())\n",
    "u = \"%.6f\" %(math.pi*r**2) # 유클리드 기하학\n",
    "t = \"%.6f\" %(2*r**2) # 택시 기하학\n",
    "\n",
    "print(u)\n",
    "print(t)"
   ]
  },
  {
   "cell_type": "markdown",
   "metadata": {},
   "source": [
    "# 터렛"
   ]
  },
  {
   "cell_type": "code",
   "execution_count": 10,
   "metadata": {},
   "outputs": [
    {
     "name": "stdout",
     "output_type": "stream",
     "text": [
      "3\n",
      "0 0 13 40 0 37\n",
      "2\n",
      "0 0 3 0 7 4\n",
      "1\n",
      "1 1 1 1 1 5\n",
      "0\n"
     ]
    }
   ],
   "source": [
    "# 조규현의 좌표; (x1,y1), 조~류 거리; r1\n",
    "# 백승환의 좌표; (x2,y2), 백~류 거리; r2\n",
    "# 류재명이 있을 수 있는 좌표의 수 = 두 원의 교점의 수\n",
    "\n",
    "import math\n",
    "\n",
    "def distance(a,b,c,d): # 두 점 사이의 거리를 구해주는 함수\n",
    "    res = math.sqrt((a-c)**2+(b-d)**2)\n",
    "    return res\n",
    "\n",
    "t = int(input())\n",
    "for i in range(t):\n",
    "    x1, y1, r1, x2, y2, r2 = map(int, input().split())\n",
    "    if x1==x2 and y1 == y2 and r1 == r2: # 교점이 무한대\n",
    "        print(-1)\n",
    "    else: # 각 케이스 별로 나누기\n",
    "        d = distance(x1, y1, x2, y2)\n",
    "        if d > r1 + r2 or d < max(r1,r2) - min(r1,r2): \n",
    "            print(0) # 교점 0개\n",
    "        elif d == r1 + r2 or d == max(r1,r2)-min(r1,r2): \n",
    "            print(1) # 교점 1개\n",
    "        elif d < r1 + r2:\n",
    "            print(2) # 교점 2개\n",
    "            \n",
    "# cf. max(r1,r2) - min(r1,r2) = abs(r1-r2)     "
   ]
  }
 ],
 "metadata": {
  "kernelspec": {
   "display_name": "Python 3",
   "language": "python",
   "name": "python3"
  },
  "language_info": {
   "codemirror_mode": {
    "name": "ipython",
    "version": 3
   },
   "file_extension": ".py",
   "mimetype": "text/x-python",
   "name": "python",
   "nbconvert_exporter": "python",
   "pygments_lexer": "ipython3",
   "version": "3.7.3"
  }
 },
 "nbformat": 4,
 "nbformat_minor": 2
}
