{
 "cells": [
  {
   "cell_type": "markdown",
   "metadata": {},
   "source": [
    "# Hello World"
   ]
  },
  {
   "cell_type": "code",
   "execution_count": 2,
   "metadata": {},
   "outputs": [
    {
     "name": "stdout",
     "output_type": "stream",
     "text": [
      "Hello World!\n"
     ]
    }
   ],
   "source": [
    "print(\"Hello World!\")"
   ]
  },
  {
   "cell_type": "markdown",
   "metadata": {},
   "source": [
    "# We love kriii"
   ]
  },
  {
   "cell_type": "code",
   "execution_count": 5,
   "metadata": {},
   "outputs": [
    {
     "name": "stdout",
     "output_type": "stream",
     "text": [
      "강한친구 대한육군\n",
      "강한친구 대한육군\n"
     ]
    }
   ],
   "source": [
    "print(\"강한친구 대한육군\\n강한친구 대한육군\")"
   ]
  },
  {
   "cell_type": "markdown",
   "metadata": {},
   "source": [
    "# 개"
   ]
  },
  {
   "cell_type": "code",
   "execution_count": 26,
   "metadata": {},
   "outputs": [
    {
     "name": "stdout",
     "output_type": "stream",
     "text": [
      "|\\_/|\n",
      "|q p|   /}\n",
      "( 0 )\"\"\"\\\n",
      "|\"^\"`    |\n",
      "||_/=\\\\__|\n"
     ]
    }
   ],
   "source": [
    "print(\"|\\\\_/|\")\n",
    "print(\"|q p|   /}\")\n",
    "print(\"( 0 )\\\"\\\"\\\"\\\\\")\n",
    "print(\"|\\\"^\\\"`    |\")\n",
    "print(\"||_/=\\\\\\\\__|\")"
   ]
  },
  {
   "cell_type": "markdown",
   "metadata": {},
   "source": [
    "# 고양이"
   ]
  },
  {
   "cell_type": "code",
   "execution_count": 32,
   "metadata": {},
   "outputs": [
    {
     "name": "stdout",
     "output_type": "stream",
     "text": [
      "\\    /\\\n",
      " )  ( ')\n",
      "(  /  )\n",
      " \\(__)|\n"
     ]
    }
   ],
   "source": [
    "print(\"\\\\    /\\\\\")\n",
    "print(\" )  ( ')\")\n",
    "print(\"(  /  )\")\n",
    "print(\" \\\\(__)|\")"
   ]
  },
  {
   "cell_type": "markdown",
   "metadata": {},
   "source": [
    "# A+B"
   ]
  },
  {
   "cell_type": "code",
   "execution_count": 59,
   "metadata": {},
   "outputs": [
    {
     "name": "stdout",
     "output_type": "stream",
     "text": [
      "1 2\n",
      "3\n"
     ]
    }
   ],
   "source": [
    "A,B=map(int,input().split()) # 사용자 입력(input)을 공백을 기준으로 쪼갬(.split())\n",
    "                             # 쪼개진 각각에 대해서 정수로 변환(int) 후 A,B에 저장\n",
    "print(A+B)"
   ]
  },
  {
   "cell_type": "markdown",
   "metadata": {},
   "source": [
    "## cf. map"
   ]
  },
  {
   "cell_type": "code",
   "execution_count": 51,
   "metadata": {},
   "outputs": [
    {
     "name": "stdout",
     "output_type": "stream",
     "text": [
      "[2, 3, 4, 5, 6]\n",
      "<map object at 0x00000229E467C5C0>\n",
      "[2, 3, 4, 5, 6]\n",
      "[2, 3, 4, 5, 6]\n"
     ]
    }
   ],
   "source": [
    "# map; 반복가능한(iterable) 객체를 받아서 각 요소에 함수를 적용하는 함수\n",
    "# map(적용할 함수, 적용할 요소)\n",
    "\n",
    "# 예제; 주어진 값에 1씩 더하기\n",
    "\n",
    "# 1. map을 사용하지 않을 경우\n",
    "def add_1(n): # 1씩 더하는 함수 정의\n",
    "    return n+1\n",
    "\n",
    "target=[1,2,3,4,5]\n",
    "res1=[] \n",
    "\n",
    "for i in target: # target의 각 값마다\n",
    "    res1.append(add_1(i)) # 함수를 적용해서 리스트에 추가\n",
    "    \n",
    "print(res1)    \n",
    "    \n",
    "# 2. map을 사용할 경우\n",
    "res2=map(add_1,target) # target의 각 요소마다 add_1 함수 적용\n",
    "\n",
    "print(res2) # map의 결과는 iterator이기 때문에 바로 확인 불가\n",
    "print(list(res2)) # 리스트 타입으로 변환 후 결과 확인\n",
    "\n",
    "# 3. lambda 이용\n",
    "res3=map(lambda x:x+1, target) # 간단한 함수는 lambda 이용\n",
    "\n",
    "print(list(res3))"
   ]
  },
  {
   "cell_type": "markdown",
   "metadata": {},
   "source": [
    "## cf. filter"
   ]
  },
  {
   "cell_type": "code",
   "execution_count": 54,
   "metadata": {},
   "outputs": [
    {
     "name": "stdout",
     "output_type": "stream",
     "text": [
      "[2, 4, 6, 8, 10]\n",
      "[2, 4, 6, 8, 10]\n",
      "[2, 4, 6, 8, 10]\n"
     ]
    }
   ],
   "source": [
    "# filter; 특정 조건으로 걸러진 요소들로 iterator 객체를 만들어서 리턴\n",
    "# filter(적용할 함수, 적용할 요소)\n",
    "\n",
    "# 예제; 주어진 값 중 짝수만 고르기\n",
    "\n",
    "# 1. filter를 사용하지 않을 경우\n",
    "def is_even(n): # 짝수면 True 홀수면 False\n",
    "    return True if n%2==0 else False # cf. %; 나머지, //; 몫\n",
    "\n",
    "target=[1,2,3,4,5,6,7,8,9,10]\n",
    "res1=[]\n",
    "\n",
    "for i in target:\n",
    "    if is_even(i): # 만약 짝수라면 \n",
    "        res1.append(i) # 리스트에 추가\n",
    "        \n",
    "print(res1)\n",
    "\n",
    "# 2. filter를 사용할 경우\n",
    "res2=filter(is_even,target)\n",
    "print(list(res2))\n",
    "\n",
    "# 3. lambda 이용\n",
    "res3=filter(lambda x:x%2==0,target)\n",
    "print(list(res3))"
   ]
  },
  {
   "cell_type": "markdown",
   "metadata": {},
   "source": [
    "## cf. split"
   ]
  },
  {
   "cell_type": "code",
   "execution_count": 58,
   "metadata": {},
   "outputs": [
    {
     "data": {
      "text/plain": [
       "['a', 'b', 'c', 'd']"
      ]
     },
     "execution_count": 58,
     "metadata": {},
     "output_type": "execute_result"
    }
   ],
   "source": [
    "# split; 문자열을 쪼개는 함수\n",
    "# str.split(); 디폴트 공백을 기준으로 문자열을 쪼갬\n",
    "# str.split(\",\"); 괄호 안의 구분자를 기준으로 문자열을 쪼갬\n",
    "\n",
    "# 예제\n",
    "\n",
    "# 1\n",
    "a = \"Life is too short\"\n",
    "a.split() # 괄호 안에 아무것도 없음; 디폴트 공백을 기준으로 쪼개기\n",
    "\n",
    "# 2\n",
    "b = \"a:b:c:d\"\n",
    "b.split(\":\") # 괄호 안의 \":\"을 기준으로 쪼개기"
   ]
  },
  {
   "cell_type": "markdown",
   "metadata": {},
   "source": [
    "# A-B"
   ]
  },
  {
   "cell_type": "code",
   "execution_count": 61,
   "metadata": {},
   "outputs": [
    {
     "name": "stdout",
     "output_type": "stream",
     "text": [
      "3 2\n",
      "1\n"
     ]
    }
   ],
   "source": [
    "A,B=input().split()\n",
    "print(int(A)-int(B))"
   ]
  },
  {
   "cell_type": "markdown",
   "metadata": {},
   "source": [
    "# A*B"
   ]
  },
  {
   "cell_type": "code",
   "execution_count": 64,
   "metadata": {},
   "outputs": [
    {
     "name": "stdout",
     "output_type": "stream",
     "text": [
      "3 4\n",
      "12\n"
     ]
    }
   ],
   "source": [
    "A,B=input().split()\n",
    "print(int(A)*int(B))"
   ]
  },
  {
   "cell_type": "markdown",
   "metadata": {},
   "source": [
    "# A/B"
   ]
  },
  {
   "cell_type": "code",
   "execution_count": 63,
   "metadata": {},
   "outputs": [
    {
     "name": "stdout",
     "output_type": "stream",
     "text": [
      "1 3\n",
      "0.3333333333333333\n"
     ]
    }
   ],
   "source": [
    "A,B=input().split()\n",
    "print(int(A)/int(B))"
   ]
  },
  {
   "cell_type": "markdown",
   "metadata": {},
   "source": [
    "# 사칙연산"
   ]
  },
  {
   "cell_type": "code",
   "execution_count": 46,
   "metadata": {},
   "outputs": [
    {
     "name": "stdout",
     "output_type": "stream",
     "text": [
      "7 3\n",
      "10\n",
      "4\n",
      "21\n",
      "2.3333333333333335\n",
      "2\n",
      "1\n",
      "343\n"
     ]
    }
   ],
   "source": [
    "A,B=map(int,input().split())\n",
    "\n",
    "print(A+B) # 더하기\n",
    "print(A-B) # 빼기\n",
    "print(A*B) # 곱하기\n",
    "print(A/B) # 나누기\n",
    "print(A//B) # 몫\n",
    "print(A%B) # 나머지\n",
    "print(A**B) # 제곱"
   ]
  },
  {
   "cell_type": "markdown",
   "metadata": {},
   "source": [
    "# 곱셈(*)"
   ]
  },
  {
   "cell_type": "code",
   "execution_count": 32,
   "metadata": {},
   "outputs": [
    {
     "name": "stdout",
     "output_type": "stream",
     "text": [
      "472\n",
      "385\n"
     ]
    }
   ],
   "source": [
    "# 1. 먼저 세 자리 수 2개를 입력받기\n",
    "\n",
    "a=input()\n",
    "b=input()"
   ]
  },
  {
   "cell_type": "code",
   "execution_count": 33,
   "metadata": {},
   "outputs": [],
   "source": [
    "# 2. 입력받은 세 자리 수를 쪼개기 by 리스트\n",
    "\n",
    "l2=[]\n",
    "for i in b:\n",
    "    l2.append(i)"
   ]
  },
  {
   "cell_type": "code",
   "execution_count": 34,
   "metadata": {},
   "outputs": [
    {
     "name": "stdout",
     "output_type": "stream",
     "text": [
      "2360\n",
      "3776\n",
      "1416\n",
      "181720\n"
     ]
    }
   ],
   "source": [
    "# 3. (1)*(2)의 각 자리수 = (3), (4), (5)\n",
    "\n",
    "l3 = int(a)*int(l2[2])    \n",
    "l4 = int(a)*int(l2[1])\n",
    "l5 = int(a)*int(l2[0])\n",
    "l6 = l3 + l4*10 + l5*100 # cf. 100=10**2\n",
    "\n",
    "print(l3)\n",
    "print(l4)\n",
    "print(l5)\n",
    "print(l6)"
   ]
  },
  {
   "cell_type": "code",
   "execution_count": 54,
   "metadata": {},
   "outputs": [
    {
     "name": "stdout",
     "output_type": "stream",
     "text": [
      "472\n",
      "385\n",
      "472\n",
      "[3, 8, 5]\n",
      "2360\n",
      "3776\n",
      "1416\n",
      "181720\n"
     ]
    }
   ],
   "source": [
    "# 다른 풀이\n",
    "\n",
    "a = int(input())\n",
    "b = list(map(int,list(input()))) # 1. 입력받은 값(str)을 리스트 형식으로 변환 \n",
    "                                 # 2. 리스트의 각 요소를 정수(int)로 변환\n",
    "                                 # 3. 위 결과는 map의 결과이므로 리스트로 다시 변환 \n",
    "print(a) # (1); 472\n",
    "print(b) # (2); [3, 8, 5]         \n",
    "\n",
    "\n",
    "for i in range(3): # range(3) = 0부터 시작, (3-1)=2까지 반복 \n",
    "    print(a*b[2-i]) # (3)~(5)\n",
    "\n",
    "print(a*(100*b[0]+10*b[1]+b[2])) # (6)     "
   ]
  },
  {
   "cell_type": "markdown",
   "metadata": {},
   "source": [
    "# 나머지"
   ]
  },
  {
   "cell_type": "code",
   "execution_count": 40,
   "metadata": {},
   "outputs": [
    {
     "name": "stdout",
     "output_type": "stream",
     "text": [
      "5 8 4\n"
     ]
    }
   ],
   "source": [
    "# 1. 입력; 첫째 줄에 A, B, C\n",
    "\n",
    "A,B,C=map(int,input().split())"
   ]
  },
  {
   "cell_type": "code",
   "execution_count": 43,
   "metadata": {},
   "outputs": [
    {
     "name": "stdout",
     "output_type": "stream",
     "text": [
      "1\n",
      "1\n",
      "0\n",
      "0\n"
     ]
    }
   ],
   "source": [
    "# 2. 출력\n",
    "\n",
    "# (1) (A+B)%C\n",
    "print((A+B)%C)\n",
    "\n",
    "# (2) ((A%C) + (B%C))%C\n",
    "print(((A%C) + (B%C))%C)\n",
    "\n",
    "# (3) (A×B)%C\n",
    "print((A*B)%C)\n",
    "\n",
    "# (4) ((A%C) × (B%C))%C\n",
    "print(((A%C) * (B%C))%C)"
   ]
  }
 ],
 "metadata": {
  "kernelspec": {
   "display_name": "Python 3",
   "language": "python",
   "name": "python3"
  },
  "language_info": {
   "codemirror_mode": {
    "name": "ipython",
    "version": 3
   },
   "file_extension": ".py",
   "mimetype": "text/x-python",
   "name": "python",
   "nbconvert_exporter": "python",
   "pygments_lexer": "ipython3",
   "version": "3.7.3"
  }
 },
 "nbformat": 4,
 "nbformat_minor": 2
}
