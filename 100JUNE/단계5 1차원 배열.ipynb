{
 "cells": [
  {
   "cell_type": "markdown",
   "metadata": {},
   "source": [
    "# 최대, 최소"
   ]
  },
  {
   "cell_type": "code",
   "execution_count": 18,
   "metadata": {},
   "outputs": [
    {
     "name": "stdout",
     "output_type": "stream",
     "text": [
      "3\n",
      "1 2 3\n",
      "1 3\n"
     ]
    }
   ],
   "source": [
    "n = int(input())\n",
    "a = map(int,input().split())\n",
    "a = list(a)\n",
    "\n",
    "print(min(a), max(a))    "
   ]
  },
  {
   "cell_type": "code",
   "execution_count": 20,
   "metadata": {},
   "outputs": [
    {
     "name": "stdout",
     "output_type": "stream",
     "text": [
      "3\n",
      "1 5 9\n",
      "1 9\n"
     ]
    }
   ],
   "source": [
    "# 다른 풀이; 코드로 구현\n",
    "\n",
    "n = int(input())\n",
    "a = map(int,input().split())\n",
    "a = list(a)\n",
    "\n",
    "m=1000; M=-1000\n",
    "for i in a:\n",
    "    if i >= M:\n",
    "        M = i\n",
    "    if i <= m:\n",
    "        m = i\n",
    "        \n",
    "print(m, M)"
   ]
  },
  {
   "cell_type": "markdown",
   "metadata": {},
   "source": [
    "# 최대값"
   ]
  },
  {
   "cell_type": "code",
   "execution_count": 22,
   "metadata": {},
   "outputs": [
    {
     "name": "stdout",
     "output_type": "stream",
     "text": [
      "3\n",
      "29\n",
      "38\n",
      "12\n",
      "57\n",
      "74\n",
      "40\n",
      "85\n",
      "61\n",
      "85\n",
      "8\n",
      "85\n",
      "8\n",
      "85\n",
      "8\n",
      "85\n",
      "8\n",
      "85\n",
      "8\n",
      "85\n",
      "8\n",
      "85\n",
      "8\n",
      "85\n",
      "8\n",
      "85\n",
      "8\n"
     ]
    }
   ],
   "source": [
    "# 1. 1 ~ 9번째 줄에 자연수 입력\n",
    "n = []\n",
    "for i in range(9):\n",
    "    n.append(int(input()))\n",
    "\n",
    "M=max(n)\n",
    "print(M)\n",
    "print(n.index(M)+1) # index(); 리스트 요소의 인덱스 반환"
   ]
  },
  {
   "cell_type": "markdown",
   "metadata": {},
   "source": [
    "# 숫자의 개수"
   ]
  },
  {
   "cell_type": "code",
   "execution_count": 14,
   "metadata": {},
   "outputs": [
    {
     "name": "stdout",
     "output_type": "stream",
     "text": [
      "1\n",
      "2\n",
      "3\n",
      "0\n",
      "0\n",
      "0\n",
      "0\n",
      "0\n",
      "0\n",
      "1\n",
      "0\n",
      "0\n",
      "0\n"
     ]
    }
   ],
   "source": [
    "# 딕셔너리 이용\n",
    "\n",
    "a = int(input())\n",
    "b = int(input())\n",
    "c = int(input())\n",
    "\n",
    "abc = str(a*b*c)\n",
    "dic = {}\n",
    "for i in abc:\n",
    "    if i in dic:\n",
    "        dic[i] += 1\n",
    "    else:\n",
    "        dic[i] = 1\n",
    "\n",
    "for i in range(10):\n",
    "    if str(i) in dic:\n",
    "        print(dic[str(i)])\n",
    "    else:\n",
    "        print(\"0\")"
   ]
  },
  {
   "cell_type": "code",
   "execution_count": 17,
   "metadata": {},
   "outputs": [
    {
     "name": "stdout",
     "output_type": "stream",
     "text": [
      "150\n",
      "427\n",
      "266\n",
      "[1, 7, 0, 3, 7, 3, 0, 0]\n",
      "3\n",
      "1\n",
      "0\n",
      "2\n",
      "0\n",
      "0\n",
      "0\n",
      "2\n",
      "0\n",
      "0\n"
     ]
    }
   ],
   "source": [
    "# 다른 풀이; 리스트 이용\n",
    "\n",
    "a = int(input())\n",
    "b = int(input())\n",
    "c = int(input())\n",
    "\n",
    "d = list(map(int,str(a*b*c))) # 문자열 자료형; iterable\n",
    "print(d)\n",
    "\n",
    "for i in range(10):\n",
    "    print(d.count(i)) # count(); 리스트 요소의 개수 count"
   ]
  },
  {
   "cell_type": "markdown",
   "metadata": {},
   "source": [
    "# 나머지"
   ]
  },
  {
   "cell_type": "code",
   "execution_count": 57,
   "metadata": {},
   "outputs": [
    {
     "name": "stdout",
     "output_type": "stream",
     "text": [
      "39\n",
      "40\n",
      "41\n",
      "42\n",
      "43\n",
      "44\n",
      "82\n",
      "83\n",
      "84\n",
      "85\n",
      "6\n"
     ]
    }
   ],
   "source": [
    "# 1. 숫자 10개 입력받기\n",
    "\n",
    "x = []\n",
    "for i in range(10):\n",
    "    x.append(int(input()))\n",
    "    \n",
    "# 2. 42로 나눈 나머지 구하기\n",
    "\n",
    "div = []\n",
    "for i in x:\n",
    "    div.append(i%42)  \n",
    "    \n",
    "# 3. 서로 다른 값이 몇 개 있는지\n",
    "\n",
    "print(len(set(div))) # 집합; 중복 없음 "
   ]
  },
  {
   "cell_type": "markdown",
   "metadata": {},
   "source": [
    "## cf. 집합 자료형"
   ]
  },
  {
   "cell_type": "code",
   "execution_count": 53,
   "metadata": {},
   "outputs": [
    {
     "data": {
      "text/plain": [
       "4"
      ]
     },
     "execution_count": 53,
     "metadata": {},
     "output_type": "execute_result"
    }
   ],
   "source": [
    "# 집합(set); 중복 불가능, 순서 X\n",
    "\n",
    "s = set() # 빈 집합 만들기\n",
    "s = set([1,2,3]) # {1,2,3}\n",
    "s = set(\"Hello\") # {H,e,l,o}"
   ]
  },
  {
   "cell_type": "markdown",
   "metadata": {},
   "source": [
    "# 평균"
   ]
  },
  {
   "cell_type": "code",
   "execution_count": 15,
   "metadata": {},
   "outputs": [
    {
     "name": "stdout",
     "output_type": "stream",
     "text": [
      "4\n",
      "1 100 100 100\n",
      "75.25\n"
     ]
    }
   ],
   "source": [
    "n = int(input()) # 시험 본 과목의 개수\n",
    "score = list(map(int,input().split())) # 현재 성적\n",
    "\n",
    "M = max(score) # 점수 중 최대값 고르기\n",
    "score2 = list(map(lambda x: x/M*100, score)) # 최대값을 이용해 점수 고치기\n",
    "avg = sum(score2)/n # 새로운 평균\n",
    "print(\"%.2f\" %avg) # 소수점 둘째자리까지 출력 "
   ]
  },
  {
   "cell_type": "markdown",
   "metadata": {},
   "source": [
    "##  cf. 문자열 포맷팅"
   ]
  },
  {
   "cell_type": "code",
   "execution_count": 25,
   "metadata": {},
   "outputs": [
    {
     "data": {
      "text/plain": [
       "'Error is 95%'"
      ]
     },
     "execution_count": 25,
     "metadata": {},
     "output_type": "execute_result"
    }
   ],
   "source": [
    "# %s: 문자열(String)\n",
    "\"I was a %s\" % \"student\" \n",
    "\n",
    "# %c: 문자열 1개(Character)\n",
    "\"I was %c student\" % \"a\"\n",
    "\n",
    "# %d: 정수(Integer)\n",
    "\"Error is %d\" % 95 \n",
    "\n",
    "# %f: 실수(Float)\n",
    "\"Error is %f\" % 95\n",
    "\n",
    "# %.f: 소수점 자리 명시\n",
    "\"Error is %.2f\" % 95\n",
    "\n",
    "# %; % 문자 자체\n",
    "\"Error is %.f%%\" % 95"
   ]
  },
  {
   "cell_type": "markdown",
   "metadata": {},
   "source": [
    "# 평균은 넘겠지"
   ]
  },
  {
   "cell_type": "code",
   "execution_count": 55,
   "metadata": {},
   "outputs": [
    {
     "name": "stdout",
     "output_type": "stream",
     "text": [
      "5\n",
      "5 50 50 70 80 100\n",
      "7 100 95 90 80 70 60 50\n",
      "3 70 90 80 \n",
      "3 70 90 81\n",
      "3 20 40 50\n",
      "40.000%\n",
      "57.143%\n",
      "33.333%\n",
      "66.667%\n",
      "66.667%\n"
     ]
    }
   ],
   "source": [
    "t = int(input())\n",
    "test = []\n",
    "\n",
    "for i in range(t):\n",
    "    test.append(input().split())\n",
    "    \n",
    "for c in test:\n",
    "    c = list(map(int, c)) # 모든 요소들을 정수로 변환\n",
    "    n = c.pop(0) # 학생수\n",
    "    avg = sum(c)/n # 평균\n",
    "    cnt = 0\n",
    "    for i in c: # 현재 c에는 점수만 들어있음\n",
    "        if i > avg:\n",
    "            cnt += 1\n",
    "    print(\"%.3f%%\" % (cnt/n*100))"
   ]
  },
  {
   "cell_type": "markdown",
   "metadata": {},
   "source": [
    "## cf. remove()"
   ]
  },
  {
   "cell_type": "code",
   "execution_count": 29,
   "metadata": {},
   "outputs": [
    {
     "data": {
      "text/plain": [
       "[2, 3, 4, 5]"
      ]
     },
     "execution_count": 29,
     "metadata": {},
     "output_type": "execute_result"
    }
   ],
   "source": [
    "# remove(제거할 요소); 리스트 요소 제거 \n",
    "# 요소!!!\n",
    "\n",
    "a = [1,2,3,4,5]\n",
    "a.remove(a[0]) # a의 첫번째 요소 제거\n",
    "print(a)"
   ]
  },
  {
   "cell_type": "markdown",
   "metadata": {},
   "source": [
    "## cf. pop()"
   ]
  },
  {
   "cell_type": "code",
   "execution_count": 45,
   "metadata": {
    "scrolled": true
   },
   "outputs": [
    {
     "name": "stdout",
     "output_type": "stream",
     "text": [
      "[1, 2, 4, 5] 3\n"
     ]
    }
   ],
   "source": [
    "# pop(뽑을 인덱스); 리스트 요소 뽑아내기\n",
    "# 인덱스!!!\n",
    "\n",
    "a = [1,2,3,4,5]\n",
    "b = a.pop(0) \n",
    "print(a, b)"
   ]
  },
  {
   "cell_type": "markdown",
   "metadata": {},
   "source": [
    "# OX퀴즈(*)"
   ]
  },
  {
   "cell_type": "code",
   "execution_count": 10,
   "metadata": {},
   "outputs": [
    {
     "name": "stdout",
     "output_type": "stream",
     "text": [
      "5\n",
      "OOXXOXXOOO\n",
      "OOXXOOXXOO\n",
      "OXOXOXOXOXOXOX\n",
      "OOOOOOOOOO\n",
      "OOOOXOOOOXOOOOX\n",
      "10\n",
      "9\n",
      "7\n",
      "55\n",
      "30\n"
     ]
    }
   ],
   "source": [
    "t = int(input())\n",
    "test = []\n",
    "\n",
    "for i in range(t):\n",
    "    test.append(input())\n",
    "    \n",
    "for case in test:\n",
    "    score = 0\n",
    "    cnt = 1\n",
    "    for j in case:\n",
    "        if j == \"O\":\n",
    "            score += cnt\n",
    "            cnt += 1\n",
    "        else:\n",
    "            cnt = 1\n",
    "    print(score)"
   ]
  }
 ],
 "metadata": {
  "kernelspec": {
   "display_name": "Python 3",
   "language": "python",
   "name": "python3"
  },
  "language_info": {
   "codemirror_mode": {
    "name": "ipython",
    "version": 3
   },
   "file_extension": ".py",
   "mimetype": "text/x-python",
   "name": "python",
   "nbconvert_exporter": "python",
   "pygments_lexer": "ipython3",
   "version": "3.7.3"
  }
 },
 "nbformat": 4,
 "nbformat_minor": 2
}
