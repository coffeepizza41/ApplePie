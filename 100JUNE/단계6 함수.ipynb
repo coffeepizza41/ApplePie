{
 "cells": [
  {
   "cell_type": "markdown",
   "metadata": {},
   "source": [
    "# 정수 N개의 합"
   ]
  },
  {
   "cell_type": "code",
   "execution_count": 8,
   "metadata": {},
   "outputs": [
    {
     "data": {
      "text/plain": [
       "15"
      ]
     },
     "execution_count": 8,
     "metadata": {},
     "output_type": "execute_result"
    }
   ],
   "source": [
    "# 풀이\n",
    "a = [1,2,3,4,5]\n",
    "def solve(li):\n",
    "    return(sum(li))\n",
    "\n",
    "solve(a)\n",
    "\n",
    "# cf. 입력값의 개수를 모를 때\n",
    "def addn(*n): \n",
    "    res = 0\n",
    "    for i in n:\n",
    "        res += i\n",
    "    return res\n",
    "        \n",
    "addn(1,2,3)"
   ]
  },
  {
   "cell_type": "markdown",
   "metadata": {},
   "source": [
    "# 셀프 넘버"
   ]
  },
  {
   "cell_type": "code",
   "execution_count": null,
   "metadata": {},
   "outputs": [],
   "source": [
    "# d(33) = 33+3+3 = 39 \n",
    "# d(39) = 39+3+9 = 51\n",
    "# 이때, 33을 39의 생성자, 39를 51의 생성자라고 함\n",
    "# 셀프넘버; 생성자가 없는 수 \n",
    "\n"
   ]
  },
  {
   "cell_type": "markdown",
   "metadata": {},
   "source": [
    "# 한수"
   ]
  },
  {
   "cell_type": "code",
   "execution_count": null,
   "metadata": {},
   "outputs": [],
   "source": []
  }
 ],
 "metadata": {
  "kernelspec": {
   "display_name": "Python 3",
   "language": "python",
   "name": "python3"
  },
  "language_info": {
   "codemirror_mode": {
    "name": "ipython",
    "version": 3
   },
   "file_extension": ".py",
   "mimetype": "text/x-python",
   "name": "python",
   "nbconvert_exporter": "python",
   "pygments_lexer": "ipython3",
   "version": "3.7.3"
  }
 },
 "nbformat": 4,
 "nbformat_minor": 2
}
