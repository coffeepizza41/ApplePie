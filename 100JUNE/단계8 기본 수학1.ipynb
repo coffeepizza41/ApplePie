{
 "cells": [
  {
   "cell_type": "markdown",
   "metadata": {},
   "source": [
    "# 손익분기점(*)"
   ]
  },
  {
   "cell_type": "code",
   "execution_count": 13,
   "metadata": {},
   "outputs": [
    {
     "name": "stdout",
     "output_type": "stream",
     "text": [
      "1000 70 170\n",
      "11\n"
     ]
    }
   ],
   "source": [
    "# a; 고정비용, b; 가변비용, c; 노트북 가격, n; 노트북 개수\n",
    "a,b,c = map(int,input().split())\n",
    "\n",
    "# 손익분기점; '총 수익 > 총 비용'이 되는 최초의 노트북 개수 \n",
    "n = 1\n",
    "while c*n <= a+b*n:\n",
    "    if b >= c: # 가변비용 > 노트북 가격; 손익분기점 존재 X\n",
    "        n=-1\n",
    "        break\n",
    "    n += 1    \n",
    "    \n",
    "print(n)    "
   ]
  },
  {
   "cell_type": "code",
   "execution_count": 19,
   "metadata": {},
   "outputs": [
    {
     "name": "stdout",
     "output_type": "stream",
     "text": [
      "1000 71 170\n",
      "11\n"
     ]
    }
   ],
   "source": [
    "# 다른 풀이\n",
    "\n",
    "# 총 이익 = 총 수익 - 총 비용 = (c-b)n - a > 0\n",
    "# n > a/(c-b); 손익분기점은 a/(c-b) 정수 부분 + 1\n",
    "\n",
    "a,b,c = map(int,input().split())\n",
    "\n",
    "if b>=c:\n",
    "    n=-1\n",
    "else:\n",
    "    n=int(a/(c-b))+1\n",
    "    \n",
    "print(n)    "
   ]
  },
  {
   "cell_type": "markdown",
   "metadata": {},
   "source": [
    "# 벌집"
   ]
  },
  {
   "cell_type": "code",
   "execution_count": null,
   "metadata": {},
   "outputs": [],
   "source": []
  },
  {
   "cell_type": "markdown",
   "metadata": {},
   "source": [
    "# 분수 찾기"
   ]
  },
  {
   "cell_type": "code",
   "execution_count": null,
   "metadata": {},
   "outputs": [],
   "source": []
  },
  {
   "cell_type": "markdown",
   "metadata": {},
   "source": [
    "# 달팽이는 올라가고 싶다"
   ]
  },
  {
   "cell_type": "code",
   "execution_count": null,
   "metadata": {},
   "outputs": [],
   "source": []
  },
  {
   "cell_type": "markdown",
   "metadata": {},
   "source": [
    "# ACM 호텔"
   ]
  },
  {
   "cell_type": "code",
   "execution_count": null,
   "metadata": {},
   "outputs": [],
   "source": [
    "# 걷는 거리가 가장 짧도록 방 배정 \n",
    "\n",
    "\n",
    "\n",
    "\n",
    "\n",
    "\n",
    "\n"
   ]
  },
  {
   "cell_type": "markdown",
   "metadata": {},
   "source": [
    "# 부녀회장이 될테야"
   ]
  },
  {
   "cell_type": "code",
   "execution_count": 2,
   "metadata": {},
   "outputs": [
    {
     "ename": "SyntaxError",
     "evalue": "unexpected EOF while parsing (<ipython-input-2-71e91f8cc995>, line 6)",
     "output_type": "error",
     "traceback": [
      "\u001b[1;36m  File \u001b[1;32m\"<ipython-input-2-71e91f8cc995>\"\u001b[1;36m, line \u001b[1;32m6\u001b[0m\n\u001b[1;33m    for i in range(T):\u001b[0m\n\u001b[1;37m                      ^\u001b[0m\n\u001b[1;31mSyntaxError\u001b[0m\u001b[1;31m:\u001b[0m unexpected EOF while parsing\n"
     ]
    }
   ],
   "source": [
    "# a층 b호; (a-1)층의 1호부터 b호까지 사람들 수의 합만큼 살아야 함\n",
    "# 0층 i호; i명\n",
    "\n",
    "for i in range(k): # 0층부터 (k-1)층까지\n",
    "    for j in range(1,n+1); # 1호부터 n호까지\n",
    "        \n",
    "    "
   ]
  },
  {
   "cell_type": "markdown",
   "metadata": {},
   "source": [
    "# 설탕 배달"
   ]
  },
  {
   "cell_type": "code",
   "execution_count": 12,
   "metadata": {},
   "outputs": [
    {
     "name": "stdout",
     "output_type": "stream",
     "text": [
      "11\n",
      "-1\n"
     ]
    }
   ],
   "source": [
    "# N킬로그램 배달 시 필요한 봉지 개수\n",
    "# 봉지 종류: 3kg/5kg\n",
    "\n",
    "N = int(input()) # N킬로그램 입력\n",
    "\n",
    "if N%5 == 0:\n",
    "    a = N//5\n",
    "    b = 0\n",
    "    print(a+b)\n",
    "elif N%3 == 0:\n",
    "    a = 0\n",
    "    b = N//3\n",
    "    print(a+b)\n",
    "else:\n",
    "    a = N//5\n",
    "    b = (N%5)//3\n",
    "    if 5*a + 3*b == N:\n",
    "        print(a+b)\n",
    "    else: \n",
    "        print(-1)\n",
    "        "
   ]
  },
  {
   "cell_type": "markdown",
   "metadata": {},
   "source": [
    "# 큰 수 A+B"
   ]
  },
  {
   "cell_type": "code",
   "execution_count": 2,
   "metadata": {},
   "outputs": [
    {
     "name": "stdout",
     "output_type": "stream",
     "text": [
      "9223372036854775807 9223372036854775808\n",
      "18446744073709551615\n"
     ]
    }
   ],
   "source": [
    "a, b = map(int,input().split())\n",
    "print(a+b)"
   ]
  },
  {
   "cell_type": "markdown",
   "metadata": {},
   "source": [
    "# Fly me to the Alpha Centauri"
   ]
  },
  {
   "cell_type": "code",
   "execution_count": null,
   "metadata": {},
   "outputs": [],
   "source": []
  }
 ],
 "metadata": {
  "kernelspec": {
   "display_name": "Python 3",
   "language": "python",
   "name": "python3"
  },
  "language_info": {
   "codemirror_mode": {
    "name": "ipython",
    "version": 3
   },
   "file_extension": ".py",
   "mimetype": "text/x-python",
   "name": "python",
   "nbconvert_exporter": "python",
   "pygments_lexer": "ipython3",
   "version": "3.7.3"
  }
 },
 "nbformat": 4,
 "nbformat_minor": 2
}
