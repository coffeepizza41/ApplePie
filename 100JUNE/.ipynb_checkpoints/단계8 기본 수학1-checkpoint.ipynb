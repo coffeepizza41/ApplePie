{
 "cells": [
  {
   "cell_type": "markdown",
   "metadata": {},
   "source": [
    "# 손익분기점(*)"
   ]
  },
  {
   "cell_type": "code",
   "execution_count": 13,
   "metadata": {},
   "outputs": [
    {
     "name": "stdout",
     "output_type": "stream",
     "text": [
      "1000 70 170\n",
      "11\n"
     ]
    }
   ],
   "source": [
    "# a; 고정비용, b; 가변비용, c; 노트북 가격, n; 노트북 개수\n",
    "a,b,c = map(int,input().split())\n",
    "\n",
    "# 손익분기점; '총 수익 > 총 비용'이 되는 최초의 노트북 개수 \n",
    "n = 1\n",
    "while c*n <= a+b*n:\n",
    "    if b >= c: # 가변비용 > 노트북 가격; 손익분기점 존재 X\n",
    "        n=-1\n",
    "        break\n",
    "    n += 1    \n",
    "    \n",
    "print(n)    "
   ]
  },
  {
   "cell_type": "code",
   "execution_count": 19,
   "metadata": {},
   "outputs": [
    {
     "name": "stdout",
     "output_type": "stream",
     "text": [
      "1000 71 170\n",
      "11\n"
     ]
    }
   ],
   "source": [
    "# 다른 풀이\n",
    "\n",
    "# 총 이익 = 총 수익 - 총 비용 = (c-b)n - a > 0\n",
    "# n > a/(c-b); 손익분기점은 a/(c-b) 정수 부분 + 1\n",
    "\n",
    "a,b,c = map(int,input().split())\n",
    "\n",
    "if b>=c:\n",
    "    n=-1\n",
    "else:\n",
    "    n=int(a/(c-b))+1\n",
    "    \n",
    "print(n)    "
   ]
  },
  {
   "cell_type": "markdown",
   "metadata": {},
   "source": [
    "# 벌집"
   ]
  },
  {
   "cell_type": "code",
   "execution_count": 27,
   "metadata": {},
   "outputs": [
    {
     "name": "stdout",
     "output_type": "stream",
     "text": [
      "13\n",
      "3\n"
     ]
    }
   ],
   "source": [
    "# 벌집의 중앙에서 N번 방까지 지나치는 최소 방의 개수\n",
    "\n",
    "n = int(input())\n",
    "\n",
    "if n == 1:\n",
    "    print(1)\n",
    "else:\n",
    "    n = n - 1\n",
    "    i = 0\n",
    "    while n > 0:\n",
    "        i += 1\n",
    "        n -= 6*i\n",
    "    print(i+1)"
   ]
  },
  {
   "cell_type": "markdown",
   "metadata": {},
   "source": [
    "# 분수 찾기"
   ]
  },
  {
   "cell_type": "code",
   "execution_count": null,
   "metadata": {},
   "outputs": [],
   "source": [
    "# 해당 순서의 분수 출력 \n",
    "\n",
    "\n",
    "\n",
    "\n"
   ]
  },
  {
   "cell_type": "markdown",
   "metadata": {},
   "source": [
    "# 달팽이는 올라가고 싶다(*)"
   ]
  },
  {
   "cell_type": "code",
   "execution_count": 4,
   "metadata": {},
   "outputs": [
    {
     "name": "stdout",
     "output_type": "stream",
     "text": [
      "100 99 10000\n",
      "9901\n"
     ]
    }
   ],
   "source": [
    "# 시간초과\n",
    "\n",
    "# 높이 v, 달팽이 높이 m\n",
    "# 낮 +a, 밤 -b\n",
    "\n",
    "a, b, v = map(int,input().split())\n",
    "\n",
    "i = 0; m = 0 \n",
    "while m < v: \n",
    "    i += 1\n",
    "    m += a \n",
    "    if m >= v:\n",
    "        break\n",
    "    else:\n",
    "        m -= b\n",
    "print(i)\n",
    "\n",
    "i += 1\n",
    "m += a"
   ]
  },
  {
   "cell_type": "code",
   "execution_count": 7,
   "metadata": {},
   "outputs": [
    {
     "name": "stdout",
     "output_type": "stream",
     "text": [
      "100 99 1000\n",
      "901\n"
     ]
    }
   ],
   "source": [
    "# 디버깅(*)\n",
    "\n",
    "# 달팽이가 하루에 올라가는 높이; a-b\n",
    "# 정상에 도착한 날에는 미끄러지지 않음\n",
    "# v = n*(a-b) + b <=> v-b = n*(a-b)\n",
    "\n",
    "a, b, v = map(int,input().split())\n",
    "n = (v-b)//(a-b)\n",
    "\n",
    "if (v-b)%(a-b) == 0:\n",
    "    print(n)\n",
    "else:\n",
    "    print(n+1) "
   ]
  },
  {
   "cell_type": "code",
   "execution_count": 16,
   "metadata": {},
   "outputs": [
    {
     "name": "stdout",
     "output_type": "stream",
     "text": [
      "100 99 10000\n",
      "9901\n"
     ]
    }
   ],
   "source": [
    "# 다른 풀이(*)\n",
    "\n",
    "# 마지막 날은 낮에 올라간 값이 끝임(정상에 도달하면 안 내려감)\n",
    "# 따라서 v에서 b를 뺀 값으로 계산\n",
    "# 즉, 매일 (v-b)/(a-b)만큼씩 올라감\n",
    "\n",
    "import math\n",
    "\n",
    "a, b, v = map(int,input().split())\n",
    "n = math.ceil((v-b)/(a-b))\n",
    "print(n)"
   ]
  },
  {
   "cell_type": "markdown",
   "metadata": {},
   "source": [
    "## cf. ceil, floor, round"
   ]
  },
  {
   "cell_type": "code",
   "execution_count": 15,
   "metadata": {},
   "outputs": [
    {
     "data": {
      "text/plain": [
       "30.0"
      ]
     },
     "execution_count": 15,
     "metadata": {},
     "output_type": "execute_result"
    }
   ],
   "source": [
    "# ceil(); 올림\n",
    "# floor(); 내림\n",
    "# round(); 반올림\n",
    "\n",
    "import math\n",
    "\n",
    "math.ceil(-3.14)\n",
    "math.ceil(3.14)\n",
    "\n",
    "math.floor(-3.14)\n",
    "math.floor(3.14)\n",
    "\n",
    "round(3.141592) # 디폴트; 소수 첫째자리에서 반올림\n",
    "round(3.141592, 2) # 소수 2번째 자리까지 "
   ]
  },
  {
   "cell_type": "markdown",
   "metadata": {},
   "source": [
    "# ACM 호텔"
   ]
  },
  {
   "cell_type": "code",
   "execution_count": 9,
   "metadata": {
    "scrolled": true
   },
   "outputs": [
    {
     "name": "stdout",
     "output_type": "stream",
     "text": [
      "5 1 6\n",
      "2\n"
     ]
    }
   ],
   "source": [
    "# 걷는 거리가 가장 짧도록 방 배정 \n"
   ]
  },
  {
   "cell_type": "code",
   "execution_count": null,
   "metadata": {},
   "outputs": [],
   "source": []
  },
  {
   "cell_type": "markdown",
   "metadata": {},
   "source": [
    "# 부녀회장이 될테야"
   ]
  },
  {
   "cell_type": "code",
   "execution_count": 2,
   "metadata": {
    "scrolled": true
   },
   "outputs": [
    {
     "ename": "SyntaxError",
     "evalue": "unexpected EOF while parsing (<ipython-input-2-71e91f8cc995>, line 6)",
     "output_type": "error",
     "traceback": [
      "\u001b[1;36m  File \u001b[1;32m\"<ipython-input-2-71e91f8cc995>\"\u001b[1;36m, line \u001b[1;32m6\u001b[0m\n\u001b[1;33m    for i in range(T):\u001b[0m\n\u001b[1;37m                      ^\u001b[0m\n\u001b[1;31mSyntaxError\u001b[0m\u001b[1;31m:\u001b[0m unexpected EOF while parsing\n"
     ]
    }
   ],
   "source": [
    "# k층 n호; (k-1)층의 1호~n호 사람들 수의 합\n",
    "    "
   ]
  },
  {
   "cell_type": "markdown",
   "metadata": {},
   "source": [
    "# 설탕 배달"
   ]
  },
  {
   "cell_type": "code",
   "execution_count": 12,
   "metadata": {},
   "outputs": [
    {
     "name": "stdout",
     "output_type": "stream",
     "text": [
      "11\n",
      "-1\n"
     ]
    }
   ],
   "source": [
    "# N킬로그램 배달 시 필요한 봉지 개수\n",
    "# 봉지 종류: 3kg/5kg\n",
    "\n",
    "N = int(input()) # N킬로그램 입력\n",
    "\n",
    "if N%5 == 0:\n",
    "    a = N//5\n",
    "    b = 0\n",
    "    print(a+b)\n",
    "elif N%3 == 0:\n",
    "    a = 0\n",
    "    b = N//3\n",
    "    print(a+b)\n",
    "else:\n",
    "    a = N//5\n",
    "    b = (N%5)//3\n",
    "    if 5*a + 3*b == N:\n",
    "        print(a+b)\n",
    "    else: \n",
    "        print(-1)"
   ]
  },
  {
   "cell_type": "markdown",
   "metadata": {},
   "source": [
    "# 큰 수 A+B"
   ]
  },
  {
   "cell_type": "code",
   "execution_count": 2,
   "metadata": {},
   "outputs": [
    {
     "name": "stdout",
     "output_type": "stream",
     "text": [
      "9223372036854775807 9223372036854775808\n",
      "18446744073709551615\n"
     ]
    }
   ],
   "source": [
    "a, b = map(int,input().split())\n",
    "print(a+b)"
   ]
  },
  {
   "cell_type": "markdown",
   "metadata": {},
   "source": [
    "# Fly me to the Alpha Centauri"
   ]
  },
  {
   "cell_type": "code",
   "execution_count": null,
   "metadata": {},
   "outputs": [],
   "source": []
  }
 ],
 "metadata": {
  "kernelspec": {
   "display_name": "Python 3",
   "language": "python",
   "name": "python3"
  },
  "language_info": {
   "codemirror_mode": {
    "name": "ipython",
    "version": 3
   },
   "file_extension": ".py",
   "mimetype": "text/x-python",
   "name": "python",
   "nbconvert_exporter": "python",
   "pygments_lexer": "ipython3",
   "version": "3.7.3"
  }
 },
 "nbformat": 4,
 "nbformat_minor": 2
}
