{
 "cells": [
  {
   "cell_type": "markdown",
   "metadata": {},
   "source": [
    "# 사분면 고르기"
   ]
  },
  {
   "cell_type": "code",
   "execution_count": 4,
   "metadata": {},
   "outputs": [
    {
     "name": "stdout",
     "output_type": "stream",
     "text": [
      "9\n",
      "-13\n",
      "4\n"
     ]
    }
   ],
   "source": [
    "# 1. (x,y) 입력받기\n",
    "x = int(input())\n",
    "y = int(input())\n",
    "\n",
    "# 2. 사분면 번호 출력 \n",
    "if x>0 and y>0:\n",
    "    print(\"1\")\n",
    "elif x<0 and y>0:\n",
    "    print(\"2\")\n",
    "elif x<0 and y<0:\n",
    "    print(\"3\")\n",
    "else:\n",
    "    print(\"4\")"
   ]
  },
  {
   "cell_type": "markdown",
   "metadata": {},
   "source": [
    "# 시험 성적"
   ]
  },
  {
   "cell_type": "code",
   "execution_count": 7,
   "metadata": {},
   "outputs": [
    {
     "name": "stdout",
     "output_type": "stream",
     "text": [
      "100\n",
      "A\n"
     ]
    }
   ],
   "source": [
    "score = int(input())\n",
    "\n",
    "if score>=90 and score<=100:\n",
    "    print(\"A\")\n",
    "elif score>=80 and score<=89:\n",
    "    print(\"B\")\n",
    "elif score>=70 and score<=79:\n",
    "    print(\"C\")\n",
    "elif score>=60 and score<=69:\n",
    "    print(\"D\")\n",
    "else:\n",
    "    print(\"F\")"
   ]
  },
  {
   "cell_type": "markdown",
   "metadata": {},
   "source": [
    "# 윤년"
   ]
  },
  {
   "cell_type": "code",
   "execution_count": 13,
   "metadata": {},
   "outputs": [
    {
     "name": "stdout",
     "output_type": "stream",
     "text": [
      "2020\n",
      "1\n"
     ]
    }
   ],
   "source": [
    "# 윤년; (연도가 4의 배수 and 100의 배수가 아님) or 400의 배수\n",
    "\n",
    "year = int(input())\n",
    "\n",
    "if (year%4==0 and year%100!=0) or (year%400==0):\n",
    "    print(1)\n",
    "else:\n",
    "    print(0)"
   ]
  },
  {
   "cell_type": "markdown",
   "metadata": {},
   "source": [
    "# 두 수 비교하기"
   ]
  },
  {
   "cell_type": "code",
   "execution_count": 17,
   "metadata": {
    "scrolled": true
   },
   "outputs": [
    {
     "name": "stdout",
     "output_type": "stream",
     "text": [
      "5 5\n",
      "==\n"
     ]
    }
   ],
   "source": [
    "a,b = map(int,input().split())\n",
    "\n",
    "if a>b:\n",
    "    print(\">\")\n",
    "elif a<b:\n",
    "    print(\"<\")\n",
    "else:\n",
    "    print(\"==\")"
   ]
  },
  {
   "cell_type": "markdown",
   "metadata": {},
   "source": [
    "# 알람 시계(*)"
   ]
  },
  {
   "cell_type": "code",
   "execution_count": 33,
   "metadata": {},
   "outputs": [
    {
     "name": "stdout",
     "output_type": "stream",
     "text": [
      "0 45\n",
      "0 0\n"
     ]
    }
   ],
   "source": [
    "# 예를 들어, 12:30 -> 11:45 알람  \n",
    "# 알람의 시; hh' = hh-1\n",
    "# 알람의 분; mm' = 60-(45-mm) = mm+15\n",
    "    \n",
    "hh,mm = map(int,input().split())    \n",
    "    \n",
    "if hh==0: # 단, 자정 경의 알람은 전날에 맞춤\n",
    "    if (mm-45)>=0:\n",
    "        print(hh,mm-45)\n",
    "    else:    \n",
    "        print(23,mm+15)\n",
    "else:\n",
    "    if (mm-45)>=0:\n",
    "        print(hh,mm-45)\n",
    "    else:    \n",
    "        print(hh-1,mm+15)"
   ]
  },
  {
   "cell_type": "code",
   "execution_count": 39,
   "metadata": {},
   "outputs": [
    {
     "name": "stdout",
     "output_type": "stream",
     "text": [
      "0 25\n",
      "23 40\n"
     ]
    }
   ],
   "source": [
    "# 다른 풀이(*)\n",
    "\n",
    "h,m = map(int,input().split())\n",
    "t = h*60+m-45 # 시간을 분 단위로 바꾸기\n",
    "print(t//60%24, t%60) # 시각(h); t를 60으로 나눈 몫을 24로 나눈 나머지\n",
    "                      # 분(m); t를 60으로 나눈 나머지     "
   ]
  }
 ],
 "metadata": {
  "kernelspec": {
   "display_name": "Python 3",
   "language": "python",
   "name": "python3"
  },
  "language_info": {
   "codemirror_mode": {
    "name": "ipython",
    "version": 3
   },
   "file_extension": ".py",
   "mimetype": "text/x-python",
   "name": "python",
   "nbconvert_exporter": "python",
   "pygments_lexer": "ipython3",
   "version": "3.7.3"
  }
 },
 "nbformat": 4,
 "nbformat_minor": 2
}
