{
 "cells": [
  {
   "cell_type": "markdown",
   "metadata": {},
   "source": [
    "# 정수 N개의 합"
   ]
  },
  {
   "cell_type": "code",
   "execution_count": 8,
   "metadata": {},
   "outputs": [
    {
     "data": {
      "text/plain": [
       "15"
      ]
     },
     "execution_count": 8,
     "metadata": {},
     "output_type": "execute_result"
    }
   ],
   "source": [
    "a = [1,2,3,4,5]\n",
    "def solve(li):\n",
    "    return(sum(li))\n",
    "\n",
    "solve(a)"
   ]
  },
  {
   "cell_type": "markdown",
   "metadata": {},
   "source": [
    "## cf. 입력값의 개수를 모를 때"
   ]
  },
  {
   "cell_type": "code",
   "execution_count": null,
   "metadata": {},
   "outputs": [],
   "source": [
    "# 함수이름(*매개변수); 여러 개의 입력값을 받음\n",
    "\n",
    "def addn(*n): \n",
    "    res = 0\n",
    "    for i in n:\n",
    "        res += i\n",
    "    return res\n",
    "        \n",
    "addn(1,2,3)\n",
    "addn(1,2,3,4,5)"
   ]
  },
  {
   "cell_type": "markdown",
   "metadata": {},
   "source": [
    "# 셀프 넘버(*)"
   ]
  },
  {
   "cell_type": "code",
   "execution_count": null,
   "metadata": {},
   "outputs": [],
   "source": [
    "# 셀프넘버; 생성자가 없는 수\n",
    "# 생성자가 있는 수; d(n)의 결과값\n",
    "\n",
    "num_list = list(range(1,10001)) # 전체 숫자리스트\n",
    "del_list = [] # 제거할 숫자를 담을 리스트\n",
    "\n",
    "for num in num_list:\n",
    "    for n in str(num): # 숫자형 변수를 자리별로 더하기(*)\n",
    "        num += int(n) # d(33)=33+3+3=39=num\n",
    "    if num <= 10000: # num은 생성자가 있는 수\n",
    "        del_list.append(num) # 삭제할 리스트에 추가\n",
    "\n",
    "for del_num in set(del_list): # 중복을 제거한 후\n",
    "    num_list.remove(del_num) # 전체리스트에서 생성자가 있는 수 제거\n",
    "    \n",
    "for self_num in num_list: # 생성자가 제거된 리스트 = 셀프넘버 리스트\n",
    "    print(self_num)"
   ]
  },
  {
   "cell_type": "markdown",
   "metadata": {},
   "source": [
    "# 한수"
   ]
  },
  {
   "cell_type": "code",
   "execution_count": 5,
   "metadata": {},
   "outputs": [
    {
     "data": {
      "text/plain": [
       "105"
      ]
     },
     "execution_count": 5,
     "metadata": {},
     "output_type": "execute_result"
    }
   ],
   "source": [
    "# 한수; 각 자리가 등차수열을 이루는 수\n",
    "# 등차수열; 연속된 두 수의 차이가 같음\n",
    "\n",
    "n = int(input())\n",
    "cnt = 0\n",
    "\n",
    "for i in range(1,n+1):\n",
    "    if len(str(i)) == 3: \n",
    "        a = i//100\n",
    "        b = (i%100)//10\n",
    "        c = (i%100)%10\n",
    "        if 2*b == a+c:\n",
    "            cnt += 1\n",
    "    elif len(str(i)) == 4:\n",
    "        cnt = cnt\n",
    "    else:\n",
    "        cnt += 1\n",
    "        \n",
    "print(cnt)"
   ]
  },
  {
   "cell_type": "code",
   "execution_count": 11,
   "metadata": {},
   "outputs": [
    {
     "data": {
      "text/plain": [
       "144"
      ]
     },
     "execution_count": 11,
     "metadata": {},
     "output_type": "execute_result"
    }
   ],
   "source": [
    "# 다른 풀이; by 함수\n",
    "\n",
    "def hansu_cnt(n): \n",
    "    cnt = 0\n",
    "    for i in range(1, n+1):\n",
    "        if len(str(i)) == 3: \n",
    "            a = i//100 # 백의 자리\n",
    "            b = (i%100)//10 # 십의 자리\n",
    "            c = (i%100)%10 # 일의 자리\n",
    "            if 2*b == a+c:\n",
    "                cnt += 1\n",
    "        elif len(str(i)) == 4:\n",
    "            cnt += 0 \n",
    "        else: \n",
    "            cnt += 1\n",
    "    return cnt\n",
    "            \n",
    "hansu_cnt(1000)"
   ]
  }
 ],
 "metadata": {
  "kernelspec": {
   "display_name": "Python 3",
   "language": "python",
   "name": "python3"
  },
  "language_info": {
   "codemirror_mode": {
    "name": "ipython",
    "version": 3
   },
   "file_extension": ".py",
   "mimetype": "text/x-python",
   "name": "python",
   "nbconvert_exporter": "python",
   "pygments_lexer": "ipython3",
   "version": "3.7.3"
  }
 },
 "nbformat": 4,
 "nbformat_minor": 2
}
