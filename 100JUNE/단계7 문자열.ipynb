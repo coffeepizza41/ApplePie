{
 "cells": [
  {
   "cell_type": "markdown",
   "metadata": {},
   "source": [
    "# 아스키 코드"
   ]
  },
  {
   "cell_type": "code",
   "execution_count": 12,
   "metadata": {},
   "outputs": [
    {
     "name": "stdout",
     "output_type": "stream",
     "text": [
      "z\n"
     ]
    },
    {
     "data": {
      "text/plain": [
       "122"
      ]
     },
     "execution_count": 12,
     "metadata": {},
     "output_type": "execute_result"
    }
   ],
   "source": [
    "a = input()\n",
    "print(ord(a)) "
   ]
  },
  {
   "cell_type": "markdown",
   "metadata": {},
   "source": [
    "## cf. chr(), ord()"
   ]
  },
  {
   "cell_type": "code",
   "execution_count": 9,
   "metadata": {},
   "outputs": [
    {
     "data": {
      "text/plain": [
       "126"
      ]
     },
     "execution_count": 9,
     "metadata": {},
     "output_type": "execute_result"
    }
   ],
   "source": [
    "# chr(); 아스키코드 -> 문자\n",
    "\n",
    "chr(65) # A\n",
    "chr(34) # \"\n",
    "chr(126) # ~\n",
    "\n",
    "# ord(); 문자 -> 아스키코드\n",
    "\n",
    "ord('A') # 65\n",
    "ord('\\\"') # 34\n",
    "ord('~') # 126"
   ]
  },
  {
   "cell_type": "markdown",
   "metadata": {},
   "source": [
    "# 숫자의 합"
   ]
  },
  {
   "cell_type": "code",
   "execution_count": 8,
   "metadata": {},
   "outputs": [
    {
     "name": "stdout",
     "output_type": "stream",
     "text": [
      "11\n",
      "10987654321\n",
      "46\n"
     ]
    }
   ],
   "source": [
    "N = int(input())\n",
    "num = input()\n",
    "tot = 0\n",
    "for i in num:\n",
    "    tot += int(i)\n",
    "print(tot)"
   ]
  },
  {
   "cell_type": "markdown",
   "metadata": {},
   "source": [
    "# 알파벳 찾기"
   ]
  },
  {
   "cell_type": "code",
   "execution_count": 34,
   "metadata": {},
   "outputs": [
    {
     "name": "stdout",
     "output_type": "stream",
     "text": [
      "baekjoon\n",
      "1 0 -1 -1 2 -1 -1 -1 -1 4 3 -1 -1 7 5 -1 -1 -1 -1 -1 -1 -1 -1 -1 -1 -1 "
     ]
    }
   ],
   "source": [
    "# 해당 알파벳이 처음 등장한 인덱스를 반환, 그 외 -1\n",
    "\n",
    "word = list(input())\n",
    "alphaList = [chr(c) for c in range(ord(\"a\"),ord(\"z\")+1)]\n",
    "\n",
    "for c in alphaList: # 알파벳에 대해서 돌림 \n",
    "    if c in word: # 만약 해당 알파벳이 단어에 들어있다면\n",
    "        print(word.index(c), end=\" \") # 단어에서의 인덱스를 반환\n",
    "    else: # 들어있지 않다면\n",
    "        print(-1, end=\" \") # -1 반환"
   ]
  },
  {
   "cell_type": "markdown",
   "metadata": {},
   "source": [
    "## cf. 알파벳 리스트 만들기(*)"
   ]
  },
  {
   "cell_type": "code",
   "execution_count": 23,
   "metadata": {},
   "outputs": [
    {
     "name": "stdout",
     "output_type": "stream",
     "text": [
      "['A', 'B', 'C', 'D', 'E', 'F', 'G', 'H', 'I', 'J', 'K', 'L', 'M', 'N', 'O', 'P', 'Q', 'R', 'S', 'T', 'U', 'V', 'W', 'X', 'Y', 'Z']\n"
     ]
    }
   ],
   "source": [
    "alphaList = [chr(c) for c in range(ord(\"A\"), ord(\"Z\")+1)]\n",
    "print(alphaList)"
   ]
  },
  {
   "cell_type": "markdown",
   "metadata": {},
   "source": [
    "## cf. index()"
   ]
  },
  {
   "cell_type": "code",
   "execution_count": 35,
   "metadata": {},
   "outputs": [
    {
     "data": {
      "text/plain": [
       "2"
      ]
     },
     "execution_count": 35,
     "metadata": {},
     "output_type": "execute_result"
    }
   ],
   "source": [
    "# index(알고싶은 요소): 리스트 요소의 위치(인덱스) 반환\n",
    "# 해당 요소가 '처음' 등장한 인덱스 반환!!!\n",
    "\n",
    "a = [1,2,\"가\",\"가\",\"나\"]\n",
    "a.index(\"가\")"
   ]
  },
  {
   "cell_type": "markdown",
   "metadata": {},
   "source": [
    "# 문자열 반복"
   ]
  },
  {
   "cell_type": "code",
   "execution_count": 21,
   "metadata": {},
   "outputs": [
    {
     "name": "stdout",
     "output_type": "stream",
     "text": [
      "2 \n",
      "3 abc\n",
      "5 ui\n",
      "aaabbbccc\n",
      "uuuuuiiiii\n"
     ]
    }
   ],
   "source": [
    "t = int(input())\n",
    "case = []; r=0; s=p=\"\"\n",
    "\n",
    "for i in range(t):\n",
    "    case.append(list(input().split()))\n",
    "\n",
    "for i in case:\n",
    "    r = int(i[0]) \n",
    "    s = i[1] \n",
    "    for j in s: \n",
    "        p += r*j\n",
    "    print(p)\n",
    "    p = \"\""
   ]
  },
  {
   "cell_type": "markdown",
   "metadata": {},
   "source": [
    "# 단어 공부(*)"
   ]
  },
  {
   "cell_type": "code",
   "execution_count": 25,
   "metadata": {},
   "outputs": [
    {
     "name": "stdout",
     "output_type": "stream",
     "text": [
      "marvel\n",
      "?\n"
     ]
    }
   ],
   "source": [
    "# 가장 많이 사용된 '알파벳' 출력 & 여러 개 존재하는 경우 '?'출력\n",
    "\n",
    "word = input().upper() # 대소문자 구분 X\n",
    "word2 = list(set(word)) # 중복 제거 for 각 알파벳별 빈도수\n",
    "\n",
    "cnt = [] # 각 알파벳별 빈도수를 담을 리스트\n",
    "for w in word2:\n",
    "    cnt.append(word.count(w)) # word에서의 개수\n",
    "\n",
    "if cnt.count(max(cnt)) > 1: # 만약 cnt의 최대값이 중복된다면\n",
    "    print(\"?\")\n",
    "else: # 그렇지 않으면 cnt의 최대값 인덱스에 해당하는 알파벳 반환\n",
    "    i = cnt.index(max(cnt))\n",
    "    print(word2[i]) # word2에서 뽑기"
   ]
  },
  {
   "cell_type": "markdown",
   "metadata": {},
   "source": [
    "## cf. get() "
   ]
  },
  {
   "cell_type": "code",
   "execution_count": 4,
   "metadata": {},
   "outputs": [
    {
     "data": {
      "text/plain": [
       "'no'"
      ]
     },
     "execution_count": 4,
     "metadata": {},
     "output_type": "execute_result"
    }
   ],
   "source": [
    "# get; key로 value 얻기\n",
    "# key가 없으면 None을 반환 cf. dic[key]; 오류\n",
    "# 아니면 원하는 값을 반환할 수도 있음\n",
    "\n",
    "a = {'name':'pey', 'phone':'0119993323', 'birth': '1118'}\n",
    "a.get('name')\n",
    "a.get('nokey', 'no') # 'nokey'라는 키가 없으므로 'no' 반환"
   ]
  },
  {
   "cell_type": "markdown",
   "metadata": {},
   "source": [
    "## cf. count()"
   ]
  },
  {
   "cell_type": "code",
   "execution_count": 13,
   "metadata": {},
   "outputs": [
    {
     "data": {
      "text/plain": [
       "0"
      ]
     },
     "execution_count": 13,
     "metadata": {},
     "output_type": "execute_result"
    }
   ],
   "source": [
    "# count(); 리스트에 포함된 요소의 개수\n",
    "\n",
    "a = [1,2,2,3,3,3]\n",
    "a.count(0)"
   ]
  },
  {
   "cell_type": "markdown",
   "metadata": {},
   "source": [
    "# 단어 개수"
   ]
  },
  {
   "cell_type": "code",
   "execution_count": 3,
   "metadata": {},
   "outputs": [
    {
     "name": "stdout",
     "output_type": "stream",
     "text": [
      "Teullinika Teullyeotzi \n",
      "2\n"
     ]
    }
   ],
   "source": [
    "word = input()\n",
    "print(len(word.split()))"
   ]
  },
  {
   "cell_type": "markdown",
   "metadata": {},
   "source": [
    "# 상수"
   ]
  },
  {
   "cell_type": "code",
   "execution_count": 24,
   "metadata": {},
   "outputs": [
    {
     "name": "stdout",
     "output_type": "stream",
     "text": [
      "123 456\n",
      "654\n"
     ]
    }
   ],
   "source": [
    "a,b = input().split() # str\n",
    "\n",
    "a2 = a[::-1]\n",
    "b2 = b[::-1]\n",
    "\n",
    "print(max(a2, b2))"
   ]
  },
  {
   "cell_type": "markdown",
   "metadata": {},
   "source": [
    "## cf. 문자열 거꾸로 읽기"
   ]
  },
  {
   "cell_type": "code",
   "execution_count": null,
   "metadata": {},
   "outputs": [],
   "source": [
    "# 1. reverse(); 리스트 뒤집기\n",
    "# 2. reversed(); 문자열 뒤집기\n",
    "# 3. [::-1]; 거꾸로 읽기 "
   ]
  },
  {
   "cell_type": "markdown",
   "metadata": {},
   "source": [
    "## cf. 문자열 삽입"
   ]
  },
  {
   "cell_type": "code",
   "execution_count": 21,
   "metadata": {},
   "outputs": [
    {
     "data": {
      "text/plain": [
       "'a b c d'"
      ]
     },
     "execution_count": 21,
     "metadata": {},
     "output_type": "execute_result"
    }
   ],
   "source": [
    "# \"연결기호\".join(문자열); 문자열을 원하는 기호로 연결\n",
    "\n",
    "\"\".join(\"abcd\")\n",
    "\",\".join(\"abcd\")\n",
    "\" \".join(\"abcd\")"
   ]
  },
  {
   "cell_type": "markdown",
   "metadata": {},
   "source": [
    "# 다이얼"
   ]
  },
  {
   "cell_type": "code",
   "execution_count": 29,
   "metadata": {},
   "outputs": [
    {
     "name": "stdout",
     "output_type": "stream",
     "text": [
      "UNUCIC\n",
      "36\n"
     ]
    }
   ],
   "source": [
    "# 전화를 걸기 위해 필요한 최소 시간\n",
    "# 1. 주어진 문자에 해당하는 다이얼 넘버\n",
    "# 2. 해당 넘버를 누르는데 필요한 시간\n",
    "\n",
    "word = input().upper()\n",
    "t = 0\n",
    "\n",
    "dic = {\"A\":3, \"B\":3, \"C\":3, \"D\":4, \"E\":4, \"F\":4,\n",
    "       \"G\":5, \"H\":5, \"I\":5, \"J\":6, \"K\":6, \"L\":6,\n",
    "       \"M\":7, \"N\":7, \"O\":7, \"P\":8, \"Q\":8, \"R\":8, \"S\":8,\n",
    "       \"T\":9, \"U\":9 ,\"V\":9, \"W\":10, \"X\":10, \"Y\":10, \"Z\":10}\n",
    "\n",
    "for w in word:\n",
    "    t += dic[w] \n",
    "print(t)"
   ]
  },
  {
   "cell_type": "code",
   "execution_count": 30,
   "metadata": {},
   "outputs": [
    {
     "name": "stdout",
     "output_type": "stream",
     "text": [
      "UNUCIC\n",
      "36\n"
     ]
    }
   ],
   "source": [
    "# 다른 풀이\n",
    "\n",
    "word = input().upper()\n",
    "dial = [\"ABC\",\"DEF\",\"GHI\",\"JKL\",\"MNO\",\"PQRS\",\"TUV\",\"WXYZ\"]\n",
    "time = 0\n",
    "\n",
    "for w in word: # 주어진 단어에 대해서\n",
    "    for d in dial: # 다이얼을 살펴봄\n",
    "        if w in d: # 만약 해당 글자가 다이얼에 포함됐다면\n",
    "            time += dial.index(d) + 3 # 시간은 (인덱스+3)\n",
    "            \n",
    "print(time)"
   ]
  },
  {
   "cell_type": "markdown",
   "metadata": {},
   "source": [
    "## cf. find()"
   ]
  },
  {
   "cell_type": "code",
   "execution_count": 33,
   "metadata": {},
   "outputs": [
    {
     "data": {
      "text/plain": [
       "-1"
      ]
     },
     "execution_count": 33,
     "metadata": {},
     "output_type": "execute_result"
    }
   ],
   "source": [
    "# find(); 문자가 처음 나온 위치 반환, 존재하지 않으면 -1 반환\n",
    "\n",
    "a = \"Python is the best choice\"\n",
    "a.find(\"a\") # -1 "
   ]
  },
  {
   "cell_type": "markdown",
   "metadata": {},
   "source": [
    "## cf. index()"
   ]
  },
  {
   "cell_type": "code",
   "execution_count": 76,
   "metadata": {},
   "outputs": [],
   "source": [
    "# index(); 문자가 처음 나온 위치 반환, 존재하지 않으면 오류\n",
    "\n",
    "a = \"Python is the best choice\"\n",
    "a.index(\"a\") # 오류"
   ]
  },
  {
   "cell_type": "markdown",
   "metadata": {},
   "source": [
    "# 크로아티아 알파벳"
   ]
  },
  {
   "cell_type": "code",
   "execution_count": 20,
   "metadata": {},
   "outputs": [
    {
     "name": "stdout",
     "output_type": "stream",
     "text": [
      "ljes=njak\n",
      "6\n"
     ]
    }
   ],
   "source": [
    "# 해당 단어가 몇 개의 크로아티아 알파벳으로 이루어졌는가\n",
    "\n",
    "w = input()\n",
    "\n",
    "for i in [\"c=\",\"c-\",\"dz=\",\"d-\",\"lj\",\"nj\",\"s=\",\"z=\"]:\n",
    "    w = w.replace(i,\"a\")\n",
    "    \n",
    "print(len(w))"
   ]
  },
  {
   "cell_type": "markdown",
   "metadata": {},
   "source": [
    "## cf. replace()"
   ]
  },
  {
   "cell_type": "code",
   "execution_count": 13,
   "metadata": {},
   "outputs": [
    {
     "name": "stdout",
     "output_type": "stream",
     "text": [
      "Life is too short\n"
     ]
    }
   ],
   "source": [
    "# replace(); 문자열 수정\n",
    "# 문자열 안에 없는 값을 바꾸려고해도 오류는 안 뜸\n",
    "\n",
    "a = \"Life is too short\"\n",
    "b = a.replace(\"short\",\"long\")\n",
    "print(b)"
   ]
  },
  {
   "cell_type": "markdown",
   "metadata": {},
   "source": [
    "# 그룹 단어 체커"
   ]
  },
  {
   "cell_type": "code",
   "execution_count": 63,
   "metadata": {},
   "outputs": [
    {
     "name": "stdout",
     "output_type": "stream",
     "text": [
      "3\n",
      "happy\n",
      "new\n",
      "python\n",
      "3\n"
     ]
    }
   ],
   "source": [
    "# 그룹 단어; 각 문자가 연속해서 나타나는 경우\n",
    "# 문자의 개수를 셌을 때 연속하는 만큼 존재하면 그룹 단어\n",
    "\n",
    "n = int(input())\n",
    "word = []\n",
    "cnt = 0\n",
    "\n",
    "for i in range(n):\n",
    "    word.append(input())\n",
    "\n",
    "for w in word:\n",
    "    no = 0\n",
    "    for c in w: \n",
    "        a = w.count(c) \n",
    "        b = c*a \n",
    "        if b not in w: \n",
    "            no += 1\n",
    "    if no == 0:\n",
    "        cnt += 1\n",
    "        \n",
    "print(cnt)"
   ]
  },
  {
   "cell_type": "code",
   "execution_count": 65,
   "metadata": {},
   "outputs": [
    {
     "name": "stdout",
     "output_type": "stream",
     "text": [
      "3\n",
      "newyewr\n",
      "abc\n",
      "haha\n",
      "1\n"
     ]
    }
   ],
   "source": [
    "# 다른 풀이(*)\n",
    "\n",
    "cnt = 0\n",
    "for i in range(int(input())):\n",
    "    word = input() \n",
    "    if list(word) == sorted(word, key=word.find): # key; 정렬할 기준\n",
    "        cnt += 1\n",
    "print(cnt)\n",
    "\n",
    "# sorted(word, key=word.find); 단어 순서대로 정렬 X, 글자가 찾아지는 순서대로 정렬\n",
    "# sorted(word, key=word.index); 단어 순서대로 정렬 X, 글자가 인덱스 순서대로 정렬"
   ]
  },
  {
   "cell_type": "markdown",
   "metadata": {},
   "source": [
    "## cf. count()"
   ]
  },
  {
   "cell_type": "code",
   "execution_count": 58,
   "metadata": {},
   "outputs": [
    {
     "data": {
      "text/plain": [
       "0"
      ]
     },
     "execution_count": 58,
     "metadata": {},
     "output_type": "execute_result"
    }
   ],
   "source": [
    "# count(); 문자 개수 세기\n",
    "\n",
    "a = \"hobby\"\n",
    "a.count(\"b\") # 2\n",
    "a.count(\"a\") # 0"
   ]
  },
  {
   "cell_type": "markdown",
   "metadata": {},
   "source": [
    "## cf. sort() vs sorted()"
   ]
  },
  {
   "cell_type": "code",
   "execution_count": 75,
   "metadata": {},
   "outputs": [
    {
     "name": "stdout",
     "output_type": "stream",
     "text": [
      "[1, 2, 3, 4, 5]\n",
      "[1, 3, 4, 5, 2]\n"
     ]
    }
   ],
   "source": [
    "# a.sort(); 문자열 정렬, 리스트 자체를 변경\n",
    "a = [1,3,4,5,2]\n",
    "a.sort() #  원래 리스트가 변경됨\n",
    "print(a)\n",
    "\n",
    "# sorted(a); 문자열 정렬, 새로운 리스트 반환 \n",
    "b = [1,3,4,5,2]\n",
    "sorted(b) # 새로운 리스트 생성\n",
    "print(b) # 원래 리스트는 그대로\n",
    "\n",
    "# key 매개변수; 특정 key를 기준으로 정렬"
   ]
  }
 ],
 "metadata": {
  "kernelspec": {
   "display_name": "Python 3",
   "language": "python",
   "name": "python3"
  },
  "language_info": {
   "codemirror_mode": {
    "name": "ipython",
    "version": 3
   },
   "file_extension": ".py",
   "mimetype": "text/x-python",
   "name": "python",
   "nbconvert_exporter": "python",
   "pygments_lexer": "ipython3",
   "version": "3.7.3"
  }
 },
 "nbformat": 4,
 "nbformat_minor": 2
}
